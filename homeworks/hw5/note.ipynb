{
 "cells": [
  {
   "cell_type": "markdown",
   "id": "2937ccce",
   "metadata": {},
   "source": [
    "# Question 1\n",
    "+ Install Pipenv\n",
    "+ What's the version of pipenv you installed?\n",
    "+ Use --version to find out\n",
    "# Answer: 2023.10.3\n"
   ]
  },
  {
   "cell_type": "code",
   "execution_count": 1,
   "id": "1d3283ec",
   "metadata": {},
   "outputs": [
    {
     "name": "stdout",
     "output_type": "stream",
     "text": [
      "\u001b[1mpipenv\u001b[0m, version 2023.10.3\r\n"
     ]
    }
   ],
   "source": [
    "!pipenv --version"
   ]
  },
  {
   "cell_type": "markdown",
   "id": "24fa2d62",
   "metadata": {},
   "source": [
    "# Question 2\n",
    "+ Use Pipenv to install Scikit-Learn version 1.3.1\n",
    "+ What's the first hash for scikit-learn you get in Pipfile.lock?\n",
    "# Answer: <h1 style=\"color:red;\">e0d12a0331eb3926e2e7c7c37be9118ab3619b518475b3c3897cdb40da98d9d9</h1>"
   ]
  },
  {
   "cell_type": "code",
   "execution_count": 8,
   "id": "c0abff79",
   "metadata": {},
   "outputs": [
    {
     "name": "stdout",
     "output_type": "stream",
     "text": [
      "{\r\n",
      "    \"_meta\": {\r\n",
      "        \"hash\": {\r\n",
      "            \"sha256\": \"e0d12a0331eb3926e2e7c7c37be9118ab3619b518475b3c3897cdb40da98d9d9\"\r\n",
      "        },\r\n",
      "        \"pipfile-spec\": 6,\r\n",
      "        \"requires\": {\r\n",
      "            \"python_version\": \"3.11\"\r\n",
      "        },\r\n",
      "        \"sources\": [\r\n",
      "            {\r\n",
      "                \"name\": \"pypi\",\r\n",
      "                \"url\": \"https://pypi.org/simple\",\r\n",
      "                \"verify_ssl\": true\r\n",
      "            }\r\n",
      "        ]\r\n",
      "    },\r\n",
      "    \"default\": {\r\n",
      "        \"joblib\": {\r\n",
      "            \"hashes\": [\r\n",
      "                \"sha256:92f865e621e17784e7955080b6d042489e3b8e294949cc44c6eac304f59772b1\",\r\n",
      "                \"sha256:ef4331c65f239985f3f2220ecc87db222f08fd22097a3dd5698f693875f8cbb9\"\r\n",
      "            ],\r\n",
      "            \"markers\": \"python_version >= '3.7'\",\r\n",
      "            \"version\": \"==1.3.2\"\r\n",
      "        },\r\n",
      "        \"numpy\": {\r\n",
      "            \"hashes\": [\r\n",
      "                \"sha256:06934e1a22c54636a059215d6da99e23286424f316fddd979f5071093b648668\",\r\n",
      "                \"sha256:1c59c046c31a43310ad0199d6299e59f57a289e22f0f36951ced1c9eac3665b9\",\r\n",
      "                \"sha256:1d1bd82d539607951cac963388534da3b7ea0e18b149a53cf883d8f699178c0f\",\r\n",
      "                \"sha256:1e11668d6f756ca5ef534b5be8653d16c5352cbb210a5c2a79ff288e937010d5\",\r\n",
      "                \"sha256:3649d566e2fc067597125428db15d60eb42a4e0897fc48d28cb75dc2e0454e53\",\r\n",
      "                \"sha256:59227c981d43425ca5e5c01094d59eb14e8772ce6975d4b2fc1e106a833d5ae2\",\r\n",
      "                \"sha256:6081aed64714a18c72b168a9276095ef9155dd7888b9e74b5987808f0dd0a974\",\r\n",
      "                \"sha256:6965888d65d2848e8768824ca8288db0a81263c1efccec881cb35a0d805fcd2f\",\r\n",
      "                \"sha256:76ff661a867d9272cd2a99eed002470f46dbe0943a5ffd140f49be84f68ffc42\",\r\n",
      "                \"sha256:78ca54b2f9daffa5f323f34cdf21e1d9779a54073f0018a3094ab907938331a2\",\r\n",
      "                \"sha256:82e871307a6331b5f09efda3c22e03c095d957f04bf6bc1804f30048d0e5e7af\",\r\n",
      "                \"sha256:8ab9163ca8aeb7fd32fe93866490654d2f7dda4e61bc6297bf72ce07fdc02f67\",\r\n",
      "                \"sha256:9696aa2e35cc41e398a6d42d147cf326f8f9d81befcb399bc1ed7ffea339b64e\",\r\n",
      "                \"sha256:97e5d6a9f0702c2863aaabf19f0d1b6c2628fbe476438ce0b5ce06e83085064c\",\r\n",
      "                \"sha256:9f42284ebf91bdf32fafac29d29d4c07e5e9d1af862ea73686581773ef9e73a7\",\r\n",
      "                \"sha256:a03fb25610ef560a6201ff06df4f8105292ba56e7cdd196ea350d123fc32e24e\",\r\n",
      "                \"sha256:a5b411040beead47a228bde3b2241100454a6abde9df139ed087bd73fc0a4908\",\r\n",
      "                \"sha256:af22f3d8e228d84d1c0c44c1fbdeb80f97a15a0abe4f080960393a00db733b66\",\r\n",
      "                \"sha256:afd5ced4e5a96dac6725daeb5242a35494243f2239244fad10a90ce58b071d24\",\r\n",
      "                \"sha256:b9d45d1dbb9de84894cc50efece5b09939752a2d75aab3a8b0cef6f3a35ecd6b\",\r\n",
      "                \"sha256:bb894accfd16b867d8643fc2ba6c8617c78ba2828051e9a69511644ce86ce83e\",\r\n",
      "                \"sha256:c8c6c72d4a9f831f328efb1312642a1cafafaa88981d9ab76368d50d07d93cbe\",\r\n",
      "                \"sha256:cd7837b2b734ca72959a1caf3309457a318c934abef7a43a14bb984e574bbb9a\",\r\n",
      "                \"sha256:cdd9ec98f0063d93baeb01aad472a1a0840dee302842a2746a7a8e92968f9575\",\r\n",
      "                \"sha256:d1cfc92db6af1fd37a7bb58e55c8383b4aa1ba23d012bdbba26b4bcca45ac297\",\r\n",
      "                \"sha256:d1d2c6b7dd618c41e202c59c1413ef9b2c8e8a15f5039e344af64195459e3104\",\r\n",
      "                \"sha256:d2984cb6caaf05294b8466966627e80bf6c7afd273279077679cb010acb0e5ab\",\r\n",
      "                \"sha256:d58e8c51a7cf43090d124d5073bc29ab2755822181fcad978b12e144e5e5a4b3\",\r\n",
      "                \"sha256:d78f269e0c4fd365fc2992c00353e4530d274ba68f15e968d8bc3c69ce5f5244\",\r\n",
      "                \"sha256:dcfaf015b79d1f9f9c9fd0731a907407dc3e45769262d657d754c3a028586124\",\r\n",
      "                \"sha256:e44ccb93f30c75dfc0c3aa3ce38f33486a75ec9abadabd4e59f114994a9c4617\",\r\n",
      "                \"sha256:e509cbc488c735b43b5ffea175235cec24bbc57b227ef1acc691725beb230d1c\"\r\n",
      "            ],\r\n",
      "            \"markers\": \"python_version < '3.13' and python_version >= '3.9'\",\r\n",
      "            \"version\": \"==1.26.1\"\r\n",
      "        },\r\n",
      "        \"scikit-learn\": {\r\n",
      "            \"hashes\": [\r\n",
      "                \"sha256:0c275a06c5190c5ce00af0acbb61c06374087949f643ef32d355ece12c4db043\",\r\n",
      "                \"sha256:0ce9233cdf0cdcf0858a5849d306490bf6de71fa7603a3835124e386e62f2311\",\r\n",
      "                \"sha256:0e1aa8f206d0de814b81b41d60c1ce31f7f2c7354597af38fae46d9c47c45122\",\r\n",
      "                \"sha256:14e8775eba072ab10866a7e0596bc9906873e22c4c370a651223372eb62de180\",\r\n",
      "                \"sha256:1a231cced3ee3fa04756b4a7ab532dc9417acd581a330adff5f2c01ac2831fcf\",\r\n",
      "                \"sha256:1ec668ce003a5b3d12d020d2cde0abd64b262ac5f098b5c84cf9657deb9996a8\",\r\n",
      "                \"sha256:3153612ff8d36fa4e35ef8b897167119213698ea78f3fd130b4068e6f8d2da5a\",\r\n",
      "                \"sha256:4d379f2b34096105a96bd857b88601dffe7389bd55750f6f29aaa37bc6272eb5\",\r\n",
      "                \"sha256:52b77cc08bd555969ec5150788ed50276f5ef83abb72e6f469c5b91a0009bbca\",\r\n",
      "                \"sha256:58b0c2490eff8355dc26e884487bf8edaccf2ba48d09b194fb2f3a026dd64f9d\",\r\n",
      "                \"sha256:66f7bb1fec37d65f4ef85953e1df5d3c98a0f0141d394dcdaead5a6de9170347\",\r\n",
      "                \"sha256:6bb9490fdb8e7e00f1354621689187bef3cab289c9b869688f805bf724434755\",\r\n",
      "                \"sha256:7d8dee8c1f40eeba49a85fe378bdf70a07bb64aba1a08fda1e0f48d27edfc3e6\",\r\n",
      "                \"sha256:8454d57a22d856f1fbf3091bd86f9ebd4bff89088819886dc0c72f47a6c30652\",\r\n",
      "                \"sha256:845f81c7ceb4ea6bac64ab1c9f2ce8bef0a84d0f21f3bece2126adcc213dfecd\",\r\n",
      "                \"sha256:8d993fb70a1d78c9798b8f2f28705bfbfcd546b661f9e2e67aa85f81052b9c53\",\r\n",
      "                \"sha256:9147a3a4df4d401e618713880be023e36109c85d8569b3bf5377e6cd3fecdeac\",\r\n",
      "                \"sha256:a15d964d9eb181c79c190d3dbc2fff7338786bf017e9039571418a1d53dab236\",\r\n",
      "                \"sha256:a683394bc3f80b7c312c27f9b14ebea7766b1f0a34faf1a2e9158d80e860ec26\",\r\n",
      "                \"sha256:a7135a03af71138669f19bc96e7d0cc8081aed4b3565cc3b131135d65fc642ba\",\r\n",
      "                \"sha256:c413c2c850241998168bbb3bd1bb59ff03b1195a53864f0b80ab092071af6028\",\r\n",
      "                \"sha256:c6448c37741145b241eeac617028ba6ec2119e1339b1385c9720dae31367f2be\",\r\n",
      "                \"sha256:ccbbedae99325628c1d1cbe3916b7ef58a1ce949672d8d39c8b190e10219fd32\",\r\n",
      "                \"sha256:d2cd3634695ad192bf71645702b3df498bd1e246fc2d529effdb45a06ab028b4\",\r\n",
      "                \"sha256:ef540e09873e31569bc8b02c8a9f745ee04d8e1263255a15c9969f6f5caa627f\",\r\n",
      "                \"sha256:f66eddfda9d45dd6cadcd706b65669ce1df84b8549875691b1f403730bdef217\"\r\n",
      "            ],\r\n",
      "            \"index\": \"pypi\",\r\n",
      "            \"markers\": \"python_version >= '3.8'\",\r\n",
      "            \"version\": \"==1.3.1\"\r\n",
      "        },\r\n",
      "        \"scipy\": {\r\n",
      "            \"hashes\": [\r\n",
      "                \"sha256:00f325434b6424952fbb636506f0567898dca7b0f7654d48f1c382ea338ce9a3\",\r\n",
      "                \"sha256:033c3fd95d55012dd1148b201b72ae854d5086d25e7c316ec9850de4fe776929\",\r\n",
      "                \"sha256:0d3a136ae1ff0883fffbb1b05b0b2fea251cb1046a5077d0b435a1839b3e52b7\",\r\n",
      "                \"sha256:15f237e890c24aef6891c7d008f9ff7e758c6ef39a2b5df264650eb7900403c0\",\r\n",
      "                \"sha256:370f569c57e1d888304052c18e58f4a927338eafdaef78613c685ca2ea0d1fa0\",\r\n",
      "                \"sha256:3e1a8a4657673bfae1e05e1e1d6e94b0cabe5ed0c7c144c8aa7b7dbb774ce5c1\",\r\n",
      "                \"sha256:4b4bb134c7aa457e26cc6ea482b016fef45db71417d55cc6d8f43d799cdf9ef2\",\r\n",
      "                \"sha256:5305792c7110e32ff155aed0df46aa60a60fc6e52cd4ee02cdeb67eaccd5356e\",\r\n",
      "                \"sha256:5664e364f90be8219283eeb844323ff8cd79d7acbd64e15eb9c46b9bc7f6a42a\",\r\n",
      "                \"sha256:5f290cf561a4b4edfe8d1001ee4be6da60c1c4ea712985b58bf6bc62badee221\",\r\n",
      "                \"sha256:74e89dc5e00201e71dd94f5f382ab1c6a9f3ff806c7d24e4e90928bb1aafb280\",\r\n",
      "                \"sha256:7abda0e62ef00cde826d441485e2e32fe737bdddee3324e35c0e01dee65e2a88\",\r\n",
      "                \"sha256:90271dbde4be191522b3903fc97334e3956d7cfb9cce3f0718d0ab4fd7d8bfd6\",\r\n",
      "                \"sha256:91770cb3b1e81ae19463b3c235bf1e0e330767dca9eb4cd73ba3ded6c4151e4d\",\r\n",
      "                \"sha256:925c6f09d0053b1c0f90b2d92d03b261e889b20d1c9b08a3a51f61afc5f58165\",\r\n",
      "                \"sha256:9885e3e4f13b2bd44aaf2a1a6390a11add9f48d5295f7a592393ceb8991577a3\",\r\n",
      "                \"sha256:9ea7f579182d83d00fed0e5c11a4aa5ffe01460444219dedc448a36adf0c3917\",\r\n",
      "                \"sha256:a63d1ec9cadecce838467ce0631c17c15c7197ae61e49429434ba01d618caa83\",\r\n",
      "                \"sha256:bae66a2d7d5768eaa33008fa5a974389f167183c87bf39160d3fefe6664f8ddc\",\r\n",
      "                \"sha256:bba4d955f54edd61899776bad459bf7326e14b9fa1c552181f0479cc60a568cd\",\r\n",
      "                \"sha256:c77da50c9a91e23beb63c2a711ef9e9ca9a2060442757dffee34ea41847d8156\",\r\n",
      "                \"sha256:d2f6dee6cbb0e263b8142ed587bc93e3ed5e777f1f75448d24fb923d9fd4dce6\",\r\n",
      "                \"sha256:dfcc1552add7cb7c13fb70efcb2389d0624d571aaf2c80b04117e2755a0c5d15\",\r\n",
      "                \"sha256:e04aa19acc324a1a076abb4035dabe9b64badb19f76ad9c798bde39d41025cdc\",\r\n",
      "                \"sha256:e1f97cd89c0fe1a0685f8f89d85fa305deb3067d0668151571ba50913e445820\"\r\n",
      "            ],\r\n",
      "            \"markers\": \"python_version < '3.13' and python_version >= '3.9'\",\r\n",
      "            \"version\": \"==1.11.3\"\r\n",
      "        },\r\n",
      "        \"threadpoolctl\": {\r\n",
      "            \"hashes\": [\r\n",
      "                \"sha256:2b7818516e423bdaebb97c723f86a7c6b0a83d3f3b0970328d66f4d9104dc032\",\r\n",
      "                \"sha256:c96a0ba3bdddeaca37dc4cc7344aafad41cdb8c313f74fdfe387a867bba93355\"\r\n",
      "            ],\r\n",
      "            \"markers\": \"python_version >= '3.8'\",\r\n",
      "            \"version\": \"==3.2.0\"\r\n",
      "        }\r\n",
      "    },\r\n",
      "    \"develop\": {}\r\n",
      "}\r\n"
     ]
    }
   ],
   "source": [
    "!cat Pipfile.lock"
   ]
  },
  {
   "cell_type": "code",
   "execution_count": 10,
   "id": "8b482d19",
   "metadata": {},
   "outputs": [
    {
     "name": "stdout",
     "output_type": "stream",
     "text": [
      "--2023-10-19 08:53:02--  https://raw.githubusercontent.com/DataTalksClub/machine-learning-zoomcamp/master/cohorts/2023/05-deployment/homework/model1.bin\n",
      "Resolving raw.githubusercontent.com (raw.githubusercontent.com)... 185.199.108.133, 185.199.109.133, 185.199.110.133, ...\n",
      "Connecting to raw.githubusercontent.com (raw.githubusercontent.com)|185.199.108.133|:443... connected.\n",
      "HTTP request sent, awaiting response... 200 OK\n",
      "Length: 842 [application/octet-stream]\n",
      "Saving to: ‘model1.bin’\n",
      "\n",
      "model1.bin          100%[===================>]     842  --.-KB/s    in 0s      \n",
      "\n",
      "2023-10-19 08:53:03 (30.3 MB/s) - ‘model1.bin’ saved [842/842]\n",
      "\n",
      "--2023-10-19 08:53:03--  https://raw.githubusercontent.com/DataTalksClub/machine-learning-zoomcamp/master/cohorts/2023/05-deployment/homework/dv.bin\n",
      "Resolving raw.githubusercontent.com (raw.githubusercontent.com)... 185.199.108.133, 185.199.109.133, 185.199.110.133, ...\n",
      "Connecting to raw.githubusercontent.com (raw.githubusercontent.com)|185.199.108.133|:443... connected.\n",
      "HTTP request sent, awaiting response... 200 OK\n",
      "Length: 560 [application/octet-stream]\n",
      "Saving to: ‘dv.bin’\n",
      "\n",
      "dv.bin              100%[===================>]     560  --.-KB/s    in 0s      \n",
      "\n",
      "2023-10-19 08:53:04 (66.5 MB/s) - ‘dv.bin’ saved [560/560]\n",
      "\n"
     ]
    }
   ],
   "source": [
    "PREFIX='https://raw.githubusercontent.com/DataTalksClub/machine-learning-zoomcamp/master/cohorts/2023/05-deployment/homework'\n",
    "!wget $PREFIX/model1.bin\n",
    "!wget $PREFIX/dv.bin"
   ]
  },
  {
   "cell_type": "code",
   "execution_count": 12,
   "id": "7ddb0406",
   "metadata": {},
   "outputs": [],
   "source": [
    "import pickle"
   ]
  },
  {
   "cell_type": "code",
   "execution_count": 13,
   "id": "e92820de",
   "metadata": {},
   "outputs": [
    {
     "name": "stderr",
     "output_type": "stream",
     "text": [
      "/home/thinker/anaconda3/lib/python3.11/site-packages/sklearn/base.py:318: UserWarning: Trying to unpickle estimator DictVectorizer from version 1.3.1 when using version 1.2.2. This might lead to breaking code or invalid results. Use at your own risk. For more info please refer to:\n",
      "https://scikit-learn.org/stable/model_persistence.html#security-maintainability-limitations\n",
      "  warnings.warn(\n",
      "/home/thinker/anaconda3/lib/python3.11/site-packages/sklearn/base.py:318: UserWarning: Trying to unpickle estimator LogisticRegression from version 1.3.1 when using version 1.2.2. This might lead to breaking code or invalid results. Use at your own risk. For more info please refer to:\n",
      "https://scikit-learn.org/stable/model_persistence.html#security-maintainability-limitations\n",
      "  warnings.warn(\n"
     ]
    }
   ],
   "source": [
    "dv_file = 'dv.bin'\n",
    "model_file = 'model1.bin'\n",
    "with open(dv_file,'rb') as f_in:\n",
    "    dv = pickle.load(f_in)\n",
    "with open(model_file,'rb') as f_in:\n",
    "    model = pickle.load(f_in)"
   ]
  },
  {
   "cell_type": "code",
   "execution_count": 15,
   "id": "e82b87a0",
   "metadata": {},
   "outputs": [
    {
     "data": {
      "text/plain": [
       "0.902"
      ]
     },
     "execution_count": 15,
     "metadata": {},
     "output_type": "execute_result"
    }
   ],
   "source": [
    "client = {\"job\": \"retired\", \"duration\": 445, \"poutcome\": \"success\"}\n",
    "X = dv.transform([client])\n",
    "round(model.predict_proba(X)[0,1],3)"
   ]
  },
  {
   "cell_type": "markdown",
   "id": "76bdb00b",
   "metadata": {},
   "source": [
    "# Question  3: What's the probability that this client will get a credit?\n",
    "+ 0.162\n",
    "+ 0.392\n",
    "+ 0.652\n",
    "+ 0.902\n",
    "# A: 0.902\n"
   ]
  },
  {
   "cell_type": "code",
   "execution_count": 16,
   "id": "fbb2705d",
   "metadata": {},
   "outputs": [],
   "source": [
    "import requests"
   ]
  },
  {
   "cell_type": "code",
   "execution_count": 20,
   "id": "bd2d6178",
   "metadata": {},
   "outputs": [],
   "source": [
    "url = \"http://localhost:9690/predict\"\n",
    "client = {\"job\": \"unknown\", \"duration\": 270, \"poutcome\": \"failure\"}\n",
    "response = requests.post(url, json=client).json()"
   ]
  },
  {
   "cell_type": "code",
   "execution_count": 21,
   "id": "de249b0b",
   "metadata": {},
   "outputs": [
    {
     "data": {
      "text/plain": [
       "0.14"
      ]
     },
     "execution_count": 21,
     "metadata": {},
     "output_type": "execute_result"
    }
   ],
   "source": [
    "round(response['probability'],3)"
   ]
  },
  {
   "cell_type": "markdown",
   "id": "f331008b",
   "metadata": {},
   "source": [
    "# Question 4: Probability of getting a credit (Flask)\n",
    "# A: 0.140"
   ]
  },
  {
   "cell_type": "markdown",
   "id": "bf0bb8c7",
   "metadata": {},
   "source": [
    "# Question 5: So what's the size of this base image?\n",
    "# A: 147 MB"
   ]
  },
  {
   "cell_type": "code",
   "execution_count": null,
   "id": "df287fab",
   "metadata": {},
   "outputs": [],
   "source": [
    "url = \"YOUR_URL\"\n",
    "client = {\"job\": \"retired\", \"duration\": 445, \"poutcome\": \"success\"}\n",
    "requests.post(url, json=client).json()"
   ]
  },
  {
   "cell_type": "code",
   "execution_count": null,
   "id": "d9c488f5",
   "metadata": {},
   "outputs": [],
   "source": []
  },
  {
   "cell_type": "markdown",
   "id": "c8ef0237",
   "metadata": {},
   "source": [
    "# Question 6: What's the probability that this client will get a credit now?\n",
    "+ 0.168\n",
    "+ 0.530\n",
    "+ 0.730\n",
    "+ 0.968\n",
    "# A: "
   ]
  }
 ],
 "metadata": {
  "kernelspec": {
   "display_name": "Python 3 (ipykernel)",
   "language": "python",
   "name": "python3"
  },
  "language_info": {
   "codemirror_mode": {
    "name": "ipython",
    "version": 3
   },
   "file_extension": ".py",
   "mimetype": "text/x-python",
   "name": "python",
   "nbconvert_exporter": "python",
   "pygments_lexer": "ipython3",
   "version": "3.11.3"
  }
 },
 "nbformat": 4,
 "nbformat_minor": 5
}
