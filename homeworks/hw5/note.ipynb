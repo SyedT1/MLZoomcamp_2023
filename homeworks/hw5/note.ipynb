{
 "cells": [
  {
   "cell_type": "markdown",
   "id": "2937ccce",
   "metadata": {},
   "source": [
    "# Question 1\n",
    "+ Install Pipenv\n",
    "+ What's the version of pipenv you installed?\n",
    "+ Use --version to find out\n",
    "# Answer: 2023.10.3\n"
   ]
  },
  {
   "cell_type": "code",
   "execution_count": 1,
   "id": "1d3283ec",
   "metadata": {},
   "outputs": [
    {
     "name": "stdout",
     "output_type": "stream",
     "text": [
      "\u001b[1mpipenv\u001b[0m, version 2023.10.3\n"
     ]
    }
   ],
   "source": [
    "!pipenv --version"
   ]
  },
  {
   "cell_type": "markdown",
   "id": "24fa2d62",
   "metadata": {},
   "source": [
    "# Question 2\n",
    "+ Use Pipenv to install Scikit-Learn version 1.3.1\n",
    "+ What's the first hash for scikit-learn you get in Pipfile.lock?\n",
    "# Answer: <h1 style=\"color:red;\">e0d12a0331eb3926e2e7c7c37be9118ab3619b518475b3c3897cdb40da98d9d9</h1>"
   ]
  },
  {
   "cell_type": "code",
   "execution_count": 2,
   "id": "c0abff79",
   "metadata": {},
   "outputs": [
    {
     "name": "stdout",
     "output_type": "stream",
     "text": [
      "{\n",
      "    \"_meta\": {\n",
      "        \"hash\": {\n",
      "            \"sha256\": \"fedbd2ab7afd84cf16f128af0619749267b62277b4cb6989ef16d4bef6e4eef2\"\n",
      "        },\n",
      "        \"pipfile-spec\": 6,\n",
      "        \"requires\": {\n",
      "            \"python_version\": \"3.10\"\n",
      "        },\n",
      "        \"sources\": [\n",
      "            {\n",
      "                \"name\": \"pypi\",\n",
      "                \"url\": \"https://pypi.org/simple\",\n",
      "                \"verify_ssl\": true\n",
      "            }\n",
      "        ]\n",
      "    },\n",
      "    \"default\": {},\n",
      "    \"develop\": {}\n",
      "}\n"
     ]
    }
   ],
   "source": [
    "!cat Pipfile.lock"
   ]
  },
  {
   "cell_type": "code",
   "execution_count": 3,
   "id": "8b482d19",
   "metadata": {},
   "outputs": [
    {
     "name": "stdout",
     "output_type": "stream",
     "text": [
      "--2023-10-20 17:46:02--  https://raw.githubusercontent.com/DataTalksClub/machine-learning-zoomcamp/master/cohorts/2023/05-deployment/homework/model1.bin\n",
      "Resolving raw.githubusercontent.com (raw.githubusercontent.com)... 185.199.110.133, 185.199.108.133, 185.199.111.133, ...\n",
      "Connecting to raw.githubusercontent.com (raw.githubusercontent.com)|185.199.110.133|:443... connected.\n",
      "HTTP request sent, awaiting response... 200 OK\n",
      "Length: 842 [application/octet-stream]\n",
      "Saving to: ‘model1.bin’\n",
      "\n",
      "model1.bin          100%[===================>]     842  --.-KB/s    in 0s      \n",
      "\n",
      "2023-10-20 17:46:03 (10.1 MB/s) - ‘model1.bin’ saved [842/842]\n",
      "\n",
      "--2023-10-20 17:46:03--  https://raw.githubusercontent.com/DataTalksClub/machine-learning-zoomcamp/master/cohorts/2023/05-deployment/homework/dv.bin\n",
      "Resolving raw.githubusercontent.com (raw.githubusercontent.com)... 185.199.111.133, 185.199.110.133, 185.199.108.133, ...\n",
      "Connecting to raw.githubusercontent.com (raw.githubusercontent.com)|185.199.111.133|:443... connected.\n",
      "HTTP request sent, awaiting response... 200 OK\n",
      "Length: 560 [application/octet-stream]\n",
      "Saving to: ‘dv.bin’\n",
      "\n",
      "dv.bin              100%[===================>]     560  --.-KB/s    in 0s      \n",
      "\n",
      "2023-10-20 17:46:03 (14.1 MB/s) - ‘dv.bin’ saved [560/560]\n",
      "\n"
     ]
    }
   ],
   "source": [
    "PREFIX='https://raw.githubusercontent.com/DataTalksClub/machine-learning-zoomcamp/master/cohorts/2023/05-deployment/homework'\n",
    "!wget $PREFIX/model1.bin\n",
    "!wget $PREFIX/dv.bin"
   ]
  },
  {
   "cell_type": "code",
   "execution_count": 4,
   "id": "7ddb0406",
   "metadata": {},
   "outputs": [],
   "source": [
    "import pickle"
   ]
  },
  {
   "cell_type": "code",
   "execution_count": 5,
   "id": "e92820de",
   "metadata": {},
   "outputs": [
    {
     "name": "stderr",
     "output_type": "stream",
     "text": [
      "/home/thinker/anaconda3/lib/python3.11/site-packages/sklearn/base.py:347: InconsistentVersionWarning: Trying to unpickle estimator DictVectorizer from version 1.3.1 when using version 1.3.0. This might lead to breaking code or invalid results. Use at your own risk. For more info please refer to:\n",
      "https://scikit-learn.org/stable/model_persistence.html#security-maintainability-limitations\n",
      "  warnings.warn(\n",
      "/home/thinker/anaconda3/lib/python3.11/site-packages/sklearn/base.py:347: InconsistentVersionWarning: Trying to unpickle estimator LogisticRegression from version 1.3.1 when using version 1.3.0. This might lead to breaking code or invalid results. Use at your own risk. For more info please refer to:\n",
      "https://scikit-learn.org/stable/model_persistence.html#security-maintainability-limitations\n",
      "  warnings.warn(\n"
     ]
    }
   ],
   "source": [
    "dv_file = 'dv.bin'\n",
    "model_file = 'model1.bin'\n",
    "with open(dv_file,'rb') as f_in:\n",
    "    dv = pickle.load(f_in)\n",
    "with open(model_file,'rb') as f_in:\n",
    "    model = pickle.load(f_in)"
   ]
  },
  {
   "cell_type": "code",
   "execution_count": 6,
   "id": "e82b87a0",
   "metadata": {},
   "outputs": [
    {
     "data": {
      "text/plain": [
       "0.902"
      ]
     },
     "execution_count": 6,
     "metadata": {},
     "output_type": "execute_result"
    }
   ],
   "source": [
    "client = {\"job\": \"retired\", \"duration\": 445, \"poutcome\": \"success\"}\n",
    "X = dv.transform([client])\n",
    "round(model.predict_proba(X)[0,1],3)"
   ]
  },
  {
   "cell_type": "markdown",
   "id": "76bdb00b",
   "metadata": {},
   "source": [
    "# Question  3: What's the probability that this client will get a credit?\n",
    "+ 0.162\n",
    "+ 0.392\n",
    "+ 0.652\n",
    "+ 0.902\n",
    "# A: 0.902\n"
   ]
  },
  {
   "cell_type": "code",
   "execution_count": 9,
   "id": "fbb2705d",
   "metadata": {},
   "outputs": [],
   "source": [
    "import requests"
   ]
  },
  {
   "cell_type": "code",
   "execution_count": 13,
   "id": "bd2d6178",
   "metadata": {},
   "outputs": [],
   "source": [
    "url = \"http://localhost:9696/predict\"\n",
    "client = {\"job\": \"unknown\", \"duration\": 270, \"poutcome\": \"failure\"}\n",
    "response = requests.post(url, json=client).json()"
   ]
  },
  {
   "cell_type": "code",
   "execution_count": 14,
   "id": "de249b0b",
   "metadata": {},
   "outputs": [
    {
     "data": {
      "text/plain": [
       "0.14"
      ]
     },
     "execution_count": 14,
     "metadata": {},
     "output_type": "execute_result"
    }
   ],
   "source": [
    "round(response['probability'],3)"
   ]
  },
  {
   "cell_type": "markdown",
   "id": "f331008b",
   "metadata": {},
   "source": [
    "# Question 4: Probability of getting a credit (Flask)\n",
    "# A: 0.140"
   ]
  },
  {
   "cell_type": "markdown",
   "id": "bf0bb8c7",
   "metadata": {},
   "source": [
    "# Question 5: So what's the size of this base image?\n",
    "# A: 147 MB"
   ]
  },
  {
   "cell_type": "code",
   "execution_count": 29,
   "id": "df287fab",
   "metadata": {},
   "outputs": [],
   "source": [
    "url = \"http://0.0.0.0:9696/predict\"\n",
    "client = {\"job\": \"retired\", \"duration\": 445, \"poutcome\": \"success\"}\n",
    "res = requests.post(url, json=client).json()"
   ]
  },
  {
   "cell_type": "code",
   "execution_count": 31,
   "id": "d9c488f5",
   "metadata": {
    "tags": []
   },
   "outputs": [
    {
     "data": {
      "text/plain": [
       "0.727"
      ]
     },
     "execution_count": 31,
     "metadata": {},
     "output_type": "execute_result"
    }
   ],
   "source": [
    "round(res['probability'],3)"
   ]
  },
  {
   "cell_type": "markdown",
   "id": "c8ef0237",
   "metadata": {},
   "source": [
    "# Question 6: What's the probability that this client will get a credit now?\n",
    "+ 0.168\n",
    "+ 0.530\n",
    "+ 0.730\n",
    "+ 0.968\n",
    "# A: 0.730"
   ]
  }
 ],
 "metadata": {
  "kernelspec": {
   "display_name": "Python 3 (ipykernel)",
   "language": "python",
   "name": "python3"
  },
  "language_info": {
   "codemirror_mode": {
    "name": "ipython",
    "version": 3
   },
   "file_extension": ".py",
   "mimetype": "text/x-python",
   "name": "python",
   "nbconvert_exporter": "python",
   "pygments_lexer": "ipython3",
   "version": "3.11.5"
  }
 },
 "nbformat": 4,
 "nbformat_minor": 5
}
