{
  "nbformat": 4,
  "nbformat_minor": 0,
  "metadata": {
    "colab": {
      "provenance": [],
      "include_colab_link": true
    },
    "kernelspec": {
      "name": "python3",
      "display_name": "Python 3"
    },
    "language_info": {
      "name": "python"
    }
  },
  "cells": [
    {
      "cell_type": "markdown",
      "metadata": {
        "id": "view-in-github",
        "colab_type": "text"
      },
      "source": [
        "<a href=\"https://colab.research.google.com/github/SyedT1/MLZoomcamp_2023/blob/main/homeworks/Homework_2.ipynb\" target=\"_parent\"><img src=\"https://colab.research.google.com/assets/colab-badge.svg\" alt=\"Open In Colab\"/></a>"
      ]
    },
    {
      "cell_type": "code",
      "execution_count": 1,
      "metadata": {
        "id": "3B0aA9kZ-8y0"
      },
      "outputs": [],
      "source": [
        "url = 'https://raw.githubusercontent.com/alexeygrigorev/datasets/master/housing.csv'\n"
      ]
    },
    {
      "cell_type": "code",
      "source": [
        "!wget $url"
      ],
      "metadata": {
        "colab": {
          "base_uri": "https://localhost:8080/"
        },
        "id": "1w1yUrlT_Ijc",
        "outputId": "f20cdef0-9a17-4a53-fac5-79ba8e31798d"
      },
      "execution_count": 2,
      "outputs": [
        {
          "output_type": "stream",
          "name": "stdout",
          "text": [
            "--2023-09-26 12:59:25--  https://raw.githubusercontent.com/alexeygrigorev/datasets/master/housing.csv\n",
            "Resolving raw.githubusercontent.com (raw.githubusercontent.com)... 185.199.108.133, 185.199.109.133, 185.199.110.133, ...\n",
            "Connecting to raw.githubusercontent.com (raw.githubusercontent.com)|185.199.108.133|:443... connected.\n",
            "HTTP request sent, awaiting response... 200 OK\n",
            "Length: 1423529 (1.4M) [text/plain]\n",
            "Saving to: ‘housing.csv.3’\n",
            "\n",
            "\rhousing.csv.3         0%[                    ]       0  --.-KB/s               \rhousing.csv.3       100%[===================>]   1.36M  --.-KB/s    in 0.07s   \n",
            "\n",
            "2023-09-26 12:59:25 (19.8 MB/s) - ‘housing.csv.3’ saved [1423529/1423529]\n",
            "\n"
          ]
        }
      ]
    },
    {
      "cell_type": "code",
      "source": [
        "cols = ['latitude',\n",
        "'longitude',\n",
        "'housing_median_age',\n",
        "'total_rooms',\n",
        "'total_bedrooms',\n",
        "'population',\n",
        "'households',\n",
        "'median_income',\n",
        "'median_house_value']"
      ],
      "metadata": {
        "id": "O5OEzL3l_KkN"
      },
      "execution_count": 3,
      "outputs": []
    },
    {
      "cell_type": "code",
      "source": [
        "import pandas as pd\n",
        "import numpy as np\n",
        "df = pd.read_csv('housing.csv')"
      ],
      "metadata": {
        "id": "GkuMjOg1_u1D"
      },
      "execution_count": 4,
      "outputs": []
    },
    {
      "cell_type": "code",
      "source": [
        "df_n = df[cols].copy()"
      ],
      "metadata": {
        "id": "9n_pM6MK_4E6"
      },
      "execution_count": 5,
      "outputs": []
    },
    {
      "cell_type": "markdown",
      "source": [
        "# Q1. There's one feature with missing values. What is it?\n",
        "# A: total_bedrooms"
      ],
      "metadata": {
        "id": "zK96KhklAu30"
      }
    },
    {
      "cell_type": "code",
      "source": [
        "df_n.isna().sum() > 0"
      ],
      "metadata": {
        "colab": {
          "base_uri": "https://localhost:8080/"
        },
        "id": "UIF4EKjAAASi",
        "outputId": "eb71532e-0431-41f9-fa70-ef24fc1bfe88"
      },
      "execution_count": 6,
      "outputs": [
        {
          "output_type": "execute_result",
          "data": {
            "text/plain": [
              "latitude              False\n",
              "longitude             False\n",
              "housing_median_age    False\n",
              "total_rooms           False\n",
              "total_bedrooms         True\n",
              "population            False\n",
              "households            False\n",
              "median_income         False\n",
              "median_house_value    False\n",
              "dtype: bool"
            ]
          },
          "metadata": {},
          "execution_count": 6
        }
      ]
    },
    {
      "cell_type": "markdown",
      "source": [
        "# Q2. What's the median (50% percentile) for variable 'population'?\n",
        "# A: 1195 (my answer is 1166 which is quite close)"
      ],
      "metadata": {
        "id": "Ox2jE1EGBrAq"
      }
    },
    {
      "cell_type": "code",
      "source": [
        "df_n['population'].fillna(0).median()"
      ],
      "metadata": {
        "colab": {
          "base_uri": "https://localhost:8080/"
        },
        "id": "PuqHILBnBn9S",
        "outputId": "92444e22-8fc7-4639-c1ab-d5ca73bb3b21"
      },
      "execution_count": 7,
      "outputs": [
        {
          "output_type": "execute_result",
          "data": {
            "text/plain": [
              "1166.0"
            ]
          },
          "metadata": {},
          "execution_count": 7
        }
      ]
    },
    {
      "cell_type": "code",
      "source": [
        "\n",
        "d = df_n['median_house_value'].values\n",
        "import seaborn as sb\n",
        "sb.histplot(d,color='red',bins=50)"
      ],
      "metadata": {
        "colab": {
          "base_uri": "https://localhost:8080/",
          "height": 447
        },
        "id": "yYzVlnCdKmhQ",
        "outputId": "cf7d62bc-fb42-45f5-c0bc-6cdf45b12371"
      },
      "execution_count": 8,
      "outputs": [
        {
          "output_type": "execute_result",
          "data": {
            "text/plain": [
              "<Axes: ylabel='Count'>"
            ]
          },
          "metadata": {},
          "execution_count": 8
        },
        {
          "output_type": "display_data",
          "data": {
            "text/plain": [
              "<Figure size 640x480 with 1 Axes>"
            ],
            "image/png": "[encoded data removed]"
          },
          "metadata": {}
        }
      ]
    },
    {
      "cell_type": "code",
      "source": [
        "df_n.head(5)"
      ],
      "metadata": {
        "colab": {
          "base_uri": "https://localhost:8080/",
          "height": 206
        },
        "id": "9WV07vi4Dimr",
        "outputId": "205559df-9005-42c9-be1c-b3a0862272dd"
      },
      "execution_count": 9,
      "outputs": [
        {
          "output_type": "execute_result",
          "data": {
            "text/plain": [
              "   latitude  longitude  housing_median_age  total_rooms  total_bedrooms  \\\n",
              "0     37.88    -122.23                41.0        880.0           129.0   \n",
              "1     37.86    -122.22                21.0       7099.0          1106.0   \n",
              "2     37.85    -122.24                52.0       1467.0           190.0   \n",
              "3     37.85    -122.25                52.0       1274.0           235.0   \n",
              "4     37.85    -122.25                52.0       1627.0           280.0   \n",
              "\n",
              "   population  households  median_income  median_house_value  \n",
              "0       322.0       126.0         8.3252            452600.0  \n",
              "1      2401.0      1138.0         8.3014            358500.0  \n",
              "2       496.0       177.0         7.2574            352100.0  \n",
              "3       558.0       219.0         5.6431            341300.0  \n",
              "4       565.0       259.0         3.8462            342200.0  "
            ],
            "text/html": [
              "\n",
              "  <div id=\"df-652a5ab4-40ae-4262-a251-1fbb07b9349e\" class=\"colab-df-container\">\n",
              "    <div>\n",
              "<style scoped>\n",
              "    .dataframe tbody tr th:only-of-type {\n",
              "        vertical-align: middle;\n",
              "    }\n",
              "\n",
              "    .dataframe tbody tr th {\n",
              "        vertical-align: top;\n",
              "    }\n",
              "\n",
              "    .dataframe thead th {\n",
              "        text-align: right;\n",
              "    }\n",
              "</style>\n",
              "<table border=\"1\" class=\"dataframe\">\n",
              "  <thead>\n",
              "    <tr style=\"text-align: right;\">\n",
              "      <th></th>\n",
              "      <th>latitude</th>\n",
              "      <th>longitude</th>\n",
              "      <th>housing_median_age</th>\n",
              "      <th>total_rooms</th>\n",
              "      <th>total_bedrooms</th>\n",
              "      <th>population</th>\n",
              "      <th>households</th>\n",
              "      <th>median_income</th>\n",
              "      <th>median_house_value</th>\n",
              "    </tr>\n",
              "  </thead>\n",
              "  <tbody>\n",
              "    <tr>\n",
              "      <th>0</th>\n",
              "      <td>37.88</td>\n",
              "      <td>-122.23</td>\n",
              "      <td>41.0</td>\n",
              "      <td>880.0</td>\n",
              "      <td>129.0</td>\n",
              "      <td>322.0</td>\n",
              "      <td>126.0</td>\n",
              "      <td>8.3252</td>\n",
              "      <td>452600.0</td>\n",
              "    </tr>\n",
              "    <tr>\n",
              "      <th>1</th>\n",
              "      <td>37.86</td>\n",
              "      <td>-122.22</td>\n",
              "      <td>21.0</td>\n",
              "      <td>7099.0</td>\n",
              "      <td>1106.0</td>\n",
              "      <td>2401.0</td>\n",
              "      <td>1138.0</td>\n",
              "      <td>8.3014</td>\n",
              "      <td>358500.0</td>\n",
              "    </tr>\n",
              "    <tr>\n",
              "      <th>2</th>\n",
              "      <td>37.85</td>\n",
              "      <td>-122.24</td>\n",
              "      <td>52.0</td>\n",
              "      <td>1467.0</td>\n",
              "      <td>190.0</td>\n",
              "      <td>496.0</td>\n",
              "      <td>177.0</td>\n",
              "      <td>7.2574</td>\n",
              "      <td>352100.0</td>\n",
              "    </tr>\n",
              "    <tr>\n",
              "      <th>3</th>\n",
              "      <td>37.85</td>\n",
              "      <td>-122.25</td>\n",
              "      <td>52.0</td>\n",
              "      <td>1274.0</td>\n",
              "      <td>235.0</td>\n",
              "      <td>558.0</td>\n",
              "      <td>219.0</td>\n",
              "      <td>5.6431</td>\n",
              "      <td>341300.0</td>\n",
              "    </tr>\n",
              "    <tr>\n",
              "      <th>4</th>\n",
              "      <td>37.85</td>\n",
              "      <td>-122.25</td>\n",
              "      <td>52.0</td>\n",
              "      <td>1627.0</td>\n",
              "      <td>280.0</td>\n",
              "      <td>565.0</td>\n",
              "      <td>259.0</td>\n",
              "      <td>3.8462</td>\n",
              "      <td>342200.0</td>\n",
              "    </tr>\n",
              "  </tbody>\n",
              "</table>\n",
              "</div>\n",
              "    <div class=\"colab-df-buttons\">\n",
              "\n",
              "  <div class=\"colab-df-container\">\n",
              "    <button class=\"colab-df-convert\" onclick=\"convertToInteractive('df-652a5ab4-40ae-4262-a251-1fbb07b9349e')\"\n",
              "            title=\"Convert this dataframe to an interactive table.\"\n",
              "            style=\"display:none;\">\n",
              "\n",
              "  <svg xmlns=\"http://www.w3.org/2000/svg\" height=\"24px\" viewBox=\"0 -960 960 960\">\n",
              "    <path d=\"M120-120v-720h720v720H120Zm60-500h600v-160H180v160Zm220 220h160v-160H400v160Zm0 220h160v-160H400v160ZM180-400h160v-160H180v160Zm440 0h160v-160H620v160ZM180-180h160v-160H180v160Zm440 0h160v-160H620v160Z\"/>\n",
              "  </svg>\n",
              "    </button>\n",
              "\n",
              "  <style>\n",
              "    .colab-df-container {\n",
              "      display:flex;\n",
              "      gap: 12px;\n",
              "    }\n",
              "\n",
              "    .colab-df-convert {\n",
              "      background-color: #E8F0FE;\n",
              "      border: none;\n",
              "      border-radius: 50%;\n",
              "      cursor: pointer;\n",
              "      display: none;\n",
              "      fill: #1967D2;\n",
              "      height: 32px;\n",
              "      padding: 0 0 0 0;\n",
              "      width: 32px;\n",
              "    }\n",
              "\n",
              "    .colab-df-convert:hover {\n",
              "      background-color: #E2EBFA;\n",
              "      box-shadow: 0px 1px 2px rgba(60, 64, 67, 0.3), 0px 1px 3px 1px rgba(60, 64, 67, 0.15);\n",
              "      fill: #174EA6;\n",
              "    }\n",
              "\n",
              "    .colab-df-buttons div {\n",
              "      margin-bottom: 4px;\n",
              "    }\n",
              "\n",
              "    [theme=dark] .colab-df-convert {\n",
              "      background-color: #3B4455;\n",
              "      fill: #D2E3FC;\n",
              "    }\n",
              "\n",
              "    [theme=dark] .colab-df-convert:hover {\n",
              "      background-color: #434B5C;\n",
              "      box-shadow: 0px 1px 3px 1px rgba(0, 0, 0, 0.15);\n",
              "      filter: drop-shadow(0px 1px 2px rgba(0, 0, 0, 0.3));\n",
              "      fill: #FFFFFF;\n",
              "    }\n",
              "  </style>\n",
              "\n",
              "    <script>\n",
              "      const buttonEl =\n",
              "        document.querySelector('#df-652a5ab4-40ae-4262-a251-1fbb07b9349e button.colab-df-convert');\n",
              "      buttonEl.style.display =\n",
              "        google.colab.kernel.accessAllowed ? 'block' : 'none';\n",
              "\n",
              "      async function convertToInteractive(key) {\n",
              "        const element = document.querySelector('#df-652a5ab4-40ae-4262-a251-1fbb07b9349e');\n",
              "        const dataTable =\n",
              "          await google.colab.kernel.invokeFunction('convertToInteractive',\n",
              "                                                    [key], {});\n",
              "        if (!dataTable) return;\n",
              "\n",
              "        const docLinkHtml = 'Like what you see? Visit the ' +\n",
              "          '<a target=\"_blank\" href=https://colab.research.google.com/notebooks/data_table.ipynb>data table notebook</a>'\n",
              "          + ' to learn more about interactive tables.';\n",
              "        element.innerHTML = '';\n",
              "        dataTable['output_type'] = 'display_data';\n",
              "        await google.colab.output.renderOutput(dataTable, element);\n",
              "        const docLink = document.createElement('div');\n",
              "        docLink.innerHTML = docLinkHtml;\n",
              "        element.appendChild(docLink);\n",
              "      }\n",
              "    </script>\n",
              "  </div>\n",
              "\n",
              "\n",
              "<div id=\"df-1fcf2a6d-08eb-42da-b372-cac8795101f0\">\n",
              "  <button class=\"colab-df-quickchart\" onclick=\"quickchart('df-1fcf2a6d-08eb-42da-b372-cac8795101f0')\"\n",
              "            title=\"Suggest charts.\"\n",
              "            style=\"display:none;\">\n",
              "\n",
              "<svg xmlns=\"http://www.w3.org/2000/svg\" height=\"24px\"viewBox=\"0 0 24 24\"\n",
              "     width=\"24px\">\n",
              "    <g>\n",
              "        <path d=\"M19 3H5c-1.1 0-2 .9-2 2v14c0 1.1.9 2 2 2h14c1.1 0 2-.9 2-2V5c0-1.1-.9-2-2-2zM9 17H7v-7h2v7zm4 0h-2V7h2v10zm4 0h-2v-4h2v4z\"/>\n",
              "    </g>\n",
              "</svg>\n",
              "  </button>\n",
              "\n",
              "<style>\n",
              "  .colab-df-quickchart {\n",
              "      --bg-color: #E8F0FE;\n",
              "      --fill-color: #1967D2;\n",
              "      --hover-bg-color: #E2EBFA;\n",
              "      --hover-fill-color: #174EA6;\n",
              "      --disabled-fill-color: #AAA;\n",
              "      --disabled-bg-color: #DDD;\n",
              "  }\n",
              "\n",
              "  [theme=dark] .colab-df-quickchart {\n",
              "      --bg-color: #3B4455;\n",
              "      --fill-color: #D2E3FC;\n",
              "      --hover-bg-color: #434B5C;\n",
              "      --hover-fill-color: #FFFFFF;\n",
              "      --disabled-bg-color: #3B4455;\n",
              "      --disabled-fill-color: #666;\n",
              "  }\n",
              "\n",
              "  .colab-df-quickchart {\n",
              "    background-color: var(--bg-color);\n",
              "    border: none;\n",
              "    border-radius: 50%;\n",
              "    cursor: pointer;\n",
              "    display: none;\n",
              "    fill: var(--fill-color);\n",
              "    height: 32px;\n",
              "    padding: 0;\n",
              "    width: 32px;\n",
              "  }\n",
              "\n",
              "  .colab-df-quickchart:hover {\n",
              "    background-color: var(--hover-bg-color);\n",
              "    box-shadow: 0 1px 2px rgba(60, 64, 67, 0.3), 0 1px 3px 1px rgba(60, 64, 67, 0.15);\n",
              "    fill: var(--button-hover-fill-color);\n",
              "  }\n",
              "\n",
              "  .colab-df-quickchart-complete:disabled,\n",
              "  .colab-df-quickchart-complete:disabled:hover {\n",
              "    background-color: var(--disabled-bg-color);\n",
              "    fill: var(--disabled-fill-color);\n",
              "    box-shadow: none;\n",
              "  }\n",
              "\n",
              "  .colab-df-spinner {\n",
              "    border: 2px solid var(--fill-color);\n",
              "    border-color: transparent;\n",
              "    border-bottom-color: var(--fill-color);\n",
              "    animation:\n",
              "      spin 1s steps(1) infinite;\n",
              "  }\n",
              "\n",
              "  @keyframes spin {\n",
              "    0% {\n",
              "      border-color: transparent;\n",
              "      border-bottom-color: var(--fill-color);\n",
              "      border-left-color: var(--fill-color);\n",
              "    }\n",
              "    20% {\n",
              "      border-color: transparent;\n",
              "      border-left-color: var(--fill-color);\n",
              "      border-top-color: var(--fill-color);\n",
              "    }\n",
              "    30% {\n",
              "      border-color: transparent;\n",
              "      border-left-color: var(--fill-color);\n",
              "      border-top-color: var(--fill-color);\n",
              "      border-right-color: var(--fill-color);\n",
              "    }\n",
              "    40% {\n",
              "      border-color: transparent;\n",
              "      border-right-color: var(--fill-color);\n",
              "      border-top-color: var(--fill-color);\n",
              "    }\n",
              "    60% {\n",
              "      border-color: transparent;\n",
              "      border-right-color: var(--fill-color);\n",
              "    }\n",
              "    80% {\n",
              "      border-color: transparent;\n",
              "      border-right-color: var(--fill-color);\n",
              "      border-bottom-color: var(--fill-color);\n",
              "    }\n",
              "    90% {\n",
              "      border-color: transparent;\n",
              "      border-bottom-color: var(--fill-color);\n",
              "    }\n",
              "  }\n",
              "</style>\n",
              "\n",
              "  <script>\n",
              "    async function quickchart(key) {\n",
              "      const quickchartButtonEl =\n",
              "        document.querySelector('#' + key + ' button');\n",
              "      quickchartButtonEl.disabled = true;  // To prevent multiple clicks.\n",
              "      quickchartButtonEl.classList.add('colab-df-spinner');\n",
              "      try {\n",
              "        const charts = await google.colab.kernel.invokeFunction(\n",
              "            'suggestCharts', [key], {});\n",
              "      } catch (error) {\n",
              "        console.error('Error during call to suggestCharts:', error);\n",
              "      }\n",
              "      quickchartButtonEl.classList.remove('colab-df-spinner');\n",
              "      quickchartButtonEl.classList.add('colab-df-quickchart-complete');\n",
              "    }\n",
              "    (() => {\n",
              "      let quickchartButtonEl =\n",
              "        document.querySelector('#df-1fcf2a6d-08eb-42da-b372-cac8795101f0 button');\n",
              "      quickchartButtonEl.style.display =\n",
              "        google.colab.kernel.accessAllowed ? 'block' : 'none';\n",
              "    })();\n",
              "  </script>\n",
              "</div>\n",
              "    </div>\n",
              "  </div>\n"
            ]
          },
          "metadata": {},
          "execution_count": 9
        }
      ]
    },
    {
      "cell_type": "code",
      "source": [
        "from sklearn.utils import shuffle\n",
        "import random\n",
        "random.seed(42)\n",
        "shuffled_df = df_n.sample(frac=1, random_state=42)\n",
        "shuffled_df.reset_index(drop=True, inplace=True)\n",
        "shuffled_df.head(5)"
      ],
      "metadata": {
        "colab": {
          "base_uri": "https://localhost:8080/",
          "height": 206
        },
        "id": "7RcenBhkCUWL",
        "outputId": "4a2d14d5-2948-41f6-912d-6f59073aab41"
      },
      "execution_count": 10,
      "outputs": [
        {
          "output_type": "execute_result",
          "data": {
            "text/plain": [
              "   latitude  longitude  housing_median_age  total_rooms  total_bedrooms  \\\n",
              "0     36.06    -119.01                25.0       1505.0             NaN   \n",
              "1     35.14    -119.46                30.0       2943.0             NaN   \n",
              "2     37.80    -122.44                52.0       3830.0             NaN   \n",
              "3     34.28    -118.72                17.0       3051.0             NaN   \n",
              "4     36.62    -121.93                34.0       2351.0             NaN   \n",
              "\n",
              "   population  households  median_income  median_house_value  \n",
              "0      1392.0       359.0         1.6812             47700.0  \n",
              "1      1565.0       584.0         2.5313             45800.0  \n",
              "2      1310.0       963.0         3.4801            500001.0  \n",
              "3      1705.0       495.0         5.7376            218600.0  \n",
              "4      1063.0       428.0         3.7250            278000.0  "
            ],
            "text/html": [
              "\n",
              "  <div id=\"df-1c72ac37-0c94-4259-8aec-a352a17f1a78\" class=\"colab-df-container\">\n",
              "    <div>\n",
              "<style scoped>\n",
              "    .dataframe tbody tr th:only-of-type {\n",
              "        vertical-align: middle;\n",
              "    }\n",
              "\n",
              "    .dataframe tbody tr th {\n",
              "        vertical-align: top;\n",
              "    }\n",
              "\n",
              "    .dataframe thead th {\n",
              "        text-align: right;\n",
              "    }\n",
              "</style>\n",
              "<table border=\"1\" class=\"dataframe\">\n",
              "  <thead>\n",
              "    <tr style=\"text-align: right;\">\n",
              "      <th></th>\n",
              "      <th>latitude</th>\n",
              "      <th>longitude</th>\n",
              "      <th>housing_median_age</th>\n",
              "      <th>total_rooms</th>\n",
              "      <th>total_bedrooms</th>\n",
              "      <th>population</th>\n",
              "      <th>households</th>\n",
              "      <th>median_income</th>\n",
              "      <th>median_house_value</th>\n",
              "    </tr>\n",
              "  </thead>\n",
              "  <tbody>\n",
              "    <tr>\n",
              "      <th>0</th>\n",
              "      <td>36.06</td>\n",
              "      <td>-119.01</td>\n",
              "      <td>25.0</td>\n",
              "      <td>1505.0</td>\n",
              "      <td>NaN</td>\n",
              "      <td>1392.0</td>\n",
              "      <td>359.0</td>\n",
              "      <td>1.6812</td>\n",
              "      <td>47700.0</td>\n",
              "    </tr>\n",
              "    <tr>\n",
              "      <th>1</th>\n",
              "      <td>35.14</td>\n",
              "      <td>-119.46</td>\n",
              "      <td>30.0</td>\n",
              "      <td>2943.0</td>\n",
              "      <td>NaN</td>\n",
              "      <td>1565.0</td>\n",
              "      <td>584.0</td>\n",
              "      <td>2.5313</td>\n",
              "      <td>45800.0</td>\n",
              "    </tr>\n",
              "    <tr>\n",
              "      <th>2</th>\n",
              "      <td>37.80</td>\n",
              "      <td>-122.44</td>\n",
              "      <td>52.0</td>\n",
              "      <td>3830.0</td>\n",
              "      <td>NaN</td>\n",
              "      <td>1310.0</td>\n",
              "      <td>963.0</td>\n",
              "      <td>3.4801</td>\n",
              "      <td>500001.0</td>\n",
              "    </tr>\n",
              "    <tr>\n",
              "      <th>3</th>\n",
              "      <td>34.28</td>\n",
              "      <td>-118.72</td>\n",
              "      <td>17.0</td>\n",
              "      <td>3051.0</td>\n",
              "      <td>NaN</td>\n",
              "      <td>1705.0</td>\n",
              "      <td>495.0</td>\n",
              "      <td>5.7376</td>\n",
              "      <td>218600.0</td>\n",
              "    </tr>\n",
              "    <tr>\n",
              "      <th>4</th>\n",
              "      <td>36.62</td>\n",
              "      <td>-121.93</td>\n",
              "      <td>34.0</td>\n",
              "      <td>2351.0</td>\n",
              "      <td>NaN</td>\n",
              "      <td>1063.0</td>\n",
              "      <td>428.0</td>\n",
              "      <td>3.7250</td>\n",
              "      <td>278000.0</td>\n",
              "    </tr>\n",
              "  </tbody>\n",
              "</table>\n",
              "</div>\n",
              "    <div class=\"colab-df-buttons\">\n",
              "\n",
              "  <div class=\"colab-df-container\">\n",
              "    <button class=\"colab-df-convert\" onclick=\"convertToInteractive('df-1c72ac37-0c94-4259-8aec-a352a17f1a78')\"\n",
              "            title=\"Convert this dataframe to an interactive table.\"\n",
              "            style=\"display:none;\">\n",
              "\n",
              "  <svg xmlns=\"http://www.w3.org/2000/svg\" height=\"24px\" viewBox=\"0 -960 960 960\">\n",
              "    <path d=\"M120-120v-720h720v720H120Zm60-500h600v-160H180v160Zm220 220h160v-160H400v160Zm0 220h160v-160H400v160ZM180-400h160v-160H180v160Zm440 0h160v-160H620v160ZM180-180h160v-160H180v160Zm440 0h160v-160H620v160Z\"/>\n",
              "  </svg>\n",
              "    </button>\n",
              "\n",
              "  <style>\n",
              "    .colab-df-container {\n",
              "      display:flex;\n",
              "      gap: 12px;\n",
              "    }\n",
              "\n",
              "    .colab-df-convert {\n",
              "      background-color: #E8F0FE;\n",
              "      border: none;\n",
              "      border-radius: 50%;\n",
              "      cursor: pointer;\n",
              "      display: none;\n",
              "      fill: #1967D2;\n",
              "      height: 32px;\n",
              "      padding: 0 0 0 0;\n",
              "      width: 32px;\n",
              "    }\n",
              "\n",
              "    .colab-df-convert:hover {\n",
              "      background-color: #E2EBFA;\n",
              "      box-shadow: 0px 1px 2px rgba(60, 64, 67, 0.3), 0px 1px 3px 1px rgba(60, 64, 67, 0.15);\n",
              "      fill: #174EA6;\n",
              "    }\n",
              "\n",
              "    .colab-df-buttons div {\n",
              "      margin-bottom: 4px;\n",
              "    }\n",
              "\n",
              "    [theme=dark] .colab-df-convert {\n",
              "      background-color: #3B4455;\n",
              "      fill: #D2E3FC;\n",
              "    }\n",
              "\n",
              "    [theme=dark] .colab-df-convert:hover {\n",
              "      background-color: #434B5C;\n",
              "      box-shadow: 0px 1px 3px 1px rgba(0, 0, 0, 0.15);\n",
              "      filter: drop-shadow(0px 1px 2px rgba(0, 0, 0, 0.3));\n",
              "      fill: #FFFFFF;\n",
              "    }\n",
              "  </style>\n",
              "\n",
              "    <script>\n",
              "      const buttonEl =\n",
              "        document.querySelector('#df-1c72ac37-0c94-4259-8aec-a352a17f1a78 button.colab-df-convert');\n",
              "      buttonEl.style.display =\n",
              "        google.colab.kernel.accessAllowed ? 'block' : 'none';\n",
              "\n",
              "      async function convertToInteractive(key) {\n",
              "        const element = document.querySelector('#df-1c72ac37-0c94-4259-8aec-a352a17f1a78');\n",
              "        const dataTable =\n",
              "          await google.colab.kernel.invokeFunction('convertToInteractive',\n",
              "                                                    [key], {});\n",
              "        if (!dataTable) return;\n",
              "\n",
              "        const docLinkHtml = 'Like what you see? Visit the ' +\n",
              "          '<a target=\"_blank\" href=https://colab.research.google.com/notebooks/data_table.ipynb>data table notebook</a>'\n",
              "          + ' to learn more about interactive tables.';\n",
              "        element.innerHTML = '';\n",
              "        dataTable['output_type'] = 'display_data';\n",
              "        await google.colab.output.renderOutput(dataTable, element);\n",
              "        const docLink = document.createElement('div');\n",
              "        docLink.innerHTML = docLinkHtml;\n",
              "        element.appendChild(docLink);\n",
              "      }\n",
              "    </script>\n",
              "  </div>\n",
              "\n",
              "\n",
              "<div id=\"df-976b3ab9-b589-4f5d-a484-a56dfa01d325\">\n",
              "  <button class=\"colab-df-quickchart\" onclick=\"quickchart('df-976b3ab9-b589-4f5d-a484-a56dfa01d325')\"\n",
              "            title=\"Suggest charts.\"\n",
              "            style=\"display:none;\">\n",
              "\n",
              "<svg xmlns=\"http://www.w3.org/2000/svg\" height=\"24px\"viewBox=\"0 0 24 24\"\n",
              "     width=\"24px\">\n",
              "    <g>\n",
              "        <path d=\"M19 3H5c-1.1 0-2 .9-2 2v14c0 1.1.9 2 2 2h14c1.1 0 2-.9 2-2V5c0-1.1-.9-2-2-2zM9 17H7v-7h2v7zm4 0h-2V7h2v10zm4 0h-2v-4h2v4z\"/>\n",
              "    </g>\n",
              "</svg>\n",
              "  </button>\n",
              "\n",
              "<style>\n",
              "  .colab-df-quickchart {\n",
              "      --bg-color: #E8F0FE;\n",
              "      --fill-color: #1967D2;\n",
              "      --hover-bg-color: #E2EBFA;\n",
              "      --hover-fill-color: #174EA6;\n",
              "      --disabled-fill-color: #AAA;\n",
              "      --disabled-bg-color: #DDD;\n",
              "  }\n",
              "\n",
              "  [theme=dark] .colab-df-quickchart {\n",
              "      --bg-color: #3B4455;\n",
              "      --fill-color: #D2E3FC;\n",
              "      --hover-bg-color: #434B5C;\n",
              "      --hover-fill-color: #FFFFFF;\n",
              "      --disabled-bg-color: #3B4455;\n",
              "      --disabled-fill-color: #666;\n",
              "  }\n",
              "\n",
              "  .colab-df-quickchart {\n",
              "    background-color: var(--bg-color);\n",
              "    border: none;\n",
              "    border-radius: 50%;\n",
              "    cursor: pointer;\n",
              "    display: none;\n",
              "    fill: var(--fill-color);\n",
              "    height: 32px;\n",
              "    padding: 0;\n",
              "    width: 32px;\n",
              "  }\n",
              "\n",
              "  .colab-df-quickchart:hover {\n",
              "    background-color: var(--hover-bg-color);\n",
              "    box-shadow: 0 1px 2px rgba(60, 64, 67, 0.3), 0 1px 3px 1px rgba(60, 64, 67, 0.15);\n",
              "    fill: var(--button-hover-fill-color);\n",
              "  }\n",
              "\n",
              "  .colab-df-quickchart-complete:disabled,\n",
              "  .colab-df-quickchart-complete:disabled:hover {\n",
              "    background-color: var(--disabled-bg-color);\n",
              "    fill: var(--disabled-fill-color);\n",
              "    box-shadow: none;\n",
              "  }\n",
              "\n",
              "  .colab-df-spinner {\n",
              "    border: 2px solid var(--fill-color);\n",
              "    border-color: transparent;\n",
              "    border-bottom-color: var(--fill-color);\n",
              "    animation:\n",
              "      spin 1s steps(1) infinite;\n",
              "  }\n",
              "\n",
              "  @keyframes spin {\n",
              "    0% {\n",
              "      border-color: transparent;\n",
              "      border-bottom-color: var(--fill-color);\n",
              "      border-left-color: var(--fill-color);\n",
              "    }\n",
              "    20% {\n",
              "      border-color: transparent;\n",
              "      border-left-color: var(--fill-color);\n",
              "      border-top-color: var(--fill-color);\n",
              "    }\n",
              "    30% {\n",
              "      border-color: transparent;\n",
              "      border-left-color: var(--fill-color);\n",
              "      border-top-color: var(--fill-color);\n",
              "      border-right-color: var(--fill-color);\n",
              "    }\n",
              "    40% {\n",
              "      border-color: transparent;\n",
              "      border-right-color: var(--fill-color);\n",
              "      border-top-color: var(--fill-color);\n",
              "    }\n",
              "    60% {\n",
              "      border-color: transparent;\n",
              "      border-right-color: var(--fill-color);\n",
              "    }\n",
              "    80% {\n",
              "      border-color: transparent;\n",
              "      border-right-color: var(--fill-color);\n",
              "      border-bottom-color: var(--fill-color);\n",
              "    }\n",
              "    90% {\n",
              "      border-color: transparent;\n",
              "      border-bottom-color: var(--fill-color);\n",
              "    }\n",
              "  }\n",
              "</style>\n",
              "\n",
              "  <script>\n",
              "    async function quickchart(key) {\n",
              "      const quickchartButtonEl =\n",
              "        document.querySelector('#' + key + ' button');\n",
              "      quickchartButtonEl.disabled = true;  // To prevent multiple clicks.\n",
              "      quickchartButtonEl.classList.add('colab-df-spinner');\n",
              "      try {\n",
              "        const charts = await google.colab.kernel.invokeFunction(\n",
              "            'suggestCharts', [key], {});\n",
              "      } catch (error) {\n",
              "        console.error('Error during call to suggestCharts:', error);\n",
              "      }\n",
              "      quickchartButtonEl.classList.remove('colab-df-spinner');\n",
              "      quickchartButtonEl.classList.add('colab-df-quickchart-complete');\n",
              "    }\n",
              "    (() => {\n",
              "      let quickchartButtonEl =\n",
              "        document.querySelector('#df-976b3ab9-b589-4f5d-a484-a56dfa01d325 button');\n",
              "      quickchartButtonEl.style.display =\n",
              "        google.colab.kernel.accessAllowed ? 'block' : 'none';\n",
              "    })();\n",
              "  </script>\n",
              "</div>\n",
              "    </div>\n",
              "  </div>\n"
            ]
          },
          "metadata": {},
          "execution_count": 10
        }
      ]
    },
    {
      "cell_type": "code",
      "source": [
        "n = int(len(shuffled_df) * 0.2)"
      ],
      "metadata": {
        "id": "o1oJgRyLHtqS"
      },
      "execution_count": 11,
      "outputs": []
    },
    {
      "cell_type": "code",
      "source": [
        "shuffled_df['median_house_value_log'] = shuffled_df['median_house_value'].apply(lambda x:np.log1p(x))"
      ],
      "metadata": {
        "id": "-3kvtITWdsYO"
      },
      "execution_count": 12,
      "outputs": []
    },
    {
      "cell_type": "code",
      "source": [
        "df_train = shuffled_df[:n]\n",
        "df_val = shuffled_df[n:n+n]\n",
        "df_test = shuffled_df[n+n:]"
      ],
      "metadata": {
        "id": "jUuPvM2YHBMh"
      },
      "execution_count": 13,
      "outputs": []
    },
    {
      "cell_type": "code",
      "source": [],
      "metadata": {
        "id": "X2xBG33sI4a5"
      },
      "execution_count": 13,
      "outputs": []
    },
    {
      "cell_type": "code",
      "source": [
        "shuffled_df.isna().sum()"
      ],
      "metadata": {
        "colab": {
          "base_uri": "https://localhost:8080/"
        },
        "id": "B29NBA3C-l4T",
        "outputId": "02c4a4e5-f0bc-407b-990f-da1f470bd2ae"
      },
      "execution_count": 14,
      "outputs": [
        {
          "output_type": "execute_result",
          "data": {
            "text/plain": [
              "latitude                    0\n",
              "longitude                   0\n",
              "housing_median_age          0\n",
              "total_rooms                 0\n",
              "total_bedrooms            207\n",
              "population                  0\n",
              "households                  0\n",
              "median_income               0\n",
              "median_house_value          0\n",
              "median_house_value_log      0\n",
              "dtype: int64"
            ]
          },
          "metadata": {},
          "execution_count": 14
        }
      ]
    },
    {
      "cell_type": "code",
      "source": [
        "mean_of_num_of_bedrooms = df_train['total_bedrooms'].fillna(0).mean()"
      ],
      "metadata": {
        "id": "MyFGak3r-vLy"
      },
      "execution_count": 15,
      "outputs": []
    },
    {
      "cell_type": "code",
      "source": [
        "import seaborn as sb\n",
        "sb.histplot(shuffled_df['median_house_value_log'].values,color='blue',bins=50)"
      ],
      "metadata": {
        "colab": {
          "base_uri": "https://localhost:8080/",
          "height": 448
        },
        "id": "t86NKEJaKZp-",
        "outputId": "a07110f8-9568-4f06-da3c-ede6ebe0f135"
      },
      "execution_count": 16,
      "outputs": [
        {
          "output_type": "execute_result",
          "data": {
            "text/plain": [
              "<Axes: ylabel='Count'>"
            ]
          },
          "metadata": {},
          "execution_count": 16
        },
        {
          "output_type": "display_data",
          "data": {
            "text/plain": [
              "<Figure size 640x480 with 1 Axes>"
            ],
            "image/png": "[encoded data removed]"
          },
          "metadata": {}
        }
      ]
    },
    {
      "cell_type": "markdown",
      "source": [
        "# Q3 : Which option gives better RMSE?\n",
        "# A: Both are equally good![image.png](data:image/png;base64,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)"
      ],
      "metadata": {
        "id": "OJZVCX_f93Uc"
      }
    },
    {
      "cell_type": "code",
      "source": [
        "y_train = df_train['median_house_value_log'].values\n",
        "y_val = df_val['median_house_value_log'].values\n",
        "y_test = df_test['median_house_value_log'].values"
      ],
      "metadata": {
        "id": "W2EmdsDhL-7H"
      },
      "execution_count": 17,
      "outputs": []
    },
    {
      "cell_type": "code",
      "source": [
        "y = shuffled_df['median_house_value_log'].values"
      ],
      "metadata": {
        "id": "U9xcngVjiQKd"
      },
      "execution_count": 18,
      "outputs": []
    },
    {
      "cell_type": "code",
      "source": [
        "def prepare_X(df,mean_of_num_of_bedrooms=-1):\n",
        "  df = df.copy()\n",
        "  cols = ['housing_median_age','median_income','total_bedrooms',\n",
        "  'total_rooms']\n",
        "  if mean_of_num_of_bedrooms >= 0:\n",
        "    return df[cols].fillna(mean_of_num_of_bedrooms).values\n",
        "  else:\n",
        "    return df[cols].fillna(0).values\n"
      ],
      "metadata": {
        "id": "lfHnHxO0MHRX"
      },
      "execution_count": 19,
      "outputs": []
    },
    {
      "cell_type": "code",
      "source": [
        "df_train.head(10)"
      ],
      "metadata": {
        "colab": {
          "base_uri": "https://localhost:8080/",
          "height": 363
        },
        "id": "Thn1bAGs6Qw2",
        "outputId": "24634dff-4d1d-4cf6-f20d-0b92e554ab8d"
      },
      "execution_count": 20,
      "outputs": [
        {
          "output_type": "execute_result",
          "data": {
            "text/plain": [
              "   latitude  longitude  housing_median_age  total_rooms  total_bedrooms  \\\n",
              "0     36.06    -119.01                25.0       1505.0             NaN   \n",
              "1     35.14    -119.46                30.0       2943.0             NaN   \n",
              "2     37.80    -122.44                52.0       3830.0             NaN   \n",
              "3     34.28    -118.72                17.0       3051.0             NaN   \n",
              "4     36.62    -121.93                34.0       2351.0             NaN   \n",
              "5     34.08    -117.61                12.0       4427.0             NaN   \n",
              "6     33.89    -118.02                36.0       1375.0             NaN   \n",
              "7     33.92    -118.08                38.0       1335.0             NaN   \n",
              "8     37.39    -122.08                 4.0       2292.0             NaN   \n",
              "9     34.18    -118.23                45.0       2332.0             NaN   \n",
              "\n",
              "   population  households  median_income  median_house_value  \\\n",
              "0      1392.0       359.0         1.6812             47700.0   \n",
              "1      1565.0       584.0         2.5313             45800.0   \n",
              "2      1310.0       963.0         3.4801            500001.0   \n",
              "3      1705.0       495.0         5.7376            218600.0   \n",
              "4      1063.0       428.0         3.7250            278000.0   \n",
              "5      2400.0       843.0         4.7147            158700.0   \n",
              "6       670.0       221.0         5.0839            198200.0   \n",
              "7      1011.0       269.0         3.6908            157500.0   \n",
              "8      1050.0       584.0         4.8036            340000.0   \n",
              "9       943.0       339.0         8.1132            446600.0   \n",
              "\n",
              "   median_house_value_log  \n",
              "0               10.772708  \n",
              "1               10.732061  \n",
              "2               13.122367  \n",
              "3               12.295003  \n",
              "4               12.535380  \n",
              "5               11.974777  \n",
              "6               12.197037  \n",
              "7               11.967187  \n",
              "8               12.736704  \n",
              "9               13.009421  "
            ],
            "text/html": [
              "\n",
              "  <div id=\"df-9bbfc383-0bfd-4d38-9e31-975d10d13da7\" class=\"colab-df-container\">\n",
              "    <div>\n",
              "<style scoped>\n",
              "    .dataframe tbody tr th:only-of-type {\n",
              "        vertical-align: middle;\n",
              "    }\n",
              "\n",
              "    .dataframe tbody tr th {\n",
              "        vertical-align: top;\n",
              "    }\n",
              "\n",
              "    .dataframe thead th {\n",
              "        text-align: right;\n",
              "    }\n",
              "</style>\n",
              "<table border=\"1\" class=\"dataframe\">\n",
              "  <thead>\n",
              "    <tr style=\"text-align: right;\">\n",
              "      <th></th>\n",
              "      <th>latitude</th>\n",
              "      <th>longitude</th>\n",
              "      <th>housing_median_age</th>\n",
              "      <th>total_rooms</th>\n",
              "      <th>total_bedrooms</th>\n",
              "      <th>population</th>\n",
              "      <th>households</th>\n",
              "      <th>median_income</th>\n",
              "      <th>median_house_value</th>\n",
              "      <th>median_house_value_log</th>\n",
              "    </tr>\n",
              "  </thead>\n",
              "  <tbody>\n",
              "    <tr>\n",
              "      <th>0</th>\n",
              "      <td>36.06</td>\n",
              "      <td>-119.01</td>\n",
              "      <td>25.0</td>\n",
              "      <td>1505.0</td>\n",
              "      <td>NaN</td>\n",
              "      <td>1392.0</td>\n",
              "      <td>359.0</td>\n",
              "      <td>1.6812</td>\n",
              "      <td>47700.0</td>\n",
              "      <td>10.772708</td>\n",
              "    </tr>\n",
              "    <tr>\n",
              "      <th>1</th>\n",
              "      <td>35.14</td>\n",
              "      <td>-119.46</td>\n",
              "      <td>30.0</td>\n",
              "      <td>2943.0</td>\n",
              "      <td>NaN</td>\n",
              "      <td>1565.0</td>\n",
              "      <td>584.0</td>\n",
              "      <td>2.5313</td>\n",
              "      <td>45800.0</td>\n",
              "      <td>10.732061</td>\n",
              "    </tr>\n",
              "    <tr>\n",
              "      <th>2</th>\n",
              "      <td>37.80</td>\n",
              "      <td>-122.44</td>\n",
              "      <td>52.0</td>\n",
              "      <td>3830.0</td>\n",
              "      <td>NaN</td>\n",
              "      <td>1310.0</td>\n",
              "      <td>963.0</td>\n",
              "      <td>3.4801</td>\n",
              "      <td>500001.0</td>\n",
              "      <td>13.122367</td>\n",
              "    </tr>\n",
              "    <tr>\n",
              "      <th>3</th>\n",
              "      <td>34.28</td>\n",
              "      <td>-118.72</td>\n",
              "      <td>17.0</td>\n",
              "      <td>3051.0</td>\n",
              "      <td>NaN</td>\n",
              "      <td>1705.0</td>\n",
              "      <td>495.0</td>\n",
              "      <td>5.7376</td>\n",
              "      <td>218600.0</td>\n",
              "      <td>12.295003</td>\n",
              "    </tr>\n",
              "    <tr>\n",
              "      <th>4</th>\n",
              "      <td>36.62</td>\n",
              "      <td>-121.93</td>\n",
              "      <td>34.0</td>\n",
              "      <td>2351.0</td>\n",
              "      <td>NaN</td>\n",
              "      <td>1063.0</td>\n",
              "      <td>428.0</td>\n",
              "      <td>3.7250</td>\n",
              "      <td>278000.0</td>\n",
              "      <td>12.535380</td>\n",
              "    </tr>\n",
              "    <tr>\n",
              "      <th>5</th>\n",
              "      <td>34.08</td>\n",
              "      <td>-117.61</td>\n",
              "      <td>12.0</td>\n",
              "      <td>4427.0</td>\n",
              "      <td>NaN</td>\n",
              "      <td>2400.0</td>\n",
              "      <td>843.0</td>\n",
              "      <td>4.7147</td>\n",
              "      <td>158700.0</td>\n",
              "      <td>11.974777</td>\n",
              "    </tr>\n",
              "    <tr>\n",
              "      <th>6</th>\n",
              "      <td>33.89</td>\n",
              "      <td>-118.02</td>\n",
              "      <td>36.0</td>\n",
              "      <td>1375.0</td>\n",
              "      <td>NaN</td>\n",
              "      <td>670.0</td>\n",
              "      <td>221.0</td>\n",
              "      <td>5.0839</td>\n",
              "      <td>198200.0</td>\n",
              "      <td>12.197037</td>\n",
              "    </tr>\n",
              "    <tr>\n",
              "      <th>7</th>\n",
              "      <td>33.92</td>\n",
              "      <td>-118.08</td>\n",
              "      <td>38.0</td>\n",
              "      <td>1335.0</td>\n",
              "      <td>NaN</td>\n",
              "      <td>1011.0</td>\n",
              "      <td>269.0</td>\n",
              "      <td>3.6908</td>\n",
              "      <td>157500.0</td>\n",
              "      <td>11.967187</td>\n",
              "    </tr>\n",
              "    <tr>\n",
              "      <th>8</th>\n",
              "      <td>37.39</td>\n",
              "      <td>-122.08</td>\n",
              "      <td>4.0</td>\n",
              "      <td>2292.0</td>\n",
              "      <td>NaN</td>\n",
              "      <td>1050.0</td>\n",
              "      <td>584.0</td>\n",
              "      <td>4.8036</td>\n",
              "      <td>340000.0</td>\n",
              "      <td>12.736704</td>\n",
              "    </tr>\n",
              "    <tr>\n",
              "      <th>9</th>\n",
              "      <td>34.18</td>\n",
              "      <td>-118.23</td>\n",
              "      <td>45.0</td>\n",
              "      <td>2332.0</td>\n",
              "      <td>NaN</td>\n",
              "      <td>943.0</td>\n",
              "      <td>339.0</td>\n",
              "      <td>8.1132</td>\n",
              "      <td>446600.0</td>\n",
              "      <td>13.009421</td>\n",
              "    </tr>\n",
              "  </tbody>\n",
              "</table>\n",
              "</div>\n",
              "    <div class=\"colab-df-buttons\">\n",
              "\n",
              "  <div class=\"colab-df-container\">\n",
              "    <button class=\"colab-df-convert\" onclick=\"convertToInteractive('df-9bbfc383-0bfd-4d38-9e31-975d10d13da7')\"\n",
              "            title=\"Convert this dataframe to an interactive table.\"\n",
              "            style=\"display:none;\">\n",
              "\n",
              "  <svg xmlns=\"http://www.w3.org/2000/svg\" height=\"24px\" viewBox=\"0 -960 960 960\">\n",
              "    <path d=\"M120-120v-720h720v720H120Zm60-500h600v-160H180v160Zm220 220h160v-160H400v160Zm0 220h160v-160H400v160ZM180-400h160v-160H180v160Zm440 0h160v-160H620v160ZM180-180h160v-160H180v160Zm440 0h160v-160H620v160Z\"/>\n",
              "  </svg>\n",
              "    </button>\n",
              "\n",
              "  <style>\n",
              "    .colab-df-container {\n",
              "      display:flex;\n",
              "      gap: 12px;\n",
              "    }\n",
              "\n",
              "    .colab-df-convert {\n",
              "      background-color: #E8F0FE;\n",
              "      border: none;\n",
              "      border-radius: 50%;\n",
              "      cursor: pointer;\n",
              "      display: none;\n",
              "      fill: #1967D2;\n",
              "      height: 32px;\n",
              "      padding: 0 0 0 0;\n",
              "      width: 32px;\n",
              "    }\n",
              "\n",
              "    .colab-df-convert:hover {\n",
              "      background-color: #E2EBFA;\n",
              "      box-shadow: 0px 1px 2px rgba(60, 64, 67, 0.3), 0px 1px 3px 1px rgba(60, 64, 67, 0.15);\n",
              "      fill: #174EA6;\n",
              "    }\n",
              "\n",
              "    .colab-df-buttons div {\n",
              "      margin-bottom: 4px;\n",
              "    }\n",
              "\n",
              "    [theme=dark] .colab-df-convert {\n",
              "      background-color: #3B4455;\n",
              "      fill: #D2E3FC;\n",
              "    }\n",
              "\n",
              "    [theme=dark] .colab-df-convert:hover {\n",
              "      background-color: #434B5C;\n",
              "      box-shadow: 0px 1px 3px 1px rgba(0, 0, 0, 0.15);\n",
              "      filter: drop-shadow(0px 1px 2px rgba(0, 0, 0, 0.3));\n",
              "      fill: #FFFFFF;\n",
              "    }\n",
              "  </style>\n",
              "\n",
              "    <script>\n",
              "      const buttonEl =\n",
              "        document.querySelector('#df-9bbfc383-0bfd-4d38-9e31-975d10d13da7 button.colab-df-convert');\n",
              "      buttonEl.style.display =\n",
              "        google.colab.kernel.accessAllowed ? 'block' : 'none';\n",
              "\n",
              "      async function convertToInteractive(key) {\n",
              "        const element = document.querySelector('#df-9bbfc383-0bfd-4d38-9e31-975d10d13da7');\n",
              "        const dataTable =\n",
              "          await google.colab.kernel.invokeFunction('convertToInteractive',\n",
              "                                                    [key], {});\n",
              "        if (!dataTable) return;\n",
              "\n",
              "        const docLinkHtml = 'Like what you see? Visit the ' +\n",
              "          '<a target=\"_blank\" href=https://colab.research.google.com/notebooks/data_table.ipynb>data table notebook</a>'\n",
              "          + ' to learn more about interactive tables.';\n",
              "        element.innerHTML = '';\n",
              "        dataTable['output_type'] = 'display_data';\n",
              "        await google.colab.output.renderOutput(dataTable, element);\n",
              "        const docLink = document.createElement('div');\n",
              "        docLink.innerHTML = docLinkHtml;\n",
              "        element.appendChild(docLink);\n",
              "      }\n",
              "    </script>\n",
              "  </div>\n",
              "\n",
              "\n",
              "<div id=\"df-0e7d9d81-08fe-439a-ace5-43438e7256d7\">\n",
              "  <button class=\"colab-df-quickchart\" onclick=\"quickchart('df-0e7d9d81-08fe-439a-ace5-43438e7256d7')\"\n",
              "            title=\"Suggest charts.\"\n",
              "            style=\"display:none;\">\n",
              "\n",
              "<svg xmlns=\"http://www.w3.org/2000/svg\" height=\"24px\"viewBox=\"0 0 24 24\"\n",
              "     width=\"24px\">\n",
              "    <g>\n",
              "        <path d=\"M19 3H5c-1.1 0-2 .9-2 2v14c0 1.1.9 2 2 2h14c1.1 0 2-.9 2-2V5c0-1.1-.9-2-2-2zM9 17H7v-7h2v7zm4 0h-2V7h2v10zm4 0h-2v-4h2v4z\"/>\n",
              "    </g>\n",
              "</svg>\n",
              "  </button>\n",
              "\n",
              "<style>\n",
              "  .colab-df-quickchart {\n",
              "      --bg-color: #E8F0FE;\n",
              "      --fill-color: #1967D2;\n",
              "      --hover-bg-color: #E2EBFA;\n",
              "      --hover-fill-color: #174EA6;\n",
              "      --disabled-fill-color: #AAA;\n",
              "      --disabled-bg-color: #DDD;\n",
              "  }\n",
              "\n",
              "  [theme=dark] .colab-df-quickchart {\n",
              "      --bg-color: #3B4455;\n",
              "      --fill-color: #D2E3FC;\n",
              "      --hover-bg-color: #434B5C;\n",
              "      --hover-fill-color: #FFFFFF;\n",
              "      --disabled-bg-color: #3B4455;\n",
              "      --disabled-fill-color: #666;\n",
              "  }\n",
              "\n",
              "  .colab-df-quickchart {\n",
              "    background-color: var(--bg-color);\n",
              "    border: none;\n",
              "    border-radius: 50%;\n",
              "    cursor: pointer;\n",
              "    display: none;\n",
              "    fill: var(--fill-color);\n",
              "    height: 32px;\n",
              "    padding: 0;\n",
              "    width: 32px;\n",
              "  }\n",
              "\n",
              "  .colab-df-quickchart:hover {\n",
              "    background-color: var(--hover-bg-color);\n",
              "    box-shadow: 0 1px 2px rgba(60, 64, 67, 0.3), 0 1px 3px 1px rgba(60, 64, 67, 0.15);\n",
              "    fill: var(--button-hover-fill-color);\n",
              "  }\n",
              "\n",
              "  .colab-df-quickchart-complete:disabled,\n",
              "  .colab-df-quickchart-complete:disabled:hover {\n",
              "    background-color: var(--disabled-bg-color);\n",
              "    fill: var(--disabled-fill-color);\n",
              "    box-shadow: none;\n",
              "  }\n",
              "\n",
              "  .colab-df-spinner {\n",
              "    border: 2px solid var(--fill-color);\n",
              "    border-color: transparent;\n",
              "    border-bottom-color: var(--fill-color);\n",
              "    animation:\n",
              "      spin 1s steps(1) infinite;\n",
              "  }\n",
              "\n",
              "  @keyframes spin {\n",
              "    0% {\n",
              "      border-color: transparent;\n",
              "      border-bottom-color: var(--fill-color);\n",
              "      border-left-color: var(--fill-color);\n",
              "    }\n",
              "    20% {\n",
              "      border-color: transparent;\n",
              "      border-left-color: var(--fill-color);\n",
              "      border-top-color: var(--fill-color);\n",
              "    }\n",
              "    30% {\n",
              "      border-color: transparent;\n",
              "      border-left-color: var(--fill-color);\n",
              "      border-top-color: var(--fill-color);\n",
              "      border-right-color: var(--fill-color);\n",
              "    }\n",
              "    40% {\n",
              "      border-color: transparent;\n",
              "      border-right-color: var(--fill-color);\n",
              "      border-top-color: var(--fill-color);\n",
              "    }\n",
              "    60% {\n",
              "      border-color: transparent;\n",
              "      border-right-color: var(--fill-color);\n",
              "    }\n",
              "    80% {\n",
              "      border-color: transparent;\n",
              "      border-right-color: var(--fill-color);\n",
              "      border-bottom-color: var(--fill-color);\n",
              "    }\n",
              "    90% {\n",
              "      border-color: transparent;\n",
              "      border-bottom-color: var(--fill-color);\n",
              "    }\n",
              "  }\n",
              "</style>\n",
              "\n",
              "  <script>\n",
              "    async function quickchart(key) {\n",
              "      const quickchartButtonEl =\n",
              "        document.querySelector('#' + key + ' button');\n",
              "      quickchartButtonEl.disabled = true;  // To prevent multiple clicks.\n",
              "      quickchartButtonEl.classList.add('colab-df-spinner');\n",
              "      try {\n",
              "        const charts = await google.colab.kernel.invokeFunction(\n",
              "            'suggestCharts', [key], {});\n",
              "      } catch (error) {\n",
              "        console.error('Error during call to suggestCharts:', error);\n",
              "      }\n",
              "      quickchartButtonEl.classList.remove('colab-df-spinner');\n",
              "      quickchartButtonEl.classList.add('colab-df-quickchart-complete');\n",
              "    }\n",
              "    (() => {\n",
              "      let quickchartButtonEl =\n",
              "        document.querySelector('#df-0e7d9d81-08fe-439a-ace5-43438e7256d7 button');\n",
              "      quickchartButtonEl.style.display =\n",
              "        google.colab.kernel.accessAllowed ? 'block' : 'none';\n",
              "    })();\n",
              "  </script>\n",
              "</div>\n",
              "    </div>\n",
              "  </div>\n"
            ]
          },
          "metadata": {},
          "execution_count": 20
        }
      ]
    },
    {
      "cell_type": "code",
      "source": [
        "import seaborn as sb\n",
        "sb.histplot(df['housing_median_age'].values,color='blue',bins=50)"
      ],
      "metadata": {
        "colab": {
          "base_uri": "https://localhost:8080/",
          "height": 447
        },
        "id": "-UynZCvZHDBy",
        "outputId": "d9f32a13-091c-44cf-c679-6c80ae8f45cc"
      },
      "execution_count": 21,
      "outputs": [
        {
          "output_type": "execute_result",
          "data": {
            "text/plain": [
              "<Axes: ylabel='Count'>"
            ]
          },
          "metadata": {},
          "execution_count": 21
        },
        {
          "output_type": "display_data",
          "data": {
            "text/plain": [
              "<Figure size 640x480 with 1 Axes>"
            ],
            "image/png": "[encoded data removed]"
          },
          "metadata": {}
        }
      ]
    },
    {
      "cell_type": "code",
      "source": [
        "import seaborn as sb\n",
        "sb.histplot(df['total_rooms'].values,color='blue',bins=20)"
      ],
      "metadata": {
        "colab": {
          "base_uri": "https://localhost:8080/",
          "height": 447
        },
        "id": "iNwjtz1VHgTg",
        "outputId": "ea03904a-f0ec-4431-a083-5b3d2a2fa7d4"
      },
      "execution_count": 22,
      "outputs": [
        {
          "output_type": "execute_result",
          "data": {
            "text/plain": [
              "<Axes: ylabel='Count'>"
            ]
          },
          "metadata": {},
          "execution_count": 22
        },
        {
          "output_type": "display_data",
          "data": {
            "text/plain": [
              "<Figure size 640x480 with 1 Axes>"
            ],
            "image/png": "[encoded data removed]"
          },
          "metadata": {}
        }
      ]
    },
    {
      "cell_type": "code",
      "source": [
        "import seaborn as sb\n",
        "sb.histplot(df['total_bedrooms'].values,color='blue',bins=20)"
      ],
      "metadata": {
        "colab": {
          "base_uri": "https://localhost:8080/",
          "height": 447
        },
        "id": "CtxKlNS4Hxz5",
        "outputId": "babe52e4-ad5c-4da5-a71c-e4d02acfd491"
      },
      "execution_count": 23,
      "outputs": [
        {
          "output_type": "execute_result",
          "data": {
            "text/plain": [
              "<Axes: ylabel='Count'>"
            ]
          },
          "metadata": {},
          "execution_count": 23
        },
        {
          "output_type": "display_data",
          "data": {
            "text/plain": [
              "<Figure size 640x480 with 1 Axes>"
            ],
            "image/png": "[encoded data removed]"
          },
          "metadata": {}
        }
      ]
    },
    {
      "cell_type": "code",
      "source": [
        "X_train = prepare_X(df_train,mean_of_num_of_bedrooms)"
      ],
      "metadata": {
        "id": "e2gTSwV2KOGP"
      },
      "execution_count": 24,
      "outputs": []
    },
    {
      "cell_type": "code",
      "source": [
        "def train_linear_regression(X,y):\n",
        "    X = np.column_stack([np.ones(X.shape[0]),X])\n",
        "    XTX = X.T.dot(X)\n",
        "    XTX_inv = np.linalg.inv(XTX)\n",
        "    res = XTX_inv.dot(X.T).dot(y)\n",
        "    return res[0],res[1:]\n"
      ],
      "metadata": {
        "id": "YF2hUyDKKHzw"
      },
      "execution_count": 25,
      "outputs": []
    },
    {
      "cell_type": "code",
      "source": [
        "w0,w = train_linear_regression(X_train,y_train)"
      ],
      "metadata": {
        "id": "FOtNe1U7M_YI"
      },
      "execution_count": 26,
      "outputs": []
    },
    {
      "cell_type": "code",
      "source": [
        "X_val = prepare_X(df_val)\n",
        "y_pred = w0 + X_val.dot(w)"
      ],
      "metadata": {
        "id": "d7fy00FMcmPR"
      },
      "execution_count": 27,
      "outputs": []
    },
    {
      "cell_type": "code",
      "source": [
        "def rme(y,y_pred):\n",
        "    s = y - y_pred\n",
        "    sq_s = s ** 2\n",
        "    mse = sq_s.mean()\n",
        "    return np.sqrt(mse)"
      ],
      "metadata": {
        "id": "uMX05hplNN7f"
      },
      "execution_count": 28,
      "outputs": []
    },
    {
      "cell_type": "code",
      "source": [
        "rme(y_val,y_pred)"
      ],
      "metadata": {
        "colab": {
          "base_uri": "https://localhost:8080/"
        },
        "id": "bfJfv6YfNTDv",
        "outputId": "c904ee3a-f4d3-4d62-a76e-850f398b7c79"
      },
      "execution_count": 29,
      "outputs": [
        {
          "output_type": "execute_result",
          "data": {
            "text/plain": [
              "0.4045293268888958"
            ]
          },
          "metadata": {},
          "execution_count": 29
        }
      ]
    },
    {
      "cell_type": "code",
      "source": [
        "round(rme(y_val,y_pred),2)"
      ],
      "metadata": {
        "colab": {
          "base_uri": "https://localhost:8080/"
        },
        "id": "gJkGpxGtaYH2",
        "outputId": "bdd52078-9c5e-425f-8fd1-3f8d0e9146ae"
      },
      "execution_count": 30,
      "outputs": [
        {
          "output_type": "execute_result",
          "data": {
            "text/plain": [
              "0.4"
            ]
          },
          "metadata": {},
          "execution_count": 30
        }
      ]
    },
    {
      "cell_type": "code",
      "source": [
        "X_val = prepare_X(df_val,mean_of_num_of_bedrooms=-1)"
      ],
      "metadata": {
        "id": "-D2QT0osanuq"
      },
      "execution_count": 31,
      "outputs": []
    },
    {
      "cell_type": "code",
      "source": [
        "y_pred = w0 + X_val.dot(w)\n"
      ],
      "metadata": {
        "id": "41xzHHs3asFy"
      },
      "execution_count": 32,
      "outputs": []
    },
    {
      "cell_type": "code",
      "source": [
        "round(rme(y_val,y_pred),2)"
      ],
      "metadata": {
        "colab": {
          "base_uri": "https://localhost:8080/"
        },
        "id": "EFirNU6uatxb",
        "outputId": "3d95f769-d349-496e-f546-e8e8e43fcbb2"
      },
      "execution_count": 33,
      "outputs": [
        {
          "output_type": "execute_result",
          "data": {
            "text/plain": [
              "0.4"
            ]
          },
          "metadata": {},
          "execution_count": 33
        }
      ]
    },
    {
      "cell_type": "markdown",
      "source": [
        "# Average prediction (See graph)"
      ],
      "metadata": {
        "id": "-jiuAZF8KbMb"
      }
    },
    {
      "cell_type": "code",
      "source": [
        "sb.histplot(df_train['median_house_value_log'].values,color='blue',bins=40)\n",
        "sb.histplot(y_pred,color='red',bins=40)"
      ],
      "metadata": {
        "colab": {
          "base_uri": "https://localhost:8080/",
          "height": 447
        },
        "id": "MW8to7kCJ1bL",
        "outputId": "34c87eea-b765-4532-89fd-8faaad37d158"
      },
      "execution_count": 34,
      "outputs": [
        {
          "output_type": "execute_result",
          "data": {
            "text/plain": [
              "<Axes: ylabel='Count'>"
            ]
          },
          "metadata": {},
          "execution_count": 34
        },
        {
          "output_type": "display_data",
          "data": {
            "text/plain": [
              "<Figure size 640x480 with 1 Axes>"
            ],
            "image/png": "[encoded data removed]"
          },
          "metadata": {}
        }
      ]
    },
    {
      "cell_type": "code",
      "source": [
        "def train_linear_regression_reg(X,y,r = 0.001):\n",
        "    X = np.column_stack([np.ones(X.shape[0]),X])\n",
        "    XTX = X.T.dot(X)\n",
        "    XTX = XTX + np.eye(XTX.shape[0]) * r\n",
        "    XTX_inv = np.linalg.inv(XTX)\n",
        "    res = XTX_inv.dot(X.T).dot(y)\n",
        "    return res[0],res[1:]\n"
      ],
      "metadata": {
        "id": "MB-PxzUK_bnu"
      },
      "execution_count": 35,
      "outputs": []
    },
    {
      "cell_type": "code",
      "source": [
        "def prepare_XW(df,mean_of_num_of_bedrooms=-1):\n",
        "  df = df.copy()\n",
        "  cols = ['housing_median_age','median_income','total_bedrooms',\n",
        "  'total_rooms','population','households']\n",
        "  if mean_of_num_of_bedrooms >= 0:\n",
        "    return df[cols].fillna(mean_of_num_of_bedrooms).values\n",
        "  else:\n",
        "    return df[cols].fillna(0).values\n"
      ],
      "metadata": {
        "id": "ViNU40UmeHH4"
      },
      "execution_count": 36,
      "outputs": []
    },
    {
      "cell_type": "code",
      "source": [
        "X_val = prepare_XW(df_val,mean_of_num_of_bedrooms=-1)\n",
        "X_train = prepare_XW(df_train,mean_of_num_of_bedrooms=-1)"
      ],
      "metadata": {
        "id": "2cCTMilja3mp"
      },
      "execution_count": 37,
      "outputs": []
    },
    {
      "cell_type": "markdown",
      "source": [
        "# Q4: Which r gives the best RMSE?\n",
        "# A : 0\n",
        "![image.png](data:image/png;base64,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)"
      ],
      "metadata": {
        "id": "9wjeF87qAuIb"
      }
    },
    {
      "cell_type": "code",
      "source": [
        "scores = []\n",
        "for r in [0, 0.000001, 0.0001, 0.001, 0.01, 0.1, 1, 5, 10]:\n",
        "  w0,w = train_linear_regression_reg(X_train,y_train,r)\n",
        "  y_pred = w0 +  X_val.dot(w)\n",
        "  rme_v = rme(y_val,y_pred)\n",
        "  scores.append(rme_v)\n",
        "  print(f'for value of {r}, rmse is {rme_v:.2f}')"
      ],
      "metadata": {
        "colab": {
          "base_uri": "https://localhost:8080/"
        },
        "id": "Z3KM803q_Ku1",
        "outputId": "17168680-57eb-446c-a94c-6ccda2c28f0b"
      },
      "execution_count": 38,
      "outputs": [
        {
          "output_type": "stream",
          "name": "stdout",
          "text": [
            "for value of 0, rmse is 0.40\n",
            "for value of 1e-06, rmse is 0.40\n",
            "for value of 0.0001, rmse is 0.40\n",
            "for value of 0.001, rmse is 0.40\n",
            "for value of 0.01, rmse is 0.40\n",
            "for value of 0.1, rmse is 0.40\n",
            "for value of 1, rmse is 0.40\n",
            "for value of 5, rmse is 0.40\n",
            "for value of 10, rmse is 0.41\n"
          ]
        }
      ]
    },
    {
      "cell_type": "code",
      "source": [],
      "metadata": {
        "id": "_O8IFe6iltg1"
      },
      "execution_count": null,
      "outputs": []
    },
    {
      "cell_type": "code",
      "source": [
        "from sklearn.model_selection import train_test_split\n",
        "seed_values,scores = [0, 1, 2, 3, 4, 5, 6, 7, 8, 9],[]\n",
        "for seed in seed_values:\n",
        "    df_T, df_Temp, y_train, y_temp = train_test_split(shuffled_df, y, test_size=0.4, random_state=seed)\n",
        "    df_v, df_t, y_val, y_test = train_test_split(df_Temp, y_temp, test_size=0.5, random_state=seed)\n",
        "    x_Train = prepare_XW(df_T)\n",
        "    x_Valid = prepare_XW(df_v)\n",
        "    w0,w = train_linear_regression_reg(x_Train,y_train)\n",
        "    y_pred = w0 + x_Valid.dot(w)\n",
        "    rme_result = rme(y_val,y_pred)\n",
        "    print(rme_result)\n",
        "    scores.append(rme_result)\n",
        "\n",
        "round(np.array(scores).std(),3)"
      ],
      "metadata": {
        "colab": {
          "base_uri": "https://localhost:8080/"
        },
        "id": "87_0XNIje6CN",
        "outputId": "c00ad725-553e-4991-ea69-b6b0cab0b1da"
      },
      "execution_count": 40,
      "outputs": [
        {
          "output_type": "stream",
          "name": "stdout",
          "text": [
            "0.3923488279348894\n",
            "0.39685680717947025\n",
            "0.3897174401376421\n",
            "0.3961100791818404\n",
            "0.40181928157364344\n",
            "0.39874024733506214\n",
            "0.39449080473257825\n",
            "0.3967578635658757\n",
            "0.3872736660599471\n",
            "0.3953965585732918\n"
          ]
        },
        {
          "output_type": "execute_result",
          "data": {
            "text/plain": [
              "0.004"
            ]
          },
          "metadata": {},
          "execution_count": 40
        }
      ]
    },
    {
      "cell_type": "markdown",
      "source": [
        "# Q5: What's the value of std?\n",
        "# A : 0.005 (ans = 0.004 almost close to 0.005)"
      ],
      "metadata": {
        "id": "2rV7DJx-IRv-"
      }
    },
    {
      "cell_type": "markdown",
      "source": [
        "# Q6 : What's the RMSE on the test dataset?\n",
        "# A : 0.4075\n",
        "![image.png](data:image/png;base64,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)"
      ],
      "metadata": {
        "id": "lEsiuxxoIbRo"
      }
    },
    {
      "cell_type": "code",
      "source": [
        "df_T, df_Temp, y_train, y_temp = train_test_split(shuffled_df, y, test_size=0.4, random_state=9)\n",
        "df_v, df_t, y_val, y_test = train_test_split(df_Temp, y_temp, test_size=0.5, random_state=9)\n",
        "x_Train = prepare_XW(df_T,mean_of_num_of_bedrooms =-1)\n",
        "x_test = prepare_XW(df_t,mean_of_num_of_bedrooms=-1)\n",
        "w0,w = train_linear_regression_reg(x_Train,y_train,0.001)\n",
        "y_pred = w0 + x_test.dot(w)\n",
        "rme_result = rme(y_test,y_pred)\n",
        "print(rme_result)"
      ],
      "metadata": {
        "id": "stkkuLPLIf-m",
        "colab": {
          "base_uri": "https://localhost:8080/"
        },
        "outputId": "e2397696-0884-4f79-dd33-6539603490d3"
      },
      "execution_count": 42,
      "outputs": [
        {
          "output_type": "stream",
          "name": "stdout",
          "text": [
            "0.4075995206510059\n"
          ]
        }
      ]
    }
  ]
}