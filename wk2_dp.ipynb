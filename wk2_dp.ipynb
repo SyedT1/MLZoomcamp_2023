{
 "cells": [
  {
   "cell_type": "code",
   "execution_count": 1,
   "id": "e452e97f-7443-4976-a935-24cb912dcba5",
   "metadata": {
    "tags": []
   },
   "outputs": [],
   "source": [
    "url = 'https://raw.githubusercontent.com/alexeygrigorev/mlbookcamp-code/master/chapter-02-car-price/data.csv'"
   ]
  },
  {
   "cell_type": "code",
   "execution_count": 2,
   "id": "152708a8-7f06-4f67-980c-9f1a536e96e0",
   "metadata": {
    "tags": []
   },
   "outputs": [
    {
     "name": "stdout",
     "output_type": "stream",
     "text": [
      "--2023-09-26 07:57:22--  https://raw.githubusercontent.com/alexeygrigorev/mlbookcamp-code/master/chapter-02-car-price/data.csv\n",
      "Resolving raw.githubusercontent.com (raw.githubusercontent.com)... 185.199.109.133, 185.199.110.133, 185.199.111.133, ...\n",
      "Connecting to raw.githubusercontent.com (raw.githubusercontent.com)|185.199.109.133|:443... connected.\n",
      "HTTP request sent, awaiting response... 200 OK\n",
      "Length: 1475504 (1.4M) [text/plain]\n",
      "Saving to: ‘data.csv.3’\n",
      "\n",
      "data.csv.3          100%[===================>]   1.41M  1.33MB/s    in 1.1s    \n",
      "\n",
      "2023-09-26 07:57:24 (1.33 MB/s) - ‘data.csv.3’ saved [1475504/1475504]\n",
      "\n"
     ]
    }
   ],
   "source": [
    "!wget $url"
   ]
  },
  {
   "cell_type": "code",
   "execution_count": 3,
   "id": "b8040058-613e-445a-ba37-13d26ce9df47",
   "metadata": {
    "tags": []
   },
   "outputs": [
    {
     "data": {
      "text/html": [
       "<div>\n",
       "<style scoped>\n",
       "    .dataframe tbody tr th:only-of-type {\n",
       "        vertical-align: middle;\n",
       "    }\n",
       "\n",
       "    .dataframe tbody tr th {\n",
       "        vertical-align: top;\n",
       "    }\n",
       "\n",
       "    .dataframe thead th {\n",
       "        text-align: right;\n",
       "    }\n",
       "</style>\n",
       "<table border=\"1\" class=\"dataframe\">\n",
       "  <thead>\n",
       "    <tr style=\"text-align: right;\">\n",
       "      <th></th>\n",
       "      <th>Make</th>\n",
       "      <th>Model</th>\n",
       "      <th>Year</th>\n",
       "      <th>Engine Fuel Type</th>\n",
       "      <th>Engine HP</th>\n",
       "      <th>Engine Cylinders</th>\n",
       "      <th>Transmission Type</th>\n",
       "      <th>Driven_Wheels</th>\n",
       "      <th>Number of Doors</th>\n",
       "      <th>Market Category</th>\n",
       "      <th>Vehicle Size</th>\n",
       "      <th>Vehicle Style</th>\n",
       "      <th>highway MPG</th>\n",
       "      <th>city mpg</th>\n",
       "      <th>Popularity</th>\n",
       "      <th>MSRP</th>\n",
       "    </tr>\n",
       "  </thead>\n",
       "  <tbody>\n",
       "    <tr>\n",
       "      <th>0</th>\n",
       "      <td>BMW</td>\n",
       "      <td>1 Series M</td>\n",
       "      <td>2011</td>\n",
       "      <td>premium unleaded (required)</td>\n",
       "      <td>335.0</td>\n",
       "      <td>6.0</td>\n",
       "      <td>MANUAL</td>\n",
       "      <td>rear wheel drive</td>\n",
       "      <td>2.0</td>\n",
       "      <td>Factory Tuner,Luxury,High-Performance</td>\n",
       "      <td>Compact</td>\n",
       "      <td>Coupe</td>\n",
       "      <td>26</td>\n",
       "      <td>19</td>\n",
       "      <td>3916</td>\n",
       "      <td>46135</td>\n",
       "    </tr>\n",
       "    <tr>\n",
       "      <th>1</th>\n",
       "      <td>BMW</td>\n",
       "      <td>1 Series</td>\n",
       "      <td>2011</td>\n",
       "      <td>premium unleaded (required)</td>\n",
       "      <td>300.0</td>\n",
       "      <td>6.0</td>\n",
       "      <td>MANUAL</td>\n",
       "      <td>rear wheel drive</td>\n",
       "      <td>2.0</td>\n",
       "      <td>Luxury,Performance</td>\n",
       "      <td>Compact</td>\n",
       "      <td>Convertible</td>\n",
       "      <td>28</td>\n",
       "      <td>19</td>\n",
       "      <td>3916</td>\n",
       "      <td>40650</td>\n",
       "    </tr>\n",
       "  </tbody>\n",
       "</table>\n",
       "</div>"
      ],
      "text/plain": [
       "  Make       Model  Year             Engine Fuel Type  Engine HP  \\\n",
       "0  BMW  1 Series M  2011  premium unleaded (required)      335.0   \n",
       "1  BMW    1 Series  2011  premium unleaded (required)      300.0   \n",
       "\n",
       "   Engine Cylinders Transmission Type     Driven_Wheels  Number of Doors  \\\n",
       "0               6.0            MANUAL  rear wheel drive              2.0   \n",
       "1               6.0            MANUAL  rear wheel drive              2.0   \n",
       "\n",
       "                         Market Category Vehicle Size Vehicle Style  \\\n",
       "0  Factory Tuner,Luxury,High-Performance      Compact         Coupe   \n",
       "1                     Luxury,Performance      Compact   Convertible   \n",
       "\n",
       "   highway MPG  city mpg  Popularity   MSRP  \n",
       "0           26        19        3916  46135  \n",
       "1           28        19        3916  40650  "
      ]
     },
     "execution_count": 3,
     "metadata": {},
     "output_type": "execute_result"
    }
   ],
   "source": [
    "import pandas as pd\n",
    "import numpy as np\n",
    "df = pd.read_csv('data.csv')\n",
    "df.head(2)"
   ]
  },
  {
   "cell_type": "code",
   "execution_count": 4,
   "id": "96a09ec0-ad28-4604-8088-0c00651a8cf8",
   "metadata": {
    "tags": []
   },
   "outputs": [],
   "source": [
    "df.columns = df.columns.str.lower().str.replace(' ','_')"
   ]
  },
  {
   "cell_type": "code",
   "execution_count": 5,
   "id": "30cf641f-2d70-4c09-93db-073bce371122",
   "metadata": {
    "tags": []
   },
   "outputs": [
    {
     "data": {
      "text/html": [
       "<div>\n",
       "<style scoped>\n",
       "    .dataframe tbody tr th:only-of-type {\n",
       "        vertical-align: middle;\n",
       "    }\n",
       "\n",
       "    .dataframe tbody tr th {\n",
       "        vertical-align: top;\n",
       "    }\n",
       "\n",
       "    .dataframe thead th {\n",
       "        text-align: right;\n",
       "    }\n",
       "</style>\n",
       "<table border=\"1\" class=\"dataframe\">\n",
       "  <thead>\n",
       "    <tr style=\"text-align: right;\">\n",
       "      <th></th>\n",
       "      <th>make</th>\n",
       "      <th>model</th>\n",
       "      <th>year</th>\n",
       "      <th>engine_fuel_type</th>\n",
       "      <th>engine_hp</th>\n",
       "      <th>engine_cylinders</th>\n",
       "      <th>transmission_type</th>\n",
       "      <th>driven_wheels</th>\n",
       "      <th>number_of_doors</th>\n",
       "      <th>market_category</th>\n",
       "      <th>vehicle_size</th>\n",
       "      <th>vehicle_style</th>\n",
       "      <th>highway_mpg</th>\n",
       "      <th>city_mpg</th>\n",
       "      <th>popularity</th>\n",
       "      <th>msrp</th>\n",
       "    </tr>\n",
       "  </thead>\n",
       "  <tbody>\n",
       "    <tr>\n",
       "      <th>0</th>\n",
       "      <td>BMW</td>\n",
       "      <td>1 Series M</td>\n",
       "      <td>2011</td>\n",
       "      <td>premium unleaded (required)</td>\n",
       "      <td>335.0</td>\n",
       "      <td>6.0</td>\n",
       "      <td>MANUAL</td>\n",
       "      <td>rear wheel drive</td>\n",
       "      <td>2.0</td>\n",
       "      <td>Factory Tuner,Luxury,High-Performance</td>\n",
       "      <td>Compact</td>\n",
       "      <td>Coupe</td>\n",
       "      <td>26</td>\n",
       "      <td>19</td>\n",
       "      <td>3916</td>\n",
       "      <td>46135</td>\n",
       "    </tr>\n",
       "    <tr>\n",
       "      <th>1</th>\n",
       "      <td>BMW</td>\n",
       "      <td>1 Series</td>\n",
       "      <td>2011</td>\n",
       "      <td>premium unleaded (required)</td>\n",
       "      <td>300.0</td>\n",
       "      <td>6.0</td>\n",
       "      <td>MANUAL</td>\n",
       "      <td>rear wheel drive</td>\n",
       "      <td>2.0</td>\n",
       "      <td>Luxury,Performance</td>\n",
       "      <td>Compact</td>\n",
       "      <td>Convertible</td>\n",
       "      <td>28</td>\n",
       "      <td>19</td>\n",
       "      <td>3916</td>\n",
       "      <td>40650</td>\n",
       "    </tr>\n",
       "    <tr>\n",
       "      <th>2</th>\n",
       "      <td>BMW</td>\n",
       "      <td>1 Series</td>\n",
       "      <td>2011</td>\n",
       "      <td>premium unleaded (required)</td>\n",
       "      <td>300.0</td>\n",
       "      <td>6.0</td>\n",
       "      <td>MANUAL</td>\n",
       "      <td>rear wheel drive</td>\n",
       "      <td>2.0</td>\n",
       "      <td>Luxury,High-Performance</td>\n",
       "      <td>Compact</td>\n",
       "      <td>Coupe</td>\n",
       "      <td>28</td>\n",
       "      <td>20</td>\n",
       "      <td>3916</td>\n",
       "      <td>36350</td>\n",
       "    </tr>\n",
       "    <tr>\n",
       "      <th>3</th>\n",
       "      <td>BMW</td>\n",
       "      <td>1 Series</td>\n",
       "      <td>2011</td>\n",
       "      <td>premium unleaded (required)</td>\n",
       "      <td>230.0</td>\n",
       "      <td>6.0</td>\n",
       "      <td>MANUAL</td>\n",
       "      <td>rear wheel drive</td>\n",
       "      <td>2.0</td>\n",
       "      <td>Luxury,Performance</td>\n",
       "      <td>Compact</td>\n",
       "      <td>Coupe</td>\n",
       "      <td>28</td>\n",
       "      <td>18</td>\n",
       "      <td>3916</td>\n",
       "      <td>29450</td>\n",
       "    </tr>\n",
       "    <tr>\n",
       "      <th>4</th>\n",
       "      <td>BMW</td>\n",
       "      <td>1 Series</td>\n",
       "      <td>2011</td>\n",
       "      <td>premium unleaded (required)</td>\n",
       "      <td>230.0</td>\n",
       "      <td>6.0</td>\n",
       "      <td>MANUAL</td>\n",
       "      <td>rear wheel drive</td>\n",
       "      <td>2.0</td>\n",
       "      <td>Luxury</td>\n",
       "      <td>Compact</td>\n",
       "      <td>Convertible</td>\n",
       "      <td>28</td>\n",
       "      <td>18</td>\n",
       "      <td>3916</td>\n",
       "      <td>34500</td>\n",
       "    </tr>\n",
       "  </tbody>\n",
       "</table>\n",
       "</div>"
      ],
      "text/plain": [
       "  make       model  year             engine_fuel_type  engine_hp  \\\n",
       "0  BMW  1 Series M  2011  premium unleaded (required)      335.0   \n",
       "1  BMW    1 Series  2011  premium unleaded (required)      300.0   \n",
       "2  BMW    1 Series  2011  premium unleaded (required)      300.0   \n",
       "3  BMW    1 Series  2011  premium unleaded (required)      230.0   \n",
       "4  BMW    1 Series  2011  premium unleaded (required)      230.0   \n",
       "\n",
       "   engine_cylinders transmission_type     driven_wheels  number_of_doors  \\\n",
       "0               6.0            MANUAL  rear wheel drive              2.0   \n",
       "1               6.0            MANUAL  rear wheel drive              2.0   \n",
       "2               6.0            MANUAL  rear wheel drive              2.0   \n",
       "3               6.0            MANUAL  rear wheel drive              2.0   \n",
       "4               6.0            MANUAL  rear wheel drive              2.0   \n",
       "\n",
       "                         market_category vehicle_size vehicle_style  \\\n",
       "0  Factory Tuner,Luxury,High-Performance      Compact         Coupe   \n",
       "1                     Luxury,Performance      Compact   Convertible   \n",
       "2                Luxury,High-Performance      Compact         Coupe   \n",
       "3                     Luxury,Performance      Compact         Coupe   \n",
       "4                                 Luxury      Compact   Convertible   \n",
       "\n",
       "   highway_mpg  city_mpg  popularity   msrp  \n",
       "0           26        19        3916  46135  \n",
       "1           28        19        3916  40650  \n",
       "2           28        20        3916  36350  \n",
       "3           28        18        3916  29450  \n",
       "4           28        18        3916  34500  "
      ]
     },
     "execution_count": 5,
     "metadata": {},
     "output_type": "execute_result"
    }
   ],
   "source": [
    "df.head()"
   ]
  },
  {
   "cell_type": "code",
   "execution_count": 6,
   "id": "1326584f-0faa-4bac-b725-fab0e04f2516",
   "metadata": {
    "tags": []
   },
   "outputs": [],
   "source": [
    "sttrings = list(df.dtypes[df.dtypes=='object'].index)"
   ]
  },
  {
   "cell_type": "code",
   "execution_count": 7,
   "id": "b3dd2d0a-81a8-444d-9c78-5e4f034ad03d",
   "metadata": {
    "tags": []
   },
   "outputs": [],
   "source": [
    "for string in sttrings:\n",
    "    df[string] = df[string].str.lower().str.replace(' ','_')"
   ]
  },
  {
   "cell_type": "code",
   "execution_count": 8,
   "id": "27720e28-a212-4b81-8c44-f69d5cdd7e45",
   "metadata": {
    "tags": []
   },
   "outputs": [
    {
     "data": {
      "text/html": [
       "<div>\n",
       "<style scoped>\n",
       "    .dataframe tbody tr th:only-of-type {\n",
       "        vertical-align: middle;\n",
       "    }\n",
       "\n",
       "    .dataframe tbody tr th {\n",
       "        vertical-align: top;\n",
       "    }\n",
       "\n",
       "    .dataframe thead th {\n",
       "        text-align: right;\n",
       "    }\n",
       "</style>\n",
       "<table border=\"1\" class=\"dataframe\">\n",
       "  <thead>\n",
       "    <tr style=\"text-align: right;\">\n",
       "      <th></th>\n",
       "      <th>make</th>\n",
       "      <th>model</th>\n",
       "      <th>year</th>\n",
       "      <th>engine_fuel_type</th>\n",
       "      <th>engine_hp</th>\n",
       "      <th>engine_cylinders</th>\n",
       "      <th>transmission_type</th>\n",
       "      <th>driven_wheels</th>\n",
       "      <th>number_of_doors</th>\n",
       "      <th>market_category</th>\n",
       "      <th>vehicle_size</th>\n",
       "      <th>vehicle_style</th>\n",
       "      <th>highway_mpg</th>\n",
       "      <th>city_mpg</th>\n",
       "      <th>popularity</th>\n",
       "      <th>msrp</th>\n",
       "    </tr>\n",
       "  </thead>\n",
       "  <tbody>\n",
       "    <tr>\n",
       "      <th>0</th>\n",
       "      <td>bmw</td>\n",
       "      <td>1_series_m</td>\n",
       "      <td>2011</td>\n",
       "      <td>premium_unleaded_(required)</td>\n",
       "      <td>335.0</td>\n",
       "      <td>6.0</td>\n",
       "      <td>manual</td>\n",
       "      <td>rear_wheel_drive</td>\n",
       "      <td>2.0</td>\n",
       "      <td>factory_tuner,luxury,high-performance</td>\n",
       "      <td>compact</td>\n",
       "      <td>coupe</td>\n",
       "      <td>26</td>\n",
       "      <td>19</td>\n",
       "      <td>3916</td>\n",
       "      <td>46135</td>\n",
       "    </tr>\n",
       "    <tr>\n",
       "      <th>1</th>\n",
       "      <td>bmw</td>\n",
       "      <td>1_series</td>\n",
       "      <td>2011</td>\n",
       "      <td>premium_unleaded_(required)</td>\n",
       "      <td>300.0</td>\n",
       "      <td>6.0</td>\n",
       "      <td>manual</td>\n",
       "      <td>rear_wheel_drive</td>\n",
       "      <td>2.0</td>\n",
       "      <td>luxury,performance</td>\n",
       "      <td>compact</td>\n",
       "      <td>convertible</td>\n",
       "      <td>28</td>\n",
       "      <td>19</td>\n",
       "      <td>3916</td>\n",
       "      <td>40650</td>\n",
       "    </tr>\n",
       "  </tbody>\n",
       "</table>\n",
       "</div>"
      ],
      "text/plain": [
       "  make       model  year             engine_fuel_type  engine_hp  \\\n",
       "0  bmw  1_series_m  2011  premium_unleaded_(required)      335.0   \n",
       "1  bmw    1_series  2011  premium_unleaded_(required)      300.0   \n",
       "\n",
       "   engine_cylinders transmission_type     driven_wheels  number_of_doors  \\\n",
       "0               6.0            manual  rear_wheel_drive              2.0   \n",
       "1               6.0            manual  rear_wheel_drive              2.0   \n",
       "\n",
       "                         market_category vehicle_size vehicle_style  \\\n",
       "0  factory_tuner,luxury,high-performance      compact         coupe   \n",
       "1                     luxury,performance      compact   convertible   \n",
       "\n",
       "   highway_mpg  city_mpg  popularity   msrp  \n",
       "0           26        19        3916  46135  \n",
       "1           28        19        3916  40650  "
      ]
     },
     "execution_count": 8,
     "metadata": {},
     "output_type": "execute_result"
    }
   ],
   "source": [
    "df.head(2)"
   ]
  },
  {
   "cell_type": "code",
   "execution_count": 9,
   "id": "0d494c0e-a39a-4eb5-b8b5-29b536cc6b52",
   "metadata": {
    "tags": []
   },
   "outputs": [
    {
     "data": {
      "text/plain": [
       "year           int64\n",
       "highway_mpg    int64\n",
       "city_mpg       int64\n",
       "popularity     int64\n",
       "msrp           int64\n",
       "dtype: object"
      ]
     },
     "execution_count": 9,
     "metadata": {},
     "output_type": "execute_result"
    }
   ],
   "source": [
    "df.dtypes[df.dtypes=='int64']"
   ]
  },
  {
   "cell_type": "code",
   "execution_count": 10,
   "id": "c5fd119b-c960-4e76-aaaf-360a3197c9ac",
   "metadata": {
    "tags": []
   },
   "outputs": [
    {
     "name": "stdout",
     "output_type": "stream",
     "text": [
      "['bmw' 'audi' 'fiat']\n",
      "48\n",
      "['1_series_m' '1_series' '100']\n",
      "914\n",
      "[2011 2012 2013]\n",
      "28\n",
      "['premium_unleaded_(required)' 'regular_unleaded'\n",
      " 'premium_unleaded_(recommended)']\n",
      "10\n",
      "[335. 300. 230.]\n",
      "356\n",
      "[6. 4. 5.]\n",
      "9\n",
      "['manual' 'automatic' 'automated_manual']\n",
      "5\n",
      "['rear_wheel_drive' 'front_wheel_drive' 'all_wheel_drive']\n",
      "4\n",
      "[2. 4. 3.]\n",
      "3\n",
      "['factory_tuner,luxury,high-performance' 'luxury,performance'\n",
      " 'luxury,high-performance']\n",
      "71\n",
      "['compact' 'midsize' 'large']\n",
      "3\n",
      "['coupe' 'convertible' 'sedan']\n",
      "16\n",
      "[26 28 27]\n",
      "59\n",
      "[19 20 18]\n",
      "69\n",
      "[3916 3105  819]\n",
      "48\n",
      "[46135 40650 36350]\n",
      "6049\n"
     ]
    }
   ],
   "source": [
    "for col in df.columns:\n",
    "    print(df[col].unique()[:3])\n",
    "    print(df[col].nunique())"
   ]
  },
  {
   "cell_type": "code",
   "execution_count": 11,
   "id": "2c01bdef-0437-4aba-933d-c2b303d5e655",
   "metadata": {
    "tags": []
   },
   "outputs": [],
   "source": [
    "import matplotlib.pyplot as plt\n",
    "import seaborn as sb"
   ]
  },
  {
   "cell_type": "code",
   "execution_count": 12,
   "id": "9274a005-be50-43ff-8b15-f59fb6b17684",
   "metadata": {
    "tags": []
   },
   "outputs": [
    {
     "data": {
      "text/plain": [
       "<Axes: xlabel='msrp', ylabel='Count'>"
      ]
     },
     "execution_count": 12,
     "metadata": {},
     "output_type": "execute_result"
    },
    {
     "data": {
      "image/png": "[encoded data removed]",
      "text/plain": [
       "<Figure size 640x480 with 1 Axes>"
      ]
     },
     "metadata": {},
     "output_type": "display_data"
    }
   ],
   "source": [
    "sb.histplot(df.msrp[df.msrp < 100000],bins=20)"
   ]
  },
  {
   "cell_type": "code",
   "execution_count": 13,
   "id": "03d4f3c0-7196-412a-9ee4-993b5ba7408e",
   "metadata": {
    "tags": []
   },
   "outputs": [
    {
     "data": {
      "text/plain": [
       "array([0.        , 0.69314718, 1.09861229, 1.38629436, 1.60943791])"
      ]
     },
     "execution_count": 13,
     "metadata": {},
     "output_type": "execute_result"
    }
   ],
   "source": [
    "np.log1p([0,1,2,3,4])"
   ]
  },
  {
   "cell_type": "code",
   "execution_count": 14,
   "id": "f3ce2336-d831-4290-a561-a95e819398f7",
   "metadata": {
    "tags": []
   },
   "outputs": [],
   "source": [
    "price_logs = np.log1p(df.msrp)"
   ]
  },
  {
   "cell_type": "code",
   "execution_count": 15,
   "id": "de6d9e0e-d5ad-418d-aece-f486301134ce",
   "metadata": {
    "tags": []
   },
   "outputs": [
    {
     "data": {
      "text/plain": [
       "<Axes: xlabel='msrp', ylabel='Count'>"
      ]
     },
     "execution_count": 15,
     "metadata": {},
     "output_type": "execute_result"
    },
    {
     "data": {
      "image/png": "[encoded data removed]",
      "text/plain": [
       "<Figure size 640x480 with 1 Axes>"
      ]
     },
     "metadata": {},
     "output_type": "display_data"
    }
   ],
   "source": [
    "sb.histplot(price_logs,bins=50)"
   ]
  },
  {
   "cell_type": "code",
   "execution_count": 16,
   "id": "42ba46af-44bb-43ed-be74-4922be308131",
   "metadata": {
    "tags": []
   },
   "outputs": [
    {
     "name": "stdout",
     "output_type": "stream",
     "text": [
      "11914,2382,2382,7150\n"
     ]
    }
   ],
   "source": [
    "n = len(df)\n",
    "validation = int(n * 0.2)\n",
    "test = int(n* 0.2)\n",
    "train = n - validation - test\n",
    "print(n,validation,test,train,sep=',')"
   ]
  },
  {
   "cell_type": "code",
   "execution_count": 17,
   "id": "c09f8f08-14b9-4729-bd53-116b89dd1eb7",
   "metadata": {
    "tags": []
   },
   "outputs": [
    {
     "data": {
      "text/plain": [
       "array([1547, 5416, 1492, ..., 5714, 9623, 2953])"
      ]
     },
     "execution_count": 17,
     "metadata": {},
     "output_type": "execute_result"
    }
   ],
   "source": [
    "import numpy as np\n",
    "import random\n",
    "idx = np.arange(n)\n",
    "np.random.shuffle(idx)\n",
    "idx"
   ]
  },
  {
   "cell_type": "code",
   "execution_count": 18,
   "id": "61316b4b-6aa9-4312-b289-d1cc8ce74f89",
   "metadata": {
    "tags": []
   },
   "outputs": [],
   "source": [
    "df_train = df.iloc[idx[:train]]\n",
    "df_val = df.iloc[idx[train:train+test]]\n",
    "df_test = df.iloc[idx[train+test:]]"
   ]
  },
  {
   "cell_type": "code",
   "execution_count": 19,
   "id": "07e80cdb-166d-4636-9cec-da593c52323f",
   "metadata": {
    "tags": []
   },
   "outputs": [
    {
     "data": {
      "text/html": [
       "<div>\n",
       "<style scoped>\n",
       "    .dataframe tbody tr th:only-of-type {\n",
       "        vertical-align: middle;\n",
       "    }\n",
       "\n",
       "    .dataframe tbody tr th {\n",
       "        vertical-align: top;\n",
       "    }\n",
       "\n",
       "    .dataframe thead th {\n",
       "        text-align: right;\n",
       "    }\n",
       "</style>\n",
       "<table border=\"1\" class=\"dataframe\">\n",
       "  <thead>\n",
       "    <tr style=\"text-align: right;\">\n",
       "      <th></th>\n",
       "      <th>make</th>\n",
       "      <th>model</th>\n",
       "      <th>year</th>\n",
       "      <th>engine_fuel_type</th>\n",
       "      <th>engine_hp</th>\n",
       "      <th>engine_cylinders</th>\n",
       "      <th>transmission_type</th>\n",
       "      <th>driven_wheels</th>\n",
       "      <th>number_of_doors</th>\n",
       "      <th>market_category</th>\n",
       "      <th>vehicle_size</th>\n",
       "      <th>vehicle_style</th>\n",
       "      <th>highway_mpg</th>\n",
       "      <th>city_mpg</th>\n",
       "      <th>popularity</th>\n",
       "      <th>msrp</th>\n",
       "    </tr>\n",
       "  </thead>\n",
       "  <tbody>\n",
       "    <tr>\n",
       "      <th>1547</th>\n",
       "      <td>cadillac</td>\n",
       "      <td>ats</td>\n",
       "      <td>2016</td>\n",
       "      <td>regular_unleaded</td>\n",
       "      <td>335.0</td>\n",
       "      <td>6.0</td>\n",
       "      <td>automatic</td>\n",
       "      <td>all_wheel_drive</td>\n",
       "      <td>4.0</td>\n",
       "      <td>luxury,high-performance</td>\n",
       "      <td>midsize</td>\n",
       "      <td>sedan</td>\n",
       "      <td>28</td>\n",
       "      <td>19</td>\n",
       "      <td>1624</td>\n",
       "      <td>47155</td>\n",
       "    </tr>\n",
       "    <tr>\n",
       "      <th>5416</th>\n",
       "      <td>volkswagen</td>\n",
       "      <td>golf_r</td>\n",
       "      <td>2016</td>\n",
       "      <td>premium_unleaded_(recommended)</td>\n",
       "      <td>292.0</td>\n",
       "      <td>4.0</td>\n",
       "      <td>automated_manual</td>\n",
       "      <td>all_wheel_drive</td>\n",
       "      <td>4.0</td>\n",
       "      <td>hatchback,factory_tuner,high-performance</td>\n",
       "      <td>compact</td>\n",
       "      <td>4dr_hatchback</td>\n",
       "      <td>30</td>\n",
       "      <td>23</td>\n",
       "      <td>873</td>\n",
       "      <td>36750</td>\n",
       "    </tr>\n",
       "    <tr>\n",
       "      <th>1492</th>\n",
       "      <td>cadillac</td>\n",
       "      <td>ats_coupe</td>\n",
       "      <td>2015</td>\n",
       "      <td>premium_unleaded_(recommended)</td>\n",
       "      <td>272.0</td>\n",
       "      <td>4.0</td>\n",
       "      <td>automatic</td>\n",
       "      <td>all_wheel_drive</td>\n",
       "      <td>2.0</td>\n",
       "      <td>luxury,performance</td>\n",
       "      <td>compact</td>\n",
       "      <td>coupe</td>\n",
       "      <td>29</td>\n",
       "      <td>20</td>\n",
       "      <td>1624</td>\n",
       "      <td>46935</td>\n",
       "    </tr>\n",
       "    <tr>\n",
       "      <th>3573</th>\n",
       "      <td>mitsubishi</td>\n",
       "      <td>diamante</td>\n",
       "      <td>2004</td>\n",
       "      <td>premium_unleaded_(required)</td>\n",
       "      <td>210.0</td>\n",
       "      <td>6.0</td>\n",
       "      <td>automatic</td>\n",
       "      <td>front_wheel_drive</td>\n",
       "      <td>4.0</td>\n",
       "      <td>NaN</td>\n",
       "      <td>midsize</td>\n",
       "      <td>sedan</td>\n",
       "      <td>23</td>\n",
       "      <td>15</td>\n",
       "      <td>436</td>\n",
       "      <td>26819</td>\n",
       "    </tr>\n",
       "    <tr>\n",
       "      <th>1641</th>\n",
       "      <td>chevrolet</td>\n",
       "      <td>aveo</td>\n",
       "      <td>2010</td>\n",
       "      <td>regular_unleaded</td>\n",
       "      <td>108.0</td>\n",
       "      <td>4.0</td>\n",
       "      <td>manual</td>\n",
       "      <td>front_wheel_drive</td>\n",
       "      <td>4.0</td>\n",
       "      <td>hatchback</td>\n",
       "      <td>compact</td>\n",
       "      <td>4dr_hatchback</td>\n",
       "      <td>35</td>\n",
       "      <td>27</td>\n",
       "      <td>1385</td>\n",
       "      <td>12115</td>\n",
       "    </tr>\n",
       "    <tr>\n",
       "      <th>...</th>\n",
       "      <td>...</td>\n",
       "      <td>...</td>\n",
       "      <td>...</td>\n",
       "      <td>...</td>\n",
       "      <td>...</td>\n",
       "      <td>...</td>\n",
       "      <td>...</td>\n",
       "      <td>...</td>\n",
       "      <td>...</td>\n",
       "      <td>...</td>\n",
       "      <td>...</td>\n",
       "      <td>...</td>\n",
       "      <td>...</td>\n",
       "      <td>...</td>\n",
       "      <td>...</td>\n",
       "      <td>...</td>\n",
       "    </tr>\n",
       "    <tr>\n",
       "      <th>2863</th>\n",
       "      <td>bentley</td>\n",
       "      <td>continental_gt</td>\n",
       "      <td>2015</td>\n",
       "      <td>flex-fuel_(premium_unleaded_required/e85)</td>\n",
       "      <td>626.0</td>\n",
       "      <td>12.0</td>\n",
       "      <td>automatic</td>\n",
       "      <td>all_wheel_drive</td>\n",
       "      <td>2.0</td>\n",
       "      <td>exotic,flex_fuel,factory_tuner,luxury,high-per...</td>\n",
       "      <td>midsize</td>\n",
       "      <td>coupe</td>\n",
       "      <td>21</td>\n",
       "      <td>12</td>\n",
       "      <td>520</td>\n",
       "      <td>227600</td>\n",
       "    </tr>\n",
       "    <tr>\n",
       "      <th>3224</th>\n",
       "      <td>cadillac</td>\n",
       "      <td>cts_wagon</td>\n",
       "      <td>2012</td>\n",
       "      <td>regular_unleaded</td>\n",
       "      <td>270.0</td>\n",
       "      <td>6.0</td>\n",
       "      <td>automatic</td>\n",
       "      <td>all_wheel_drive</td>\n",
       "      <td>4.0</td>\n",
       "      <td>luxury</td>\n",
       "      <td>midsize</td>\n",
       "      <td>wagon</td>\n",
       "      <td>26</td>\n",
       "      <td>18</td>\n",
       "      <td>1624</td>\n",
       "      <td>44050</td>\n",
       "    </tr>\n",
       "    <tr>\n",
       "      <th>1243</th>\n",
       "      <td>honda</td>\n",
       "      <td>accord</td>\n",
       "      <td>2016</td>\n",
       "      <td>regular_unleaded</td>\n",
       "      <td>185.0</td>\n",
       "      <td>4.0</td>\n",
       "      <td>automatic</td>\n",
       "      <td>front_wheel_drive</td>\n",
       "      <td>4.0</td>\n",
       "      <td>NaN</td>\n",
       "      <td>midsize</td>\n",
       "      <td>sedan</td>\n",
       "      <td>37</td>\n",
       "      <td>27</td>\n",
       "      <td>2202</td>\n",
       "      <td>26380</td>\n",
       "    </tr>\n",
       "    <tr>\n",
       "      <th>4722</th>\n",
       "      <td>honda</td>\n",
       "      <td>fit</td>\n",
       "      <td>2017</td>\n",
       "      <td>regular_unleaded</td>\n",
       "      <td>130.0</td>\n",
       "      <td>4.0</td>\n",
       "      <td>manual</td>\n",
       "      <td>front_wheel_drive</td>\n",
       "      <td>4.0</td>\n",
       "      <td>hatchback</td>\n",
       "      <td>compact</td>\n",
       "      <td>4dr_hatchback</td>\n",
       "      <td>36</td>\n",
       "      <td>29</td>\n",
       "      <td>2202</td>\n",
       "      <td>17900</td>\n",
       "    </tr>\n",
       "    <tr>\n",
       "      <th>7269</th>\n",
       "      <td>nissan</td>\n",
       "      <td>nv200</td>\n",
       "      <td>2017</td>\n",
       "      <td>regular_unleaded</td>\n",
       "      <td>131.0</td>\n",
       "      <td>4.0</td>\n",
       "      <td>automatic</td>\n",
       "      <td>front_wheel_drive</td>\n",
       "      <td>4.0</td>\n",
       "      <td>NaN</td>\n",
       "      <td>compact</td>\n",
       "      <td>cargo_minivan</td>\n",
       "      <td>26</td>\n",
       "      <td>24</td>\n",
       "      <td>2009</td>\n",
       "      <td>21330</td>\n",
       "    </tr>\n",
       "  </tbody>\n",
       "</table>\n",
       "<p>7150 rows × 16 columns</p>\n",
       "</div>"
      ],
      "text/plain": [
       "            make           model  year  \\\n",
       "1547    cadillac             ats  2016   \n",
       "5416  volkswagen          golf_r  2016   \n",
       "1492    cadillac       ats_coupe  2015   \n",
       "3573  mitsubishi        diamante  2004   \n",
       "1641   chevrolet            aveo  2010   \n",
       "...          ...             ...   ...   \n",
       "2863     bentley  continental_gt  2015   \n",
       "3224    cadillac       cts_wagon  2012   \n",
       "1243       honda          accord  2016   \n",
       "4722       honda             fit  2017   \n",
       "7269      nissan           nv200  2017   \n",
       "\n",
       "                               engine_fuel_type  engine_hp  engine_cylinders  \\\n",
       "1547                           regular_unleaded      335.0               6.0   \n",
       "5416             premium_unleaded_(recommended)      292.0               4.0   \n",
       "1492             premium_unleaded_(recommended)      272.0               4.0   \n",
       "3573                premium_unleaded_(required)      210.0               6.0   \n",
       "1641                           regular_unleaded      108.0               4.0   \n",
       "...                                         ...        ...               ...   \n",
       "2863  flex-fuel_(premium_unleaded_required/e85)      626.0              12.0   \n",
       "3224                           regular_unleaded      270.0               6.0   \n",
       "1243                           regular_unleaded      185.0               4.0   \n",
       "4722                           regular_unleaded      130.0               4.0   \n",
       "7269                           regular_unleaded      131.0               4.0   \n",
       "\n",
       "     transmission_type      driven_wheels  number_of_doors  \\\n",
       "1547         automatic    all_wheel_drive              4.0   \n",
       "5416  automated_manual    all_wheel_drive              4.0   \n",
       "1492         automatic    all_wheel_drive              2.0   \n",
       "3573         automatic  front_wheel_drive              4.0   \n",
       "1641            manual  front_wheel_drive              4.0   \n",
       "...                ...                ...              ...   \n",
       "2863         automatic    all_wheel_drive              2.0   \n",
       "3224         automatic    all_wheel_drive              4.0   \n",
       "1243         automatic  front_wheel_drive              4.0   \n",
       "4722            manual  front_wheel_drive              4.0   \n",
       "7269         automatic  front_wheel_drive              4.0   \n",
       "\n",
       "                                        market_category vehicle_size  \\\n",
       "1547                            luxury,high-performance      midsize   \n",
       "5416           hatchback,factory_tuner,high-performance      compact   \n",
       "1492                                 luxury,performance      compact   \n",
       "3573                                                NaN      midsize   \n",
       "1641                                          hatchback      compact   \n",
       "...                                                 ...          ...   \n",
       "2863  exotic,flex_fuel,factory_tuner,luxury,high-per...      midsize   \n",
       "3224                                             luxury      midsize   \n",
       "1243                                                NaN      midsize   \n",
       "4722                                          hatchback      compact   \n",
       "7269                                                NaN      compact   \n",
       "\n",
       "      vehicle_style  highway_mpg  city_mpg  popularity    msrp  \n",
       "1547          sedan           28        19        1624   47155  \n",
       "5416  4dr_hatchback           30        23         873   36750  \n",
       "1492          coupe           29        20        1624   46935  \n",
       "3573          sedan           23        15         436   26819  \n",
       "1641  4dr_hatchback           35        27        1385   12115  \n",
       "...             ...          ...       ...         ...     ...  \n",
       "2863          coupe           21        12         520  227600  \n",
       "3224          wagon           26        18        1624   44050  \n",
       "1243          sedan           37        27        2202   26380  \n",
       "4722  4dr_hatchback           36        29        2202   17900  \n",
       "7269  cargo_minivan           26        24        2009   21330  \n",
       "\n",
       "[7150 rows x 16 columns]"
      ]
     },
     "execution_count": 19,
     "metadata": {},
     "output_type": "execute_result"
    }
   ],
   "source": [
    "df_train"
   ]
  },
  {
   "cell_type": "code",
   "execution_count": 20,
   "id": "350726db-d48e-48f1-a34f-c1d05741321b",
   "metadata": {
    "tags": []
   },
   "outputs": [],
   "source": [
    "df_train.reset_index(drop=True,inplace=True)"
   ]
  },
  {
   "cell_type": "code",
   "execution_count": 21,
   "id": "0cfa0922-d915-41ce-ae4b-e5d854e4f24a",
   "metadata": {
    "tags": []
   },
   "outputs": [],
   "source": [
    "df_test.reset_index(drop=True,inplace=True)"
   ]
  },
  {
   "cell_type": "code",
   "execution_count": 22,
   "id": "3637ebd9-6f01-4446-ba04-b4cc6b1b5d3e",
   "metadata": {
    "tags": []
   },
   "outputs": [],
   "source": [
    "df_val.reset_index(drop=True,inplace=True)"
   ]
  },
  {
   "cell_type": "code",
   "execution_count": 23,
   "id": "9c01fb4f-404c-4917-af2e-cf6f3586c1f3",
   "metadata": {
    "tags": []
   },
   "outputs": [
    {
     "data": {
      "text/html": [
       "<div>\n",
       "<style scoped>\n",
       "    .dataframe tbody tr th:only-of-type {\n",
       "        vertical-align: middle;\n",
       "    }\n",
       "\n",
       "    .dataframe tbody tr th {\n",
       "        vertical-align: top;\n",
       "    }\n",
       "\n",
       "    .dataframe thead th {\n",
       "        text-align: right;\n",
       "    }\n",
       "</style>\n",
       "<table border=\"1\" class=\"dataframe\">\n",
       "  <thead>\n",
       "    <tr style=\"text-align: right;\">\n",
       "      <th></th>\n",
       "      <th>make</th>\n",
       "      <th>model</th>\n",
       "      <th>year</th>\n",
       "      <th>engine_fuel_type</th>\n",
       "      <th>engine_hp</th>\n",
       "      <th>engine_cylinders</th>\n",
       "      <th>transmission_type</th>\n",
       "      <th>driven_wheels</th>\n",
       "      <th>number_of_doors</th>\n",
       "      <th>market_category</th>\n",
       "      <th>vehicle_size</th>\n",
       "      <th>vehicle_style</th>\n",
       "      <th>highway_mpg</th>\n",
       "      <th>city_mpg</th>\n",
       "      <th>popularity</th>\n",
       "      <th>msrp</th>\n",
       "    </tr>\n",
       "  </thead>\n",
       "  <tbody>\n",
       "    <tr>\n",
       "      <th>0</th>\n",
       "      <td>cadillac</td>\n",
       "      <td>ats</td>\n",
       "      <td>2016</td>\n",
       "      <td>regular_unleaded</td>\n",
       "      <td>335.0</td>\n",
       "      <td>6.0</td>\n",
       "      <td>automatic</td>\n",
       "      <td>all_wheel_drive</td>\n",
       "      <td>4.0</td>\n",
       "      <td>luxury,high-performance</td>\n",
       "      <td>midsize</td>\n",
       "      <td>sedan</td>\n",
       "      <td>28</td>\n",
       "      <td>19</td>\n",
       "      <td>1624</td>\n",
       "      <td>47155</td>\n",
       "    </tr>\n",
       "    <tr>\n",
       "      <th>1</th>\n",
       "      <td>volkswagen</td>\n",
       "      <td>golf_r</td>\n",
       "      <td>2016</td>\n",
       "      <td>premium_unleaded_(recommended)</td>\n",
       "      <td>292.0</td>\n",
       "      <td>4.0</td>\n",
       "      <td>automated_manual</td>\n",
       "      <td>all_wheel_drive</td>\n",
       "      <td>4.0</td>\n",
       "      <td>hatchback,factory_tuner,high-performance</td>\n",
       "      <td>compact</td>\n",
       "      <td>4dr_hatchback</td>\n",
       "      <td>30</td>\n",
       "      <td>23</td>\n",
       "      <td>873</td>\n",
       "      <td>36750</td>\n",
       "    </tr>\n",
       "    <tr>\n",
       "      <th>2</th>\n",
       "      <td>cadillac</td>\n",
       "      <td>ats_coupe</td>\n",
       "      <td>2015</td>\n",
       "      <td>premium_unleaded_(recommended)</td>\n",
       "      <td>272.0</td>\n",
       "      <td>4.0</td>\n",
       "      <td>automatic</td>\n",
       "      <td>all_wheel_drive</td>\n",
       "      <td>2.0</td>\n",
       "      <td>luxury,performance</td>\n",
       "      <td>compact</td>\n",
       "      <td>coupe</td>\n",
       "      <td>29</td>\n",
       "      <td>20</td>\n",
       "      <td>1624</td>\n",
       "      <td>46935</td>\n",
       "    </tr>\n",
       "    <tr>\n",
       "      <th>3</th>\n",
       "      <td>mitsubishi</td>\n",
       "      <td>diamante</td>\n",
       "      <td>2004</td>\n",
       "      <td>premium_unleaded_(required)</td>\n",
       "      <td>210.0</td>\n",
       "      <td>6.0</td>\n",
       "      <td>automatic</td>\n",
       "      <td>front_wheel_drive</td>\n",
       "      <td>4.0</td>\n",
       "      <td>NaN</td>\n",
       "      <td>midsize</td>\n",
       "      <td>sedan</td>\n",
       "      <td>23</td>\n",
       "      <td>15</td>\n",
       "      <td>436</td>\n",
       "      <td>26819</td>\n",
       "    </tr>\n",
       "    <tr>\n",
       "      <th>4</th>\n",
       "      <td>chevrolet</td>\n",
       "      <td>aveo</td>\n",
       "      <td>2010</td>\n",
       "      <td>regular_unleaded</td>\n",
       "      <td>108.0</td>\n",
       "      <td>4.0</td>\n",
       "      <td>manual</td>\n",
       "      <td>front_wheel_drive</td>\n",
       "      <td>4.0</td>\n",
       "      <td>hatchback</td>\n",
       "      <td>compact</td>\n",
       "      <td>4dr_hatchback</td>\n",
       "      <td>35</td>\n",
       "      <td>27</td>\n",
       "      <td>1385</td>\n",
       "      <td>12115</td>\n",
       "    </tr>\n",
       "    <tr>\n",
       "      <th>...</th>\n",
       "      <td>...</td>\n",
       "      <td>...</td>\n",
       "      <td>...</td>\n",
       "      <td>...</td>\n",
       "      <td>...</td>\n",
       "      <td>...</td>\n",
       "      <td>...</td>\n",
       "      <td>...</td>\n",
       "      <td>...</td>\n",
       "      <td>...</td>\n",
       "      <td>...</td>\n",
       "      <td>...</td>\n",
       "      <td>...</td>\n",
       "      <td>...</td>\n",
       "      <td>...</td>\n",
       "      <td>...</td>\n",
       "    </tr>\n",
       "    <tr>\n",
       "      <th>7145</th>\n",
       "      <td>bentley</td>\n",
       "      <td>continental_gt</td>\n",
       "      <td>2015</td>\n",
       "      <td>flex-fuel_(premium_unleaded_required/e85)</td>\n",
       "      <td>626.0</td>\n",
       "      <td>12.0</td>\n",
       "      <td>automatic</td>\n",
       "      <td>all_wheel_drive</td>\n",
       "      <td>2.0</td>\n",
       "      <td>exotic,flex_fuel,factory_tuner,luxury,high-per...</td>\n",
       "      <td>midsize</td>\n",
       "      <td>coupe</td>\n",
       "      <td>21</td>\n",
       "      <td>12</td>\n",
       "      <td>520</td>\n",
       "      <td>227600</td>\n",
       "    </tr>\n",
       "    <tr>\n",
       "      <th>7146</th>\n",
       "      <td>cadillac</td>\n",
       "      <td>cts_wagon</td>\n",
       "      <td>2012</td>\n",
       "      <td>regular_unleaded</td>\n",
       "      <td>270.0</td>\n",
       "      <td>6.0</td>\n",
       "      <td>automatic</td>\n",
       "      <td>all_wheel_drive</td>\n",
       "      <td>4.0</td>\n",
       "      <td>luxury</td>\n",
       "      <td>midsize</td>\n",
       "      <td>wagon</td>\n",
       "      <td>26</td>\n",
       "      <td>18</td>\n",
       "      <td>1624</td>\n",
       "      <td>44050</td>\n",
       "    </tr>\n",
       "    <tr>\n",
       "      <th>7147</th>\n",
       "      <td>honda</td>\n",
       "      <td>accord</td>\n",
       "      <td>2016</td>\n",
       "      <td>regular_unleaded</td>\n",
       "      <td>185.0</td>\n",
       "      <td>4.0</td>\n",
       "      <td>automatic</td>\n",
       "      <td>front_wheel_drive</td>\n",
       "      <td>4.0</td>\n",
       "      <td>NaN</td>\n",
       "      <td>midsize</td>\n",
       "      <td>sedan</td>\n",
       "      <td>37</td>\n",
       "      <td>27</td>\n",
       "      <td>2202</td>\n",
       "      <td>26380</td>\n",
       "    </tr>\n",
       "    <tr>\n",
       "      <th>7148</th>\n",
       "      <td>honda</td>\n",
       "      <td>fit</td>\n",
       "      <td>2017</td>\n",
       "      <td>regular_unleaded</td>\n",
       "      <td>130.0</td>\n",
       "      <td>4.0</td>\n",
       "      <td>manual</td>\n",
       "      <td>front_wheel_drive</td>\n",
       "      <td>4.0</td>\n",
       "      <td>hatchback</td>\n",
       "      <td>compact</td>\n",
       "      <td>4dr_hatchback</td>\n",
       "      <td>36</td>\n",
       "      <td>29</td>\n",
       "      <td>2202</td>\n",
       "      <td>17900</td>\n",
       "    </tr>\n",
       "    <tr>\n",
       "      <th>7149</th>\n",
       "      <td>nissan</td>\n",
       "      <td>nv200</td>\n",
       "      <td>2017</td>\n",
       "      <td>regular_unleaded</td>\n",
       "      <td>131.0</td>\n",
       "      <td>4.0</td>\n",
       "      <td>automatic</td>\n",
       "      <td>front_wheel_drive</td>\n",
       "      <td>4.0</td>\n",
       "      <td>NaN</td>\n",
       "      <td>compact</td>\n",
       "      <td>cargo_minivan</td>\n",
       "      <td>26</td>\n",
       "      <td>24</td>\n",
       "      <td>2009</td>\n",
       "      <td>21330</td>\n",
       "    </tr>\n",
       "  </tbody>\n",
       "</table>\n",
       "<p>7150 rows × 16 columns</p>\n",
       "</div>"
      ],
      "text/plain": [
       "            make           model  year  \\\n",
       "0       cadillac             ats  2016   \n",
       "1     volkswagen          golf_r  2016   \n",
       "2       cadillac       ats_coupe  2015   \n",
       "3     mitsubishi        diamante  2004   \n",
       "4      chevrolet            aveo  2010   \n",
       "...          ...             ...   ...   \n",
       "7145     bentley  continental_gt  2015   \n",
       "7146    cadillac       cts_wagon  2012   \n",
       "7147       honda          accord  2016   \n",
       "7148       honda             fit  2017   \n",
       "7149      nissan           nv200  2017   \n",
       "\n",
       "                               engine_fuel_type  engine_hp  engine_cylinders  \\\n",
       "0                              regular_unleaded      335.0               6.0   \n",
       "1                premium_unleaded_(recommended)      292.0               4.0   \n",
       "2                premium_unleaded_(recommended)      272.0               4.0   \n",
       "3                   premium_unleaded_(required)      210.0               6.0   \n",
       "4                              regular_unleaded      108.0               4.0   \n",
       "...                                         ...        ...               ...   \n",
       "7145  flex-fuel_(premium_unleaded_required/e85)      626.0              12.0   \n",
       "7146                           regular_unleaded      270.0               6.0   \n",
       "7147                           regular_unleaded      185.0               4.0   \n",
       "7148                           regular_unleaded      130.0               4.0   \n",
       "7149                           regular_unleaded      131.0               4.0   \n",
       "\n",
       "     transmission_type      driven_wheels  number_of_doors  \\\n",
       "0            automatic    all_wheel_drive              4.0   \n",
       "1     automated_manual    all_wheel_drive              4.0   \n",
       "2            automatic    all_wheel_drive              2.0   \n",
       "3            automatic  front_wheel_drive              4.0   \n",
       "4               manual  front_wheel_drive              4.0   \n",
       "...                ...                ...              ...   \n",
       "7145         automatic    all_wheel_drive              2.0   \n",
       "7146         automatic    all_wheel_drive              4.0   \n",
       "7147         automatic  front_wheel_drive              4.0   \n",
       "7148            manual  front_wheel_drive              4.0   \n",
       "7149         automatic  front_wheel_drive              4.0   \n",
       "\n",
       "                                        market_category vehicle_size  \\\n",
       "0                               luxury,high-performance      midsize   \n",
       "1              hatchback,factory_tuner,high-performance      compact   \n",
       "2                                    luxury,performance      compact   \n",
       "3                                                   NaN      midsize   \n",
       "4                                             hatchback      compact   \n",
       "...                                                 ...          ...   \n",
       "7145  exotic,flex_fuel,factory_tuner,luxury,high-per...      midsize   \n",
       "7146                                             luxury      midsize   \n",
       "7147                                                NaN      midsize   \n",
       "7148                                          hatchback      compact   \n",
       "7149                                                NaN      compact   \n",
       "\n",
       "      vehicle_style  highway_mpg  city_mpg  popularity    msrp  \n",
       "0             sedan           28        19        1624   47155  \n",
       "1     4dr_hatchback           30        23         873   36750  \n",
       "2             coupe           29        20        1624   46935  \n",
       "3             sedan           23        15         436   26819  \n",
       "4     4dr_hatchback           35        27        1385   12115  \n",
       "...             ...          ...       ...         ...     ...  \n",
       "7145          coupe           21        12         520  227600  \n",
       "7146          wagon           26        18        1624   44050  \n",
       "7147          sedan           37        27        2202   26380  \n",
       "7148  4dr_hatchback           36        29        2202   17900  \n",
       "7149  cargo_minivan           26        24        2009   21330  \n",
       "\n",
       "[7150 rows x 16 columns]"
      ]
     },
     "execution_count": 23,
     "metadata": {},
     "output_type": "execute_result"
    }
   ],
   "source": [
    "df_train"
   ]
  },
  {
   "cell_type": "code",
   "execution_count": 24,
   "id": "38444f1f-f795-4064-b116-bb6eb264e79a",
   "metadata": {
    "tags": []
   },
   "outputs": [],
   "source": [
    "y_train = np.log1p(df_train.msrp.values)\n",
    "y_test = np.log1p(df_test.msrp.values)\n",
    "y_val = np.log1p(df_val.msrp.values)"
   ]
  },
  {
   "cell_type": "code",
   "execution_count": 25,
   "id": "8fe2c2f3-0918-4d4b-b9e1-31ef78de6dea",
   "metadata": {
    "tags": []
   },
   "outputs": [],
   "source": [
    "del df_train['msrp']\n",
    "del df_test['msrp']\n",
    "del df_val['msrp']"
   ]
  },
  {
   "cell_type": "code",
   "execution_count": 26,
   "id": "5718e39d-acb6-4561-b7b0-2a6f11045474",
   "metadata": {
    "tags": []
   },
   "outputs": [
    {
     "data": {
      "text/html": [
       "<div>\n",
       "<style scoped>\n",
       "    .dataframe tbody tr th:only-of-type {\n",
       "        vertical-align: middle;\n",
       "    }\n",
       "\n",
       "    .dataframe tbody tr th {\n",
       "        vertical-align: top;\n",
       "    }\n",
       "\n",
       "    .dataframe thead th {\n",
       "        text-align: right;\n",
       "    }\n",
       "</style>\n",
       "<table border=\"1\" class=\"dataframe\">\n",
       "  <thead>\n",
       "    <tr style=\"text-align: right;\">\n",
       "      <th></th>\n",
       "      <th>make</th>\n",
       "      <th>model</th>\n",
       "      <th>year</th>\n",
       "      <th>engine_fuel_type</th>\n",
       "      <th>engine_hp</th>\n",
       "      <th>engine_cylinders</th>\n",
       "      <th>transmission_type</th>\n",
       "      <th>driven_wheels</th>\n",
       "      <th>number_of_doors</th>\n",
       "      <th>market_category</th>\n",
       "      <th>vehicle_size</th>\n",
       "      <th>vehicle_style</th>\n",
       "      <th>highway_mpg</th>\n",
       "      <th>city_mpg</th>\n",
       "      <th>popularity</th>\n",
       "    </tr>\n",
       "  </thead>\n",
       "  <tbody>\n",
       "    <tr>\n",
       "      <th>0</th>\n",
       "      <td>volvo</td>\n",
       "      <td>xc70</td>\n",
       "      <td>2016</td>\n",
       "      <td>regular_unleaded</td>\n",
       "      <td>240.0</td>\n",
       "      <td>4.0</td>\n",
       "      <td>automatic</td>\n",
       "      <td>front_wheel_drive</td>\n",
       "      <td>4.0</td>\n",
       "      <td>crossover,luxury</td>\n",
       "      <td>midsize</td>\n",
       "      <td>wagon</td>\n",
       "      <td>31</td>\n",
       "      <td>23</td>\n",
       "      <td>870</td>\n",
       "    </tr>\n",
       "    <tr>\n",
       "      <th>1</th>\n",
       "      <td>nissan</td>\n",
       "      <td>350z</td>\n",
       "      <td>2008</td>\n",
       "      <td>regular_unleaded</td>\n",
       "      <td>306.0</td>\n",
       "      <td>6.0</td>\n",
       "      <td>manual</td>\n",
       "      <td>rear_wheel_drive</td>\n",
       "      <td>2.0</td>\n",
       "      <td>high-performance</td>\n",
       "      <td>compact</td>\n",
       "      <td>coupe</td>\n",
       "      <td>25</td>\n",
       "      <td>18</td>\n",
       "      <td>2009</td>\n",
       "    </tr>\n",
       "    <tr>\n",
       "      <th>2</th>\n",
       "      <td>kia</td>\n",
       "      <td>sorento</td>\n",
       "      <td>2017</td>\n",
       "      <td>regular_unleaded</td>\n",
       "      <td>290.0</td>\n",
       "      <td>6.0</td>\n",
       "      <td>automatic</td>\n",
       "      <td>all_wheel_drive</td>\n",
       "      <td>4.0</td>\n",
       "      <td>crossover</td>\n",
       "      <td>midsize</td>\n",
       "      <td>4dr_suv</td>\n",
       "      <td>23</td>\n",
       "      <td>17</td>\n",
       "      <td>1720</td>\n",
       "    </tr>\n",
       "    <tr>\n",
       "      <th>3</th>\n",
       "      <td>gmc</td>\n",
       "      <td>sierra_1500_classic</td>\n",
       "      <td>2007</td>\n",
       "      <td>regular_unleaded</td>\n",
       "      <td>195.0</td>\n",
       "      <td>6.0</td>\n",
       "      <td>automatic</td>\n",
       "      <td>four_wheel_drive</td>\n",
       "      <td>2.0</td>\n",
       "      <td>flex_fuel</td>\n",
       "      <td>large</td>\n",
       "      <td>regular_cab_pickup</td>\n",
       "      <td>17</td>\n",
       "      <td>14</td>\n",
       "      <td>549</td>\n",
       "    </tr>\n",
       "    <tr>\n",
       "      <th>4</th>\n",
       "      <td>chevrolet</td>\n",
       "      <td>corvette</td>\n",
       "      <td>2016</td>\n",
       "      <td>premium_unleaded_(required)</td>\n",
       "      <td>650.0</td>\n",
       "      <td>8.0</td>\n",
       "      <td>manual</td>\n",
       "      <td>rear_wheel_drive</td>\n",
       "      <td>2.0</td>\n",
       "      <td>factory_tuner,high-performance</td>\n",
       "      <td>compact</td>\n",
       "      <td>convertible</td>\n",
       "      <td>22</td>\n",
       "      <td>15</td>\n",
       "      <td>1385</td>\n",
       "    </tr>\n",
       "    <tr>\n",
       "      <th>...</th>\n",
       "      <td>...</td>\n",
       "      <td>...</td>\n",
       "      <td>...</td>\n",
       "      <td>...</td>\n",
       "      <td>...</td>\n",
       "      <td>...</td>\n",
       "      <td>...</td>\n",
       "      <td>...</td>\n",
       "      <td>...</td>\n",
       "      <td>...</td>\n",
       "      <td>...</td>\n",
       "      <td>...</td>\n",
       "      <td>...</td>\n",
       "      <td>...</td>\n",
       "      <td>...</td>\n",
       "    </tr>\n",
       "    <tr>\n",
       "      <th>2377</th>\n",
       "      <td>chevrolet</td>\n",
       "      <td>trailblazer</td>\n",
       "      <td>2008</td>\n",
       "      <td>regular_unleaded</td>\n",
       "      <td>285.0</td>\n",
       "      <td>6.0</td>\n",
       "      <td>automatic</td>\n",
       "      <td>rear_wheel_drive</td>\n",
       "      <td>4.0</td>\n",
       "      <td>NaN</td>\n",
       "      <td>midsize</td>\n",
       "      <td>4dr_suv</td>\n",
       "      <td>20</td>\n",
       "      <td>14</td>\n",
       "      <td>1385</td>\n",
       "    </tr>\n",
       "    <tr>\n",
       "      <th>2378</th>\n",
       "      <td>subaru</td>\n",
       "      <td>impreza</td>\n",
       "      <td>2016</td>\n",
       "      <td>regular_unleaded</td>\n",
       "      <td>148.0</td>\n",
       "      <td>4.0</td>\n",
       "      <td>automatic</td>\n",
       "      <td>all_wheel_drive</td>\n",
       "      <td>4.0</td>\n",
       "      <td>hatchback</td>\n",
       "      <td>compact</td>\n",
       "      <td>4dr_hatchback</td>\n",
       "      <td>37</td>\n",
       "      <td>28</td>\n",
       "      <td>640</td>\n",
       "    </tr>\n",
       "    <tr>\n",
       "      <th>2379</th>\n",
       "      <td>mazda</td>\n",
       "      <td>mx-5_miata</td>\n",
       "      <td>2016</td>\n",
       "      <td>premium_unleaded_(recommended)</td>\n",
       "      <td>155.0</td>\n",
       "      <td>4.0</td>\n",
       "      <td>automatic</td>\n",
       "      <td>rear_wheel_drive</td>\n",
       "      <td>2.0</td>\n",
       "      <td>performance</td>\n",
       "      <td>compact</td>\n",
       "      <td>convertible</td>\n",
       "      <td>36</td>\n",
       "      <td>27</td>\n",
       "      <td>586</td>\n",
       "    </tr>\n",
       "    <tr>\n",
       "      <th>2380</th>\n",
       "      <td>mazda</td>\n",
       "      <td>cx-9</td>\n",
       "      <td>2014</td>\n",
       "      <td>regular_unleaded</td>\n",
       "      <td>273.0</td>\n",
       "      <td>6.0</td>\n",
       "      <td>automatic</td>\n",
       "      <td>all_wheel_drive</td>\n",
       "      <td>4.0</td>\n",
       "      <td>crossover</td>\n",
       "      <td>large</td>\n",
       "      <td>4dr_suv</td>\n",
       "      <td>22</td>\n",
       "      <td>16</td>\n",
       "      <td>586</td>\n",
       "    </tr>\n",
       "    <tr>\n",
       "      <th>2381</th>\n",
       "      <td>aston_martin</td>\n",
       "      <td>vanquish</td>\n",
       "      <td>2014</td>\n",
       "      <td>premium_unleaded_(required)</td>\n",
       "      <td>565.0</td>\n",
       "      <td>12.0</td>\n",
       "      <td>automatic</td>\n",
       "      <td>rear_wheel_drive</td>\n",
       "      <td>2.0</td>\n",
       "      <td>exotic,high-performance</td>\n",
       "      <td>midsize</td>\n",
       "      <td>coupe</td>\n",
       "      <td>19</td>\n",
       "      <td>13</td>\n",
       "      <td>259</td>\n",
       "    </tr>\n",
       "  </tbody>\n",
       "</table>\n",
       "<p>2382 rows × 15 columns</p>\n",
       "</div>"
      ],
      "text/plain": [
       "              make                model  year                engine_fuel_type  \\\n",
       "0            volvo                 xc70  2016                regular_unleaded   \n",
       "1           nissan                 350z  2008                regular_unleaded   \n",
       "2              kia              sorento  2017                regular_unleaded   \n",
       "3              gmc  sierra_1500_classic  2007                regular_unleaded   \n",
       "4        chevrolet             corvette  2016     premium_unleaded_(required)   \n",
       "...            ...                  ...   ...                             ...   \n",
       "2377     chevrolet          trailblazer  2008                regular_unleaded   \n",
       "2378        subaru              impreza  2016                regular_unleaded   \n",
       "2379         mazda           mx-5_miata  2016  premium_unleaded_(recommended)   \n",
       "2380         mazda                 cx-9  2014                regular_unleaded   \n",
       "2381  aston_martin             vanquish  2014     premium_unleaded_(required)   \n",
       "\n",
       "      engine_hp  engine_cylinders transmission_type      driven_wheels  \\\n",
       "0         240.0               4.0         automatic  front_wheel_drive   \n",
       "1         306.0               6.0            manual   rear_wheel_drive   \n",
       "2         290.0               6.0         automatic    all_wheel_drive   \n",
       "3         195.0               6.0         automatic   four_wheel_drive   \n",
       "4         650.0               8.0            manual   rear_wheel_drive   \n",
       "...         ...               ...               ...                ...   \n",
       "2377      285.0               6.0         automatic   rear_wheel_drive   \n",
       "2378      148.0               4.0         automatic    all_wheel_drive   \n",
       "2379      155.0               4.0         automatic   rear_wheel_drive   \n",
       "2380      273.0               6.0         automatic    all_wheel_drive   \n",
       "2381      565.0              12.0         automatic   rear_wheel_drive   \n",
       "\n",
       "      number_of_doors                 market_category vehicle_size  \\\n",
       "0                 4.0                crossover,luxury      midsize   \n",
       "1                 2.0                high-performance      compact   \n",
       "2                 4.0                       crossover      midsize   \n",
       "3                 2.0                       flex_fuel        large   \n",
       "4                 2.0  factory_tuner,high-performance      compact   \n",
       "...               ...                             ...          ...   \n",
       "2377              4.0                             NaN      midsize   \n",
       "2378              4.0                       hatchback      compact   \n",
       "2379              2.0                     performance      compact   \n",
       "2380              4.0                       crossover        large   \n",
       "2381              2.0         exotic,high-performance      midsize   \n",
       "\n",
       "           vehicle_style  highway_mpg  city_mpg  popularity  \n",
       "0                  wagon           31        23         870  \n",
       "1                  coupe           25        18        2009  \n",
       "2                4dr_suv           23        17        1720  \n",
       "3     regular_cab_pickup           17        14         549  \n",
       "4            convertible           22        15        1385  \n",
       "...                  ...          ...       ...         ...  \n",
       "2377             4dr_suv           20        14        1385  \n",
       "2378       4dr_hatchback           37        28         640  \n",
       "2379         convertible           36        27         586  \n",
       "2380             4dr_suv           22        16         586  \n",
       "2381               coupe           19        13         259  \n",
       "\n",
       "[2382 rows x 15 columns]"
      ]
     },
     "execution_count": 26,
     "metadata": {},
     "output_type": "execute_result"
    }
   ],
   "source": [
    "df_val"
   ]
  },
  {
   "cell_type": "code",
   "execution_count": 27,
   "id": "46cd34fd-5cf9-4bdf-8371-19735469e806",
   "metadata": {},
   "outputs": [],
   "source": [
    "xi = [453,11,86]\n",
    "w0 = 7.17\n",
    "w = [0.01,0.04,0.002]"
   ]
  },
  {
   "cell_type": "code",
   "execution_count": 28,
   "id": "96448600-71b8-406f-a505-b23b5cfa5e9d",
   "metadata": {
    "tags": []
   },
   "outputs": [],
   "source": [
    "w = [w0] + w"
   ]
  },
  {
   "cell_type": "code",
   "execution_count": 29,
   "id": "bd2a7a35-1515-411c-8c5e-52d75d5fbac0",
   "metadata": {
    "tags": []
   },
   "outputs": [],
   "source": [
    "xi = [1] + xi"
   ]
  },
  {
   "cell_type": "code",
   "execution_count": 30,
   "id": "06df3fd2-fd21-4a48-be22-f5c719861e7c",
   "metadata": {
    "tags": []
   },
   "outputs": [
    {
     "name": "stdout",
     "output_type": "stream",
     "text": [
      "Variable     Type         Data/Info\n",
      "-----------------------------------\n",
      "col          str          msrp\n",
      "df           DataFrame              make       mode<...>[11914 rows x 16 columns]\n",
      "df_test      DataFrame                make         <...>n[2382 rows x 15 columns]\n",
      "df_train     DataFrame                make         <...>n[7150 rows x 15 columns]\n",
      "df_val       DataFrame                  make       <...>n[2382 rows x 15 columns]\n",
      "idx          ndarray      11914: 11914 elems, type `int64`, 95312 bytes\n",
      "n            int          11914\n",
      "np           module       <module 'numpy' from '/ho<...>kages/numpy/__init__.py'>\n",
      "pd           module       <module 'pandas' from '/h<...>ages/pandas/__init__.py'>\n",
      "plt          module       <module 'matplotlib.pyplo<...>es/matplotlib/pyplot.py'>\n",
      "price_logs   Series       0        10.739349\\n1    <...>th: 11914, dtype: float64\n",
      "random       module       <module 'random' from '/h<...>ib/python3.11/random.py'>\n",
      "sb           module       <module 'seaborn' from '/<...>ges/seaborn/__init__.py'>\n",
      "string       str          vehicle_style\n",
      "sttrings     list         n=8\n",
      "test         int          2382\n",
      "train        int          7150\n",
      "url          str          https://raw.githubusercon<...>ter-02-car-price/data.csv\n",
      "validation   int          2382\n",
      "w            list         n=4\n",
      "w0           float        7.17\n",
      "xi           list         n=4\n",
      "y_test       ndarray      2382: 2382 elems, type `float64`, 19056 bytes\n",
      "y_train      ndarray      7150: 7150 elems, type `float64`, 57200 bytes\n",
      "y_val        ndarray      2382: 2382 elems, type `float64`, 19056 bytes\n"
     ]
    }
   ],
   "source": [
    "%whos"
   ]
  },
  {
   "cell_type": "code",
   "execution_count": 31,
   "id": "5aa9dbca-dc51-4e60-b0cd-bdaefe419ba6",
   "metadata": {
    "tags": []
   },
   "outputs": [],
   "source": [
    "def linear_regression(xi):\n",
    "    return w0 + np.array(xi) @ np.array(w)"
   ]
  },
  {
   "cell_type": "code",
   "execution_count": 32,
   "id": "245d0ba2-e36c-4c06-a813-84ba5e74c20f",
   "metadata": {
    "tags": []
   },
   "outputs": [],
   "source": [
    "res = linear_regression(xi)"
   ]
  },
  {
   "cell_type": "code",
   "execution_count": 33,
   "id": "826afe7d-5a68-4d91-8fde-6e2530f135b5",
   "metadata": {
    "tags": []
   },
   "outputs": [],
   "source": [
    "res_exp = np.expm1(res)"
   ]
  },
  {
   "cell_type": "code",
   "execution_count": 34,
   "id": "511dc5de-1236-4084-98e4-be0a8110955e",
   "metadata": {
    "tags": []
   },
   "outputs": [],
   "source": [
    "X = [\n",
    " [148,24,1385],\n",
    " [132,25,2031],\n",
    " [453,11,86],\n",
    " [158,24,185],\n",
    " [172,25,201],\n",
    " [413,11,86],\n",
    " [38,54,185],\n",
    " [142,25,431],\n",
    " [453,31,86]\n",
    "]\n",
    "X = np.array(X)"
   ]
  },
  {
   "cell_type": "code",
   "execution_count": 35,
   "id": "6d9e7584-aa06-4587-acde-dd3c1745a8cc",
   "metadata": {
    "tags": []
   },
   "outputs": [],
   "source": [
    "X = np.column_stack([np.ones(X.shape[0]),X])"
   ]
  },
  {
   "cell_type": "code",
   "execution_count": 36,
   "id": "9ff98760-c653-4a8d-8cec-fd7d6b7198e0",
   "metadata": {
    "tags": []
   },
   "outputs": [
    {
     "data": {
      "text/plain": [
       "array([[1.000e+00, 1.480e+02, 2.400e+01, 1.385e+03],\n",
       "       [1.000e+00, 1.320e+02, 2.500e+01, 2.031e+03],\n",
       "       [1.000e+00, 4.530e+02, 1.100e+01, 8.600e+01],\n",
       "       [1.000e+00, 1.580e+02, 2.400e+01, 1.850e+02],\n",
       "       [1.000e+00, 1.720e+02, 2.500e+01, 2.010e+02],\n",
       "       [1.000e+00, 4.130e+02, 1.100e+01, 8.600e+01],\n",
       "       [1.000e+00, 3.800e+01, 5.400e+01, 1.850e+02],\n",
       "       [1.000e+00, 1.420e+02, 2.500e+01, 4.310e+02],\n",
       "       [1.000e+00, 4.530e+02, 3.100e+01, 8.600e+01]])"
      ]
     },
     "execution_count": 36,
     "metadata": {},
     "output_type": "execute_result"
    }
   ],
   "source": [
    "X"
   ]
  },
  {
   "cell_type": "code",
   "execution_count": 37,
   "id": "119b4b5d-1f47-4834-8a28-d16c82bde28a",
   "metadata": {
    "tags": []
   },
   "outputs": [],
   "source": [
    "def train_linear_regression(X,y):\n",
    "    X = np.column_stack([np.ones(X.shape[0]),X])\n",
    "    XTX = X.T.dot(X)\n",
    "    XTX_inv = np.linalg.inv(XTX)\n",
    "    res = XTX_inv.dot(X.T).dot(y)\n",
    "    return res[0],res[1:]\n",
    "    "
   ]
  },
  {
   "cell_type": "code",
   "execution_count": 38,
   "id": "73070638-023f-4b04-8906-e5cd816f8bf4",
   "metadata": {
    "tags": []
   },
   "outputs": [],
   "source": [
    "XTX = X.T.dot(X)"
   ]
  },
  {
   "cell_type": "code",
   "execution_count": 39,
   "id": "de0f1272-0342-4460-82f4-6aac00d340d5",
   "metadata": {
    "tags": []
   },
   "outputs": [],
   "source": [
    "XTX_inv = np.linalg.inv(XTX)"
   ]
  },
  {
   "cell_type": "code",
   "execution_count": 40,
   "id": "f2087e0b-5501-4d77-a6f3-463356ff2acd",
   "metadata": {
    "tags": []
   },
   "outputs": [],
   "source": [
    "y = [100, 200, 150, 250,100, 200, 150, 250,120] "
   ]
  },
  {
   "cell_type": "code",
   "execution_count": 41,
   "id": "ad81bc7f-929e-4df8-9710-5167c7e59632",
   "metadata": {
    "tags": []
   },
   "outputs": [],
   "source": [
    "res = XTX_inv.dot(X.T).dot(y)"
   ]
  },
  {
   "cell_type": "code",
   "execution_count": 42,
   "id": "9e48f60e-79e3-4fab-a67a-6fceb5d097b3",
   "metadata": {
    "tags": []
   },
   "outputs": [
    {
     "data": {
      "text/plain": [
       "(300.06776692555593, array([-0.22774253, -2.5769413 , -0.02301206]))"
      ]
     },
     "execution_count": 42,
     "metadata": {},
     "output_type": "execute_result"
    }
   ],
   "source": [
    "res[0],res[1:]"
   ]
  },
  {
   "cell_type": "code",
   "execution_count": 43,
   "id": "19a4d17a-2d16-4b0d-b7f5-9cb9b4446d5a",
   "metadata": {
    "tags": []
   },
   "outputs": [
    {
     "data": {
      "text/plain": [
       "make                  object\n",
       "model                 object\n",
       "year                   int64\n",
       "engine_fuel_type      object\n",
       "engine_hp            float64\n",
       "engine_cylinders     float64\n",
       "transmission_type     object\n",
       "driven_wheels         object\n",
       "number_of_doors      float64\n",
       "market_category       object\n",
       "vehicle_size          object\n",
       "vehicle_style         object\n",
       "highway_mpg            int64\n",
       "city_mpg               int64\n",
       "popularity             int64\n",
       "dtype: object"
      ]
     },
     "execution_count": 43,
     "metadata": {},
     "output_type": "execute_result"
    }
   ],
   "source": [
    "df_train.dtypes"
   ]
  },
  {
   "cell_type": "code",
   "execution_count": 44,
   "id": "ce4b13b3-50ed-45ba-b877-5a34a2798b83",
   "metadata": {
    "tags": []
   },
   "outputs": [
    {
     "data": {
      "text/plain": [
       "Index(['make', 'model', 'year', 'engine_fuel_type', 'engine_hp',\n",
       "       'engine_cylinders', 'transmission_type', 'driven_wheels',\n",
       "       'number_of_doors', 'market_category', 'vehicle_size', 'vehicle_style',\n",
       "       'highway_mpg', 'city_mpg', 'popularity'],\n",
       "      dtype='object')"
      ]
     },
     "execution_count": 44,
     "metadata": {},
     "output_type": "execute_result"
    }
   ],
   "source": [
    "df_train.columns"
   ]
  },
  {
   "cell_type": "code",
   "execution_count": 49,
   "id": "36b88799-290c-4f17-8f68-84037039dbc2",
   "metadata": {
    "tags": []
   },
   "outputs": [],
   "source": [
    "base = ['engine_hp','engine_cylinders','highway_mpg', 'city_mpg', 'popularity']"
   ]
  },
  {
   "cell_type": "code",
   "execution_count": 48,
   "id": "35127a4f-695e-4383-bf12-f73e4acaaef0",
   "metadata": {
    "tags": []
   },
   "outputs": [
    {
     "data": {
      "text/plain": [
       "array([[ 335.,    6.,   28.,   19., 1624.],\n",
       "       [ 292.,    4.,   30.,   23.,  873.],\n",
       "       [ 272.,    4.,   29.,   20., 1624.],\n",
       "       ...,\n",
       "       [ 185.,    4.,   37.,   27., 2202.],\n",
       "       [ 130.,    4.,   36.,   29., 2202.],\n",
       "       [ 131.,    4.,   26.,   24., 2009.]])"
      ]
     },
     "execution_count": 48,
     "metadata": {},
     "output_type": "execute_result"
    }
   ],
   "source": [
    "df_train[base].fillna(0).values"
   ]
  },
  {
   "cell_type": "code",
   "execution_count": 50,
   "id": "b7de3552-0911-4ada-991c-8b3135c0d2bf",
   "metadata": {
    "tags": []
   },
   "outputs": [
    {
     "data": {
      "text/plain": [
       "engine_hp           44\n",
       "engine_cylinders    17\n",
       "highway_mpg          0\n",
       "city_mpg             0\n",
       "popularity           0\n",
       "dtype: int64"
      ]
     },
     "execution_count": 50,
     "metadata": {},
     "output_type": "execute_result"
    }
   ],
   "source": [
    "df_train[base].isnull().sum()"
   ]
  },
  {
   "cell_type": "code",
   "execution_count": 52,
   "id": "35d24bb9-972f-4c1f-a353-e8ea0b01065a",
   "metadata": {
    "tags": []
   },
   "outputs": [],
   "source": [
    "X_train = df_train[base].fillna(0).values"
   ]
  },
  {
   "cell_type": "code",
   "execution_count": null,
   "id": "a10cb0b9-ed72-4d7c-adb6-f9ef5d643508",
   "metadata": {},
   "outputs": [],
   "source": []
  },
  {
   "cell_type": "code",
   "execution_count": 53,
   "id": "242fc563-7a74-4410-9f87-d91210cf9041",
   "metadata": {
    "tags": []
   },
   "outputs": [],
   "source": [
    "w0,w = train_linear_regression(X_train,y_train)"
   ]
  },
  {
   "cell_type": "code",
   "execution_count": 54,
   "id": "38859baf-c128-4c62-aa6f-034e88bc39b4",
   "metadata": {
    "tags": []
   },
   "outputs": [],
   "source": [
    "y_pred = w0 +  X_train.dot(w)"
   ]
  },
  {
   "cell_type": "code",
   "execution_count": 55,
   "id": "b4166627-0f8c-4942-8897-00c79d7e559d",
   "metadata": {
    "tags": []
   },
   "outputs": [
    {
     "data": {
      "text/plain": [
       "<Axes: ylabel='Count'>"
      ]
     },
     "execution_count": 55,
     "metadata": {},
     "output_type": "execute_result"
    },
    {
     "data": {
      "image/png": "[encoded data removed]",
      "text/plain": [
       "<Figure size 640x480 with 1 Axes>"
      ]
     },
     "metadata": {},
     "output_type": "display_data"
    }
   ],
   "source": [
    "import seaborn as sns\n",
    "sns.histplot(y_pred,color = 'red',alpha = 0.5,bins=50)\n",
    "sns.histplot(y_train,color = 'blue',alpha = 0.5,bins = 50)"
   ]
  },
  {
   "cell_type": "code",
   "execution_count": 56,
   "id": "890ece10-8f52-49ad-bd64-dd1830e4dce9",
   "metadata": {
    "tags": []
   },
   "outputs": [],
   "source": [
    "def rme(y,y_pred):\n",
    "    s = y - y_pred\n",
    "    sq_s = s ** 2\n",
    "    mse = sq_s.mean()\n",
    "    return np.sqrt(mse)"
   ]
  },
  {
   "cell_type": "code",
   "execution_count": 57,
   "id": "43599673-32af-404c-b805-38bf620d0b23",
   "metadata": {
    "tags": []
   },
   "outputs": [
    {
     "data": {
      "text/plain": [
       "0.745996529089949"
      ]
     },
     "execution_count": 57,
     "metadata": {},
     "output_type": "execute_result"
    }
   ],
   "source": [
    "rme(y_train,y_pred)"
   ]
  },
  {
   "cell_type": "code",
   "execution_count": 58,
   "id": "d4a33993-015c-4739-8cac-1816a86e0aeb",
   "metadata": {
    "tags": []
   },
   "outputs": [],
   "source": [
    "def prepare_X(df):\n",
    "    df = df.copy()\n",
    "    base = ['engine_hp','engine_cylinders','highway_mpg', 'city_mpg', 'popularity']\n",
    "    df['age'] = max(df.year.values) - df.year\n",
    "    base = base + ['age']\n",
    "    for v in [2,3,4]:\n",
    "        df[f'num_doors_{v}'] = (df.number_of_doors==v).astype('int')\n",
    "        base.append(f'num_doors_{v}')\n",
    "    df_num = df[base]\n",
    "    X = df_num.fillna(0).values\n",
    "    return X"
   ]
  },
  {
   "cell_type": "code",
   "execution_count": 60,
   "id": "7bc3537e-0034-42d4-a210-bdbb7f7ba311",
   "metadata": {
    "tags": []
   },
   "outputs": [
    {
     "data": {
      "text/html": [
       "<div>\n",
       "<style scoped>\n",
       "    .dataframe tbody tr th:only-of-type {\n",
       "        vertical-align: middle;\n",
       "    }\n",
       "\n",
       "    .dataframe tbody tr th {\n",
       "        vertical-align: top;\n",
       "    }\n",
       "\n",
       "    .dataframe thead th {\n",
       "        text-align: right;\n",
       "    }\n",
       "</style>\n",
       "<table border=\"1\" class=\"dataframe\">\n",
       "  <thead>\n",
       "    <tr style=\"text-align: right;\">\n",
       "      <th></th>\n",
       "      <th>make</th>\n",
       "      <th>model</th>\n",
       "      <th>year</th>\n",
       "      <th>engine_fuel_type</th>\n",
       "      <th>engine_hp</th>\n",
       "      <th>engine_cylinders</th>\n",
       "      <th>transmission_type</th>\n",
       "      <th>driven_wheels</th>\n",
       "      <th>number_of_doors</th>\n",
       "      <th>market_category</th>\n",
       "      <th>vehicle_size</th>\n",
       "      <th>vehicle_style</th>\n",
       "      <th>highway_mpg</th>\n",
       "      <th>city_mpg</th>\n",
       "      <th>popularity</th>\n",
       "    </tr>\n",
       "  </thead>\n",
       "  <tbody>\n",
       "    <tr>\n",
       "      <th>0</th>\n",
       "      <td>cadillac</td>\n",
       "      <td>ats</td>\n",
       "      <td>2016</td>\n",
       "      <td>regular_unleaded</td>\n",
       "      <td>335.0</td>\n",
       "      <td>6.0</td>\n",
       "      <td>automatic</td>\n",
       "      <td>all_wheel_drive</td>\n",
       "      <td>4.0</td>\n",
       "      <td>luxury,high-performance</td>\n",
       "      <td>midsize</td>\n",
       "      <td>sedan</td>\n",
       "      <td>28</td>\n",
       "      <td>19</td>\n",
       "      <td>1624</td>\n",
       "    </tr>\n",
       "    <tr>\n",
       "      <th>1</th>\n",
       "      <td>volkswagen</td>\n",
       "      <td>golf_r</td>\n",
       "      <td>2016</td>\n",
       "      <td>premium_unleaded_(recommended)</td>\n",
       "      <td>292.0</td>\n",
       "      <td>4.0</td>\n",
       "      <td>automated_manual</td>\n",
       "      <td>all_wheel_drive</td>\n",
       "      <td>4.0</td>\n",
       "      <td>hatchback,factory_tuner,high-performance</td>\n",
       "      <td>compact</td>\n",
       "      <td>4dr_hatchback</td>\n",
       "      <td>30</td>\n",
       "      <td>23</td>\n",
       "      <td>873</td>\n",
       "    </tr>\n",
       "    <tr>\n",
       "      <th>2</th>\n",
       "      <td>cadillac</td>\n",
       "      <td>ats_coupe</td>\n",
       "      <td>2015</td>\n",
       "      <td>premium_unleaded_(recommended)</td>\n",
       "      <td>272.0</td>\n",
       "      <td>4.0</td>\n",
       "      <td>automatic</td>\n",
       "      <td>all_wheel_drive</td>\n",
       "      <td>2.0</td>\n",
       "      <td>luxury,performance</td>\n",
       "      <td>compact</td>\n",
       "      <td>coupe</td>\n",
       "      <td>29</td>\n",
       "      <td>20</td>\n",
       "      <td>1624</td>\n",
       "    </tr>\n",
       "    <tr>\n",
       "      <th>3</th>\n",
       "      <td>mitsubishi</td>\n",
       "      <td>diamante</td>\n",
       "      <td>2004</td>\n",
       "      <td>premium_unleaded_(required)</td>\n",
       "      <td>210.0</td>\n",
       "      <td>6.0</td>\n",
       "      <td>automatic</td>\n",
       "      <td>front_wheel_drive</td>\n",
       "      <td>4.0</td>\n",
       "      <td>NaN</td>\n",
       "      <td>midsize</td>\n",
       "      <td>sedan</td>\n",
       "      <td>23</td>\n",
       "      <td>15</td>\n",
       "      <td>436</td>\n",
       "    </tr>\n",
       "    <tr>\n",
       "      <th>4</th>\n",
       "      <td>chevrolet</td>\n",
       "      <td>aveo</td>\n",
       "      <td>2010</td>\n",
       "      <td>regular_unleaded</td>\n",
       "      <td>108.0</td>\n",
       "      <td>4.0</td>\n",
       "      <td>manual</td>\n",
       "      <td>front_wheel_drive</td>\n",
       "      <td>4.0</td>\n",
       "      <td>hatchback</td>\n",
       "      <td>compact</td>\n",
       "      <td>4dr_hatchback</td>\n",
       "      <td>35</td>\n",
       "      <td>27</td>\n",
       "      <td>1385</td>\n",
       "    </tr>\n",
       "    <tr>\n",
       "      <th>...</th>\n",
       "      <td>...</td>\n",
       "      <td>...</td>\n",
       "      <td>...</td>\n",
       "      <td>...</td>\n",
       "      <td>...</td>\n",
       "      <td>...</td>\n",
       "      <td>...</td>\n",
       "      <td>...</td>\n",
       "      <td>...</td>\n",
       "      <td>...</td>\n",
       "      <td>...</td>\n",
       "      <td>...</td>\n",
       "      <td>...</td>\n",
       "      <td>...</td>\n",
       "      <td>...</td>\n",
       "    </tr>\n",
       "    <tr>\n",
       "      <th>7145</th>\n",
       "      <td>bentley</td>\n",
       "      <td>continental_gt</td>\n",
       "      <td>2015</td>\n",
       "      <td>flex-fuel_(premium_unleaded_required/e85)</td>\n",
       "      <td>626.0</td>\n",
       "      <td>12.0</td>\n",
       "      <td>automatic</td>\n",
       "      <td>all_wheel_drive</td>\n",
       "      <td>2.0</td>\n",
       "      <td>exotic,flex_fuel,factory_tuner,luxury,high-per...</td>\n",
       "      <td>midsize</td>\n",
       "      <td>coupe</td>\n",
       "      <td>21</td>\n",
       "      <td>12</td>\n",
       "      <td>520</td>\n",
       "    </tr>\n",
       "    <tr>\n",
       "      <th>7146</th>\n",
       "      <td>cadillac</td>\n",
       "      <td>cts_wagon</td>\n",
       "      <td>2012</td>\n",
       "      <td>regular_unleaded</td>\n",
       "      <td>270.0</td>\n",
       "      <td>6.0</td>\n",
       "      <td>automatic</td>\n",
       "      <td>all_wheel_drive</td>\n",
       "      <td>4.0</td>\n",
       "      <td>luxury</td>\n",
       "      <td>midsize</td>\n",
       "      <td>wagon</td>\n",
       "      <td>26</td>\n",
       "      <td>18</td>\n",
       "      <td>1624</td>\n",
       "    </tr>\n",
       "    <tr>\n",
       "      <th>7147</th>\n",
       "      <td>honda</td>\n",
       "      <td>accord</td>\n",
       "      <td>2016</td>\n",
       "      <td>regular_unleaded</td>\n",
       "      <td>185.0</td>\n",
       "      <td>4.0</td>\n",
       "      <td>automatic</td>\n",
       "      <td>front_wheel_drive</td>\n",
       "      <td>4.0</td>\n",
       "      <td>NaN</td>\n",
       "      <td>midsize</td>\n",
       "      <td>sedan</td>\n",
       "      <td>37</td>\n",
       "      <td>27</td>\n",
       "      <td>2202</td>\n",
       "    </tr>\n",
       "    <tr>\n",
       "      <th>7148</th>\n",
       "      <td>honda</td>\n",
       "      <td>fit</td>\n",
       "      <td>2017</td>\n",
       "      <td>regular_unleaded</td>\n",
       "      <td>130.0</td>\n",
       "      <td>4.0</td>\n",
       "      <td>manual</td>\n",
       "      <td>front_wheel_drive</td>\n",
       "      <td>4.0</td>\n",
       "      <td>hatchback</td>\n",
       "      <td>compact</td>\n",
       "      <td>4dr_hatchback</td>\n",
       "      <td>36</td>\n",
       "      <td>29</td>\n",
       "      <td>2202</td>\n",
       "    </tr>\n",
       "    <tr>\n",
       "      <th>7149</th>\n",
       "      <td>nissan</td>\n",
       "      <td>nv200</td>\n",
       "      <td>2017</td>\n",
       "      <td>regular_unleaded</td>\n",
       "      <td>131.0</td>\n",
       "      <td>4.0</td>\n",
       "      <td>automatic</td>\n",
       "      <td>front_wheel_drive</td>\n",
       "      <td>4.0</td>\n",
       "      <td>NaN</td>\n",
       "      <td>compact</td>\n",
       "      <td>cargo_minivan</td>\n",
       "      <td>26</td>\n",
       "      <td>24</td>\n",
       "      <td>2009</td>\n",
       "    </tr>\n",
       "  </tbody>\n",
       "</table>\n",
       "<p>7150 rows × 15 columns</p>\n",
       "</div>"
      ],
      "text/plain": [
       "            make           model  year  \\\n",
       "0       cadillac             ats  2016   \n",
       "1     volkswagen          golf_r  2016   \n",
       "2       cadillac       ats_coupe  2015   \n",
       "3     mitsubishi        diamante  2004   \n",
       "4      chevrolet            aveo  2010   \n",
       "...          ...             ...   ...   \n",
       "7145     bentley  continental_gt  2015   \n",
       "7146    cadillac       cts_wagon  2012   \n",
       "7147       honda          accord  2016   \n",
       "7148       honda             fit  2017   \n",
       "7149      nissan           nv200  2017   \n",
       "\n",
       "                               engine_fuel_type  engine_hp  engine_cylinders  \\\n",
       "0                              regular_unleaded      335.0               6.0   \n",
       "1                premium_unleaded_(recommended)      292.0               4.0   \n",
       "2                premium_unleaded_(recommended)      272.0               4.0   \n",
       "3                   premium_unleaded_(required)      210.0               6.0   \n",
       "4                              regular_unleaded      108.0               4.0   \n",
       "...                                         ...        ...               ...   \n",
       "7145  flex-fuel_(premium_unleaded_required/e85)      626.0              12.0   \n",
       "7146                           regular_unleaded      270.0               6.0   \n",
       "7147                           regular_unleaded      185.0               4.0   \n",
       "7148                           regular_unleaded      130.0               4.0   \n",
       "7149                           regular_unleaded      131.0               4.0   \n",
       "\n",
       "     transmission_type      driven_wheels  number_of_doors  \\\n",
       "0            automatic    all_wheel_drive              4.0   \n",
       "1     automated_manual    all_wheel_drive              4.0   \n",
       "2            automatic    all_wheel_drive              2.0   \n",
       "3            automatic  front_wheel_drive              4.0   \n",
       "4               manual  front_wheel_drive              4.0   \n",
       "...                ...                ...              ...   \n",
       "7145         automatic    all_wheel_drive              2.0   \n",
       "7146         automatic    all_wheel_drive              4.0   \n",
       "7147         automatic  front_wheel_drive              4.0   \n",
       "7148            manual  front_wheel_drive              4.0   \n",
       "7149         automatic  front_wheel_drive              4.0   \n",
       "\n",
       "                                        market_category vehicle_size  \\\n",
       "0                               luxury,high-performance      midsize   \n",
       "1              hatchback,factory_tuner,high-performance      compact   \n",
       "2                                    luxury,performance      compact   \n",
       "3                                                   NaN      midsize   \n",
       "4                                             hatchback      compact   \n",
       "...                                                 ...          ...   \n",
       "7145  exotic,flex_fuel,factory_tuner,luxury,high-per...      midsize   \n",
       "7146                                             luxury      midsize   \n",
       "7147                                                NaN      midsize   \n",
       "7148                                          hatchback      compact   \n",
       "7149                                                NaN      compact   \n",
       "\n",
       "      vehicle_style  highway_mpg  city_mpg  popularity  \n",
       "0             sedan           28        19        1624  \n",
       "1     4dr_hatchback           30        23         873  \n",
       "2             coupe           29        20        1624  \n",
       "3             sedan           23        15         436  \n",
       "4     4dr_hatchback           35        27        1385  \n",
       "...             ...          ...       ...         ...  \n",
       "7145          coupe           21        12         520  \n",
       "7146          wagon           26        18        1624  \n",
       "7147          sedan           37        27        2202  \n",
       "7148  4dr_hatchback           36        29        2202  \n",
       "7149  cargo_minivan           26        24        2009  \n",
       "\n",
       "[7150 rows x 15 columns]"
      ]
     },
     "execution_count": 60,
     "metadata": {},
     "output_type": "execute_result"
    }
   ],
   "source": [
    "df_train"
   ]
  },
  {
   "cell_type": "code",
   "execution_count": 61,
   "id": "a4497065-069b-4e74-959d-b742b03cbf28",
   "metadata": {
    "tags": []
   },
   "outputs": [],
   "source": [
    "X_train = prepare_X(df_train)"
   ]
  },
  {
   "cell_type": "code",
   "execution_count": 62,
   "id": "09a9bd0e-95ff-4879-b539-c0f3bbdb7930",
   "metadata": {
    "tags": []
   },
   "outputs": [
    {
     "data": {
      "text/plain": [
       "array([[335.,   6.,  28., ...,   0.,   0.,   1.],\n",
       "       [292.,   4.,  30., ...,   0.,   0.,   1.],\n",
       "       [272.,   4.,  29., ...,   1.,   0.,   0.],\n",
       "       ...,\n",
       "       [185.,   4.,  37., ...,   0.,   0.,   1.],\n",
       "       [130.,   4.,  36., ...,   0.,   0.,   1.],\n",
       "       [131.,   4.,  26., ...,   0.,   0.,   1.]])"
      ]
     },
     "execution_count": 62,
     "metadata": {},
     "output_type": "execute_result"
    }
   ],
   "source": [
    "X_train"
   ]
  },
  {
   "cell_type": "code",
   "execution_count": 63,
   "id": "043e5359-f373-4824-9d14-2068de6a5bce",
   "metadata": {
    "tags": []
   },
   "outputs": [],
   "source": [
    "w0,w = train_linear_regression(X_train,y_train)"
   ]
  },
  {
   "cell_type": "code",
   "execution_count": 64,
   "id": "23e44085-f6f4-47a6-b9ae-cd431d691643",
   "metadata": {
    "tags": []
   },
   "outputs": [],
   "source": [
    "X_val = prepare_X(df_val)"
   ]
  },
  {
   "cell_type": "code",
   "execution_count": 65,
   "id": "1d90e1fb-d603-4919-9534-6d82f55d5a4d",
   "metadata": {
    "tags": []
   },
   "outputs": [],
   "source": [
    "y_pred = w0 + X_val.dot(w)"
   ]
  },
  {
   "cell_type": "code",
   "execution_count": 66,
   "id": "03d79abf-9628-40f3-baed-b72b0d896f3b",
   "metadata": {
    "tags": []
   },
   "outputs": [
    {
     "data": {
      "text/plain": [
       "0.5132870362730916"
      ]
     },
     "execution_count": 66,
     "metadata": {},
     "output_type": "execute_result"
    }
   ],
   "source": [
    "rme(y_val,y_pred)"
   ]
  },
  {
   "cell_type": "code",
   "execution_count": 67,
   "id": "fab5fb04-d3b0-4a2b-893c-2d5adc597582",
   "metadata": {
    "tags": []
   },
   "outputs": [
    {
     "data": {
      "text/plain": [
       "<Axes: ylabel='Count'>"
      ]
     },
     "execution_count": 67,
     "metadata": {},
     "output_type": "execute_result"
    },
    {
     "data": {
      "image/png": "[encoded data removed]",
      "text/plain": [
       "<Figure size 640x480 with 1 Axes>"
      ]
     },
     "metadata": {},
     "output_type": "display_data"
    }
   ],
   "source": [
    "import seaborn as sns\n",
    "sns.histplot(y_pred,color = 'red',alpha = 0.5,bins=50)\n",
    "sns.histplot(y_val,color = 'blue',alpha = 0.5,bins = 50)"
   ]
  },
  {
   "cell_type": "code",
   "execution_count": null,
   "id": "2408864e-bef4-426a-82a2-53fdd05b5c13",
   "metadata": {},
   "outputs": [],
   "source": []
  },
  {
   "cell_type": "code",
   "execution_count": 75,
   "id": "a25d44f8-5328-4986-8f18-2c411b479246",
   "metadata": {
    "tags": []
   },
   "outputs": [],
   "source": [
    "car_makes = list(df.make.value_counts().head().index)"
   ]
  },
  {
   "cell_type": "code",
   "execution_count": 84,
   "id": "e6015b26-f0b4-4231-8ca9-5ed11584e51a",
   "metadata": {
    "tags": []
   },
   "outputs": [],
   "source": [
    "def prepare_X(df):\n",
    "    df = df.copy()\n",
    "    base = ['engine_hp','engine_cylinders','highway_mpg', 'city_mpg', 'popularity']\n",
    "    df['age'] = max(df.year.values) - df.year\n",
    "    base = base + ['age']\n",
    "    for v in [2,3,4]:\n",
    "        df[f'num_doors_{v}'] = (df.number_of_doors==v).astype('int')\n",
    "        base.append(f'num_doors_{v}')\n",
    "    for make in car_makes:\n",
    "        df[f'make_{make}'] = (df.make==make).astype('int')\n",
    "        base.append(f'make_{make}')\n",
    "    print(df[base])\n",
    "    df_num = df[base]\n",
    "    X = df_num.fillna(0).values\n",
    "    return X"
   ]
  },
  {
   "cell_type": "code",
   "execution_count": 85,
   "id": "a9a47ef8-0d69-4537-9de7-f4a0ce14d1bf",
   "metadata": {
    "tags": []
   },
   "outputs": [
    {
     "name": "stdout",
     "output_type": "stream",
     "text": [
      "      engine_hp  engine_cylinders  highway_mpg  city_mpg  popularity  age  \\\n",
      "0         335.0               6.0           28        19        1624    1   \n",
      "1         292.0               4.0           30        23         873    1   \n",
      "2         272.0               4.0           29        20        1624    2   \n",
      "3         210.0               6.0           23        15         436   13   \n",
      "4         108.0               4.0           35        27        1385    7   \n",
      "...         ...               ...          ...       ...         ...  ...   \n",
      "7145      626.0              12.0           21        12         520    2   \n",
      "7146      270.0               6.0           26        18        1624    5   \n",
      "7147      185.0               4.0           37        27        2202    1   \n",
      "7148      130.0               4.0           36        29        2202    0   \n",
      "7149      131.0               4.0           26        24        2009    0   \n",
      "\n",
      "      num_doors_2  num_doors_3  num_doors_4  make_chevrolet  make_ford  \\\n",
      "0               0            0            1               0          0   \n",
      "1               0            0            1               0          0   \n",
      "2               1            0            0               0          0   \n",
      "3               0            0            1               0          0   \n",
      "4               0            0            1               1          0   \n",
      "...           ...          ...          ...             ...        ...   \n",
      "7145            1            0            0               0          0   \n",
      "7146            0            0            1               0          0   \n",
      "7147            0            0            1               0          0   \n",
      "7148            0            0            1               0          0   \n",
      "7149            0            0            1               0          0   \n",
      "\n",
      "      make_volkswagen  make_toyota  make_dodge  \n",
      "0                   0            0           0  \n",
      "1                   1            0           0  \n",
      "2                   0            0           0  \n",
      "3                   0            0           0  \n",
      "4                   0            0           0  \n",
      "...               ...          ...         ...  \n",
      "7145                0            0           0  \n",
      "7146                0            0           0  \n",
      "7147                0            0           0  \n",
      "7148                0            0           0  \n",
      "7149                0            0           0  \n",
      "\n",
      "[7150 rows x 14 columns]\n"
     ]
    }
   ],
   "source": [
    "X_train = prepare_X(df_train)"
   ]
  },
  {
   "cell_type": "code",
   "execution_count": 87,
   "id": "31772322-1d6f-45fe-b865-abea91e53f28",
   "metadata": {
    "tags": []
   },
   "outputs": [
    {
     "name": "stdout",
     "output_type": "stream",
     "text": [
      "      engine_hp  engine_cylinders  highway_mpg  city_mpg  popularity  age  \\\n",
      "0         240.0               4.0           31        23         870    1   \n",
      "1         306.0               6.0           25        18        2009    9   \n",
      "2         290.0               6.0           23        17        1720    0   \n",
      "3         195.0               6.0           17        14         549   10   \n",
      "4         650.0               8.0           22        15        1385    1   \n",
      "...         ...               ...          ...       ...         ...  ...   \n",
      "2377      285.0               6.0           20        14        1385    9   \n",
      "2378      148.0               4.0           37        28         640    1   \n",
      "2379      155.0               4.0           36        27         586    1   \n",
      "2380      273.0               6.0           22        16         586    3   \n",
      "2381      565.0              12.0           19        13         259    3   \n",
      "\n",
      "      num_doors_2  num_doors_3  num_doors_4  make_chevrolet  make_ford  \\\n",
      "0               0            0            1               0          0   \n",
      "1               1            0            0               0          0   \n",
      "2               0            0            1               0          0   \n",
      "3               1            0            0               0          0   \n",
      "4               1            0            0               1          0   \n",
      "...           ...          ...          ...             ...        ...   \n",
      "2377            0            0            1               1          0   \n",
      "2378            0            0            1               0          0   \n",
      "2379            1            0            0               0          0   \n",
      "2380            0            0            1               0          0   \n",
      "2381            1            0            0               0          0   \n",
      "\n",
      "      make_volkswagen  make_toyota  make_dodge  \n",
      "0                   0            0           0  \n",
      "1                   0            0           0  \n",
      "2                   0            0           0  \n",
      "3                   0            0           0  \n",
      "4                   0            0           0  \n",
      "...               ...          ...         ...  \n",
      "2377                0            0           0  \n",
      "2378                0            0           0  \n",
      "2379                0            0           0  \n",
      "2380                0            0           0  \n",
      "2381                0            0           0  \n",
      "\n",
      "[2382 rows x 14 columns]\n"
     ]
    }
   ],
   "source": [
    "w0,w = train_linear_regression(X_train,y_train)\n",
    "X_val = prepare_X(df_val)"
   ]
  },
  {
   "cell_type": "code",
   "execution_count": 88,
   "id": "2896bde4-0aca-45df-b4dc-d39cc84d9ffc",
   "metadata": {
    "tags": []
   },
   "outputs": [],
   "source": [
    "y_pred = w0 + X_train.dot(w)"
   ]
  },
  {
   "cell_type": "code",
   "execution_count": 89,
   "id": "65b7d7d6-f795-4104-aa83-171f3eec7b11",
   "metadata": {
    "tags": []
   },
   "outputs": [
    {
     "name": "stdout",
     "output_type": "stream",
     "text": [
      "(7150, 14)\n",
      "(7150,)\n",
      "(2382, 14)\n"
     ]
    }
   ],
   "source": [
    "print(X_train.shape)\n",
    "print(y_train.shape)\n",
    "print(X_val.shape)"
   ]
  },
  {
   "cell_type": "code",
   "execution_count": 90,
   "id": "154f5ece-914f-4df8-b97b-b6017be61bcf",
   "metadata": {
    "tags": []
   },
   "outputs": [
    {
     "data": {
      "text/plain": [
       "0.5005077075843256"
      ]
     },
     "execution_count": 90,
     "metadata": {},
     "output_type": "execute_result"
    }
   ],
   "source": [
    "rme(y_train,y_pred)"
   ]
  },
  {
   "cell_type": "code",
   "execution_count": 98,
   "id": "4fb90d75-b0ef-49ab-af2e-7a6d1fe9c137",
   "metadata": {
    "tags": []
   },
   "outputs": [],
   "source": [
    "categorical_variables = ['make','engine_fuel_type','transmission_type','driven_wheels','market_category','vehicle_size','vehicle_style']"
   ]
  },
  {
   "cell_type": "code",
   "execution_count": 97,
   "id": "3bf73d23-68f5-425a-abf4-b4ea4b80a869",
   "metadata": {
    "tags": []
   },
   "outputs": [
    {
     "data": {
      "text/plain": [
       "7"
      ]
     },
     "execution_count": 97,
     "metadata": {},
     "output_type": "execute_result"
    }
   ],
   "source": [
    "len(categorical_variables)"
   ]
  },
  {
   "cell_type": "code",
   "execution_count": 99,
   "id": "bd0fe7b4-3832-4eef-9141-198e47e40c69",
   "metadata": {
    "tags": []
   },
   "outputs": [],
   "source": [
    "categories = {}\n",
    "for c in categorical_variables:\n",
    "    categories[c] = list(df[c].value_counts().head().index)"
   ]
  },
  {
   "cell_type": "code",
   "execution_count": 100,
   "id": "0b216f78-3e91-46b6-9448-1fa2dfe99ab4",
   "metadata": {
    "tags": []
   },
   "outputs": [
    {
     "data": {
      "text/plain": [
       "{'make': ['chevrolet', 'ford', 'volkswagen', 'toyota', 'dodge'],\n",
       " 'engine_fuel_type': ['regular_unleaded',\n",
       "  'premium_unleaded_(required)',\n",
       "  'premium_unleaded_(recommended)',\n",
       "  'flex-fuel_(unleaded/e85)',\n",
       "  'diesel'],\n",
       " 'transmission_type': ['automatic',\n",
       "  'manual',\n",
       "  'automated_manual',\n",
       "  'direct_drive',\n",
       "  'unknown'],\n",
       " 'driven_wheels': ['front_wheel_drive',\n",
       "  'rear_wheel_drive',\n",
       "  'all_wheel_drive',\n",
       "  'four_wheel_drive'],\n",
       " 'market_category': ['crossover',\n",
       "  'flex_fuel',\n",
       "  'luxury',\n",
       "  'luxury,performance',\n",
       "  'hatchback'],\n",
       " 'vehicle_size': ['compact', 'midsize', 'large'],\n",
       " 'vehicle_style': ['sedan',\n",
       "  '4dr_suv',\n",
       "  'coupe',\n",
       "  'convertible',\n",
       "  '4dr_hatchback']}"
      ]
     },
     "execution_count": 100,
     "metadata": {},
     "output_type": "execute_result"
    }
   ],
   "source": [
    "categories"
   ]
  },
  {
   "cell_type": "code",
   "execution_count": 112,
   "id": "4f098265-a3e3-4c65-9010-5812c9207ec4",
   "metadata": {
    "tags": []
   },
   "outputs": [],
   "source": [
    "def prepare_X(df):\n",
    "    df = df.copy()\n",
    "    base = ['engine_hp','engine_cylinders','highway_mpg', 'city_mpg', 'popularity']\n",
    "    df['age'] = max(df.year.values) - df.year\n",
    "    base = base + ['age']\n",
    "    for v in [2,3,4]:\n",
    "        df[f'num_doors_{v}'] = (df.number_of_doors==v).astype('int')\n",
    "        base.append(f'num_doors_{v}')\n",
    "    for c,values in categories.items():\n",
    "        for v in values:\n",
    "            df[f'{c}_{v}'] = (df[c]==v).astype('int')\n",
    "            base.append(f'{c}_{v}')\n",
    "    # print(df[base])\n",
    "    df_num = df[base]\n",
    "    X = df_num.fillna(0).values\n",
    "    return X"
   ]
  },
  {
   "cell_type": "code",
   "execution_count": 113,
   "id": "5eedc4a0-8542-447c-a574-d2bf815cf87a",
   "metadata": {
    "tags": []
   },
   "outputs": [],
   "source": [
    "X_train = prepare_X(df_train)"
   ]
  },
  {
   "cell_type": "code",
   "execution_count": 114,
   "id": "c112eff5-50b1-4c4b-8516-6288a0dca865",
   "metadata": {
    "tags": []
   },
   "outputs": [],
   "source": [
    "w0,w = train_linear_regression(X_train,y_train)\n",
    "X_val = prepare_X(df_val)\n",
    "y_pred = w0 + X_train.dot(w)"
   ]
  },
  {
   "cell_type": "code",
   "execution_count": 115,
   "id": "83ddc2ee-25fc-483c-a62d-55af33aa2969",
   "metadata": {
    "tags": []
   },
   "outputs": [
    {
     "data": {
      "text/plain": [
       "0.4521472923460664"
      ]
     },
     "execution_count": 115,
     "metadata": {},
     "output_type": "execute_result"
    }
   ],
   "source": [
    "rme(y_train,y_pred)"
   ]
  },
  {
   "cell_type": "code",
   "execution_count": 116,
   "id": "7dcb0dbd-9e19-474f-92cd-63abb68a116a",
   "metadata": {
    "tags": []
   },
   "outputs": [],
   "source": [
    "def train_linear_regression_reg(X,y,r=0.001):\n",
    "    X = np.column_stack([np.ones(X.shape[0]),X])\n",
    "    XTX = X.T.dot(X)\n",
    "    XTX = XTX + np.eye(XTX.shape[0])*r\n",
    "    XTX_inv = np.linalg.inv(XTX)\n",
    "    res = XTX_inv.dot(X.T).dot(y)\n",
    "    return res[0],res[1:]\n",
    "    "
   ]
  },
  {
   "cell_type": "code",
   "execution_count": 117,
   "id": "37aaa0a5-10bb-4273-9e5f-44690df04d0c",
   "metadata": {
    "tags": []
   },
   "outputs": [],
   "source": [
    "w0,w = train_linear_regression(X_train,y_train)\n",
    "X_val = prepare_X(df_val)\n",
    "y_pred = w0 + X_train.dot(w)"
   ]
  },
  {
   "cell_type": "code",
   "execution_count": 118,
   "id": "0fc9f364-6e99-4376-a2bd-d71844828400",
   "metadata": {
    "tags": []
   },
   "outputs": [
    {
     "data": {
      "text/plain": [
       "0.4521472923460664"
      ]
     },
     "execution_count": 118,
     "metadata": {},
     "output_type": "execute_result"
    }
   ],
   "source": [
    "rme(y_train,y_pred)"
   ]
  }
 ],
 "metadata": {
  "kernelspec": {
   "display_name": "Python 3 (ipykernel)",
   "language": "python",
   "name": "python3"
  },
  "language_info": {
   "codemirror_mode": {
    "name": "ipython",
    "version": 3
   },
   "file_extension": ".py",
   "mimetype": "text/x-python",
   "name": "python",
   "nbconvert_exporter": "python",
   "pygments_lexer": "ipython3",
   "version": "3.11.3"
  }
 },
 "nbformat": 4,
 "nbformat_minor": 5
}
